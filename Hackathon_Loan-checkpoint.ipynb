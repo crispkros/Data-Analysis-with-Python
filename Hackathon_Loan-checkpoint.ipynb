{
 "cells": [
  {
   "cell_type": "code",
   "execution_count": 1,
   "metadata": {
    "collapsed": true
   },
   "outputs": [],
   "source": [
    "import pandas as pd\n",
    "import matplotlib.pyplot as plt\n",
    "%matplotlib inline\n",
    "import seaborn as sns\n",
    "import numpy as np"
   ]
  },
  {
   "cell_type": "code",
   "execution_count": 2,
   "metadata": {
    "collapsed": false
   },
   "outputs": [
    {
     "name": "stderr",
     "output_type": "stream",
     "text": [
      "C:\\Users\\rawnite\\Anaconda3\\lib\\site-packages\\ipykernel\\__main__.py:48: SettingWithCopyWarning: \n",
      "A value is trying to be set on a copy of a slice from a DataFrame.\n",
      "Try using .loc[row_indexer,col_indexer] = value instead\n",
      "\n",
      "See the caveats in the documentation: http://pandas.pydata.org/pandas-docs/stable/indexing.html#indexing-view-versus-copy\n"
     ]
    }
   ],
   "source": [
    "train= pd.read_csv(\"Hackathon_LoanPrediction_train.csv\")\n",
    "test= pd.read_csv(\"Hackathon_LoanPrediction_test.csv\")\n",
    "train[\"Category\"]= \"Train\"\n",
    "test[\"Category\"]= \"Test\"\n",
    "\n",
    "# print(train.describe())\n",
    "# print(test.describe())\n",
    "\n",
    "loan= pd.concat([train, test], ignore_index=True)\n",
    "# print(train.shape, test.shape, loan.shape)\n",
    "# print(loan.apply(lambda x: x.isnull().sum()))\n",
    "\n",
    "loan[\"Credit_History\"].fillna(0.0, inplace=True)\n",
    "loan[\"Dependents\"].fillna(\"0\", inplace=True)\n",
    "loan[\"Gender\"].fillna(\"Male\", inplace=True)\n",
    "loan[\"Loan_Amount_Term\"].fillna(360.0, inplace=True)\n",
    "loan[\"Married\"].fillna(\"Yes\", inplace=True)\n",
    "loan[\"Self_Employed\"].fillna(\"No\", inplace=True)\n",
    "loan[\"LoanAmount\"].fillna(loan[\"LoanAmount\"].median(), inplace=True)\n",
    "# loan[\"Dependents\"]=loan[\"Dependents\"].apply(lambda x: 0 if x==\"0\" else 1)\n",
    "\n",
    "loan[\"Coapplicant\"]= loan[\"CoapplicantIncome\"].apply(lambda x: 0 if x==0 else 1)\n",
    "loan[\"Income\"]=loan[\"CoapplicantIncome\"]+ loan[\"ApplicantIncome\"]\n",
    "\n",
    "loan[\"Education\"]= loan[\"Education\"].map({\"Graduate\":1, \"Not Graduate\":0})\n",
    "loan[\"Gender\"]= loan[\"Gender\"].map({\"Male\":1, \"Female\":0})\n",
    "loan[\"Married\"]= loan[\"Married\"].map({\"Yes\":1, \"No\":0})\n",
    "loan[\"Self_Employed\"]= loan[\"Self_Employed\"].map({\"Yes\":1, \"No\":0})\n",
    "loan[\"Loan_Amount_Term\"]= loan[\"Loan_Amount_Term\"]\n",
    "loan[\"Dependents\"]= loan[\"Dependents\"].map({\"0\":0, \"1\":1, \"2\":2,\"3+\":3})\n",
    "loan[\"Property_Area\"]= loan[\"Property_Area\"].map({\"Semiurban\":0, \"Urban\":1, \"Rural\":2})\n",
    "r=0.1/12\n",
    "loan[\"Emi\"]= ((loan[\"LoanAmount\"]*1000)*r*((1+r)**loan[\"Loan_Amount_Term\"]))/(((1+r)**loan[\"Loan_Amount_Term\"])-1)\n",
    "loan[\"Ratio\"]= loan[\"Emi\"]/loan[\"Income\"]\n",
    "loan[\"log_Income\"]= np.log(loan[\"Income\"])\n",
    "loan[\"log_LoanAmount\"]= np.log(loan[\"LoanAmount\"])\n",
    "loan[\"log_EMI\"]= np.log(loan[\"Emi\"])\n",
    "\n",
    "# dummy_area= pd.get_dummies(loan[\"Property_Area\"], prefix=\"Area\")\n",
    "# loan= loan.join(dummy_area)\n",
    "loan.drop([\"Income\",\"Emi\",\"LoanAmount\",\"CoapplicantIncome\",\"ApplicantIncome\"], axis=1, inplace=True)\n",
    "\n",
    "# print(loan[[\"Income\",\"CoapplicantIncome\",\"ApplicantIncome\"]].describe())\n",
    "# loan.drop([\"CoapplicantIncome\",\"ApplicantIncome\"], axis=1, inplace=True)\n",
    "train= loan[loan[\"Category\"]== \"Train\"]\n",
    "test= loan[loan[\"Category\"]== \"Test\"]\n",
    "\n",
    "train[\"Loan_Status\"]=train[\"Loan_Status\"].map({\"Y\":1, \"N\":0})"
   ]
  },
  {
   "cell_type": "code",
   "execution_count": 3,
   "metadata": {
    "collapsed": false
   },
   "outputs": [
    {
     "name": "stdout",
     "output_type": "stream",
     "text": [
      "Index(['Category', 'Credit_History', 'Dependents', 'Education', 'Gender',\n",
      "       'Loan_Amount_Term', 'Loan_ID', 'Loan_Status', 'Married',\n",
      "       'Property_Area', 'Self_Employed', 'Coapplicant', 'Ratio', 'log_Income',\n",
      "       'log_LoanAmount', 'log_EMI'],\n",
      "      dtype='object')\n"
     ]
    }
   ],
   "source": [
    "print(train.columns)"
   ]
  },
  {
   "cell_type": "code",
   "execution_count": 180,
   "metadata": {
    "collapsed": false
   },
   "outputs": [
    {
     "name": "stdout",
     "output_type": "stream",
     "text": [
      "min score: 0.7317073170731707 , avg score: 0.7573770491803279 , max_score: 0.7868852459016393\n",
      "\n",
      "min score: 0.7963340122199593 , avg score: 0.8045617869620652 , max_score: 0.8167006109979633\n",
      "\n",
      "Credit_History    0.360601\n",
      "Ratio             0.180977\n",
      "log_Income        0.151930\n",
      "log_LoanAmount    0.127686\n",
      "log_EMI           0.109375\n",
      "Property_Area     0.069431\n",
      "dtype: float64\n",
      "min score: 0.7317073170731707 , avg score: 0.7704118352658936 , max_score: 0.8048780487804879\n",
      "\n",
      "min score: 0.7682926829268293 , avg score: 0.7752471312900502 , max_score: 0.780040733197556\n",
      "\n",
      "Credit_History    0.342048\n",
      "Ratio             0.198681\n",
      "log_Income        0.150790\n",
      "Property_Area     0.119164\n",
      "log_LoanAmount    0.117237\n",
      "log_EMI           0.072080\n",
      "dtype: float64\n"
     ]
    }
   ],
   "source": [
    "# from sklearn.cross_validation import KFold\n",
    "# from sklearn.linear_model import LogisticRegression\n",
    "# from sklearn.ensemble import RandomForestClassifier\n",
    "# from sklearn.ensemble import GradientBoostingClassifier\n",
    "# from sklearn.svm import SVC\n",
    "\n",
    "# X= train.drop([\"Category\",\"Loan_ID\",\"Loan_Status\",\"Gender\",\"Self_Employed\",\"Married\",\"Dependents\",\"Coapplicant\",\"Education\",\n",
    "#               \"Loan_Amount_Term\"], axis=1)\n",
    "# y =train[\"Loan_Status\"]\n",
    "\n",
    "# def clf_model(alg,X,y):\n",
    "#     kf=KFold(X.shape[0], n_folds=5)\n",
    "#     scores=[]\n",
    "#     scoresTrain=[]\n",
    "#     for train_set, test_set in kf:\n",
    "#         alg.fit(X.iloc[train_set],y.iloc[train_set])\n",
    "#         scoresTrain.append(alg.score(X.iloc[train_set], y.iloc[train_set]))\n",
    "#         scores.append(alg.score(X.iloc[test_set], y.iloc[test_set]))\n",
    "#     print(\"min score: {0} , avg score: {1} , max_score: {2}\".format(min(scores), sum(scores)/len(scores), max(scores)))\n",
    "#     print()\n",
    "#     print(\"min score: {0} , avg score: {1} , max_score: {2}\".format(min(scoresTrain), sum(scoresTrain)/len(scoresTrain), max(scoresTrain)))\n",
    "#     print()    \n",
    "#     print(pd.Series(alg.feature_importances_, index= X.columns).sort_values(ascending=False))\n",
    "    \n",
    "# rf= RandomForestClassifier(oob_score=True, max_depth=10,min_samples_split= 30,max_leaf_nodes=30, \n",
    "#                                                  n_estimators=100, bootstrap=True)\n",
    "# gc= GradientBoostingClassifier(learning_rate=0.1, n_estimators=30,max_depth=4,min_samples_leaf=50,\n",
    "#                                                subsample=0.8)\n",
    "# lr= LogisticRegression()\n",
    "# # clf_model(lr,X,y)\n",
    "# clf_model(rf,X,y)\n",
    "# clf_model(gc,X,y)"
   ]
  },
  {
   "cell_type": "code",
   "execution_count": null,
   "metadata": {
    "collapsed": true
   },
   "outputs": [],
   "source": []
  },
  {
   "cell_type": "code",
   "execution_count": 37,
   "metadata": {
    "collapsed": false
   },
   "outputs": [
    {
     "data": {
      "text/plain": [
       "<matplotlib.axes._subplots.AxesSubplot at 0xea9e9b0>"
      ]
     },
     "execution_count": 37,
     "metadata": {},
     "output_type": "execute_result"
    },
    {
     "data": {
      "image/png": "[encoded data removed]",
      "text/plain": [
       "<matplotlib.figure.Figure at 0xb710ef0>"
      ]
     },
     "metadata": {},
     "output_type": "display_data"
    }
   ],
   "source": [
    "fig,(ax1,ax2,ax3)= plt.subplots(3,2,figsize=(15,10))\n",
    "sns.distplot(train[\"log_LoanAmount\"],bins=50, kde=False, ax=ax1[0])\n",
    "sns.boxplot(y=\"log_LoanAmount\", x=\"Loan_Status\", data=train, ax=ax1[1])\n",
    "sns.distplot(train[\"log_Income\"],bins=50, kde=False, ax=ax2[0])\n",
    "sns.boxplot(y=\"log_Income\", x=\"Loan_Status\", data=train, ax=ax2[1])\n",
    "sns.distplot(train[\"log_EMI\"],bins=50, kde=False, ax=ax3[0])\n",
    "sns.boxplot(y=\"log_EMI\", x=\"Loan_Status\", data=train, ax=ax3[1])"
   ]
  },
  {
   "cell_type": "code",
   "execution_count": 352,
   "metadata": {
    "collapsed": false
   },
   "outputs": [
    {
     "data": {
      "text/plain": [
       "array([ 0.21034725,  0.18926806,  0.16975542,  0.1862928 ,  0.19134676,\n",
       "        0.05298972])"
      ]
     },
     "execution_count": 352,
     "metadata": {},
     "output_type": "execute_result"
    }
   ],
   "source": [
    "# train[[\"Ratio\", \"Credit_History\",\"Emi\",\"Income\",\"Loan_Status\",\"LoanAmount\"]]\n",
    "# from sklearn.ensemble import ExtraTreesClassifier\n",
    "# c= ExtraTreesClassifier()\n",
    "# c.fit(train[[\"Ratio\",\"Credit_History\",\"Emi\",\"Income\",\"LoanAmount\",\"Dependents\"]], train[\"Loan_Status\"])\n",
    "# c.feature_importances_"
   ]
  },
  {
   "cell_type": "code",
   "execution_count": 20,
   "metadata": {
    "collapsed": false
   },
   "outputs": [
    {
     "data": {
      "text/plain": [
       "<matplotlib.axes._subplots.AxesSubplot at 0xd066b70>"
      ]
     },
     "execution_count": 20,
     "metadata": {},
     "output_type": "execute_result"
    },
    {
     "data": {
      "image/png": "[encoded data removed]",
      "text/plain": [
       "<matplotlib.figure.Figure at 0xd6c2810>"
      ]
     },
     "metadata": {},
     "output_type": "display_data"
    }
   ],
   "source": [
    "fig, (ax1, ax2, ax3, ax4)= plt.subplots(4,2, figsize= (25,18))\n",
    "sns.barplot(x= \"Credit_History\", y= \"Loan_Status\", data= train, ax=ax1[0])\n",
    "sns.barplot(x= \"Gender\", y=\"Loan_Status\", data= train, ax=ax1[1])\n",
    "sns.barplot(x= \"Married\", y= \"Loan_Status\", data= train, ax=ax2[0])\n",
    "sns.barplot(x= \"Dependents\", y= \"Loan_Status\", data= train, ax=ax2[1])\n",
    "sns.barplot(x= \"Education\", y= \"Loan_Status\", data= train, ax=ax3[0])\n",
    "sns.barplot(x= \"Property_Area\", y= \"Loan_Status\", data= train, ax=ax3[1])\n",
    "sns.barplot(y= \"Income\", x= \"Loan_Status\", data= train, ax=ax4[0])\n",
    "sns.barplot(x=\"Coapplicant\", y= \"Loan_Status\", data=train, ax=ax4[1])"
   ]
  },
  {
   "cell_type": "markdown",
   "metadata": {},
   "source": [
    "Apparently, applicant with available credit history seems more credible and hence loan approval is relevantly more.\n",
    "Loan approval is more of Graduate over not graduate, presence of coapplicant vs not, married vs unmarried, "
   ]
  },
  {
   "cell_type": "markdown",
   "metadata": {},
   "source": [
    "# Chi_square test for dependency"
   ]
  },
  {
   "cell_type": "code",
   "execution_count": 136,
   "metadata": {
    "collapsed": false
   },
   "outputs": [
    {
     "name": "stdout",
     "output_type": "stream",
     "text": [
      "13.7742521048 0.130585163489\n"
     ]
    }
   ],
   "source": [
    "'''Chi_square test for dependency'''\n",
    "\n",
    "from scipy.stats import chi2_contingency\n",
    "observed= pd.crosstab(train[\"Loan_Amount_Term\"], train[\"Loan_Status\"])\n",
    "chi2, p,df,ex= chi2_contingency(observed)\n",
    "print(chi2, p)"
   ]
  },
  {
   "cell_type": "code",
   "execution_count": 74,
   "metadata": {
    "collapsed": false
   },
   "outputs": [
    {
     "data": {
      "text/plain": [
       "ApplicantIncome          4583\n",
       "Category                Train\n",
       "CoapplicantIncome        1508\n",
       "Credit_History              1\n",
       "Dependents                  1\n",
       "Education                   1\n",
       "Gender                      1\n",
       "Loan_Amount_Term          360\n",
       "Loan_ID              LP001003\n",
       "Loan_Status                 0\n",
       "Married                     1\n",
       "Self_Employed               0\n",
       "Coapplicant                 1\n",
       "Ratio                0.184418\n",
       "log_Income            8.71457\n",
       "log_LoanAmount        4.85203\n",
       "log_EMI               7.02402\n",
       "Area_Rural                  1\n",
       "Area_Semiurban              0\n",
       "Area_Urban                  0\n",
       "Name: 1, dtype: object"
      ]
     },
     "execution_count": 74,
     "metadata": {},
     "output_type": "execute_result"
    }
   ],
   "source": [
    "train.iloc[1]"
   ]
  },
  {
   "cell_type": "code",
   "execution_count": 122,
   "metadata": {
    "collapsed": false
   },
   "outputs": [
    {
     "name": "stdout",
     "output_type": "stream",
     "text": [
      "0.749490835031 0.790224032587 0.771446028513\n",
      "0.691056910569 0.853658536585 0.766016260163\n",
      "[ 0.69105691  0.69105691  0.70731707  0.71544715  0.72357724  0.73170732\n",
      "  0.73170732  0.73170732  0.73170732  0.7398374   0.7398374   0.7398374\n",
      "  0.7398374   0.7398374   0.74796748  0.74796748  0.74796748  0.74796748\n",
      "  0.74796748  0.75609756  0.75609756  0.75609756  0.75609756  0.75609756\n",
      "  0.76422764  0.76422764  0.76422764  0.76422764  0.77235772  0.77235772\n",
      "  0.77235772  0.77235772  0.7804878   0.7804878   0.7804878   0.7804878\n",
      "  0.78861789  0.78861789  0.79674797  0.79674797  0.80487805  0.80487805\n",
      "  0.80487805  0.81300813  0.81300813  0.82113821  0.82113821  0.82113821\n",
      "  0.82926829  0.85365854]\n"
     ]
    }
   ],
   "source": [
    "\n",
    "X= train.drop([\"Category\",\"Loan_ID\",\"Loan_Status\",\"Gender\",\"Self_Employed\",\"Married\",\"Dependents\",\"Coapplicant\",\"Education\",\n",
    "              \"Loan_Amount_Term\"], axis=1)\n",
    "y =train[\"Loan_Status\"]\n",
    "xprime= test.drop([\"Category\",\"Loan_ID\",\"Loan_Status\",\"Gender\",\"Self_Employed\",\"Married\",\"Dependents\",\"Coapplicant\",\"Education\",\n",
    "              \"Loan_Amount_Term\"], axis=1)\n",
    "from sklearn.cross_validation import train_test_split\n",
    "score_train=[]\n",
    "score_test=[]\n",
    "for i in range(50):\n",
    "    X_train, X_test, y_train, y_test= train_test_split(X,y, test_size=0.2)\n",
    "    from sklearn.linear_model import LogisticRegression\n",
    "    lr1= LogisticRegression()\n",
    "    lr1.fit(X_train,y_train)\n",
    "    score_train.append(lr1.score(X_train, y_train))\n",
    "    score_test.append(lr1.score(X_test, y_test))\n",
    "print(min(score_train), max(score_train), np.mean(score_train))\n",
    "print(min(score_test), max(score_test), np.mean(score_test))\n",
    "print(np.sort(score_test))"
   ]
  },
  {
   "cell_type": "code",
   "execution_count": 123,
   "metadata": {
    "collapsed": false
   },
   "outputs": [
    {
     "name": "stdout",
     "output_type": "stream",
     "text": [
      "Index(['Credit_History', 'Property_Area', 'Ratio', 'log_Income',\n",
      "       'log_LoanAmount', 'log_EMI'],\n",
      "      dtype='object')\n"
     ]
    }
   ],
   "source": [
    "print(X.columns)"
   ]
  },
  {
   "cell_type": "code",
   "execution_count": 171,
   "metadata": {
    "collapsed": false
   },
   "outputs": [
    {
     "data": {
      "text/plain": [
       "GridSearchCV(cv=3, error_score='raise',\n",
       "       estimator=RandomForestClassifier(bootstrap=True, class_weight=None, criterion='gini',\n",
       "            max_depth=None, max_features='sqrt', max_leaf_nodes=None,\n",
       "            min_samples_leaf=1, min_samples_split=2,\n",
       "            min_weight_fraction_leaf=0.0, n_estimators=10, n_jobs=1,\n",
       "            oob_score=True, random_state=1, verbose=0, warm_start=False),\n",
       "       fit_params={}, iid=True, n_jobs=-1,\n",
       "       param_grid={'n_estimators': [10, 20, 30, 40, 50, 60, 70, 80, 90, 100, 120, 140, 160, 180, 200, 250, 300, 500, 1000, 1200, 1400]},\n",
       "       pre_dispatch='2*n_jobs', refit=True, scoring=None, verbose=0)"
      ]
     },
     "execution_count": 171,
     "metadata": {},
     "output_type": "execute_result"
    }
   ],
   "source": [
    "from sklearn.ensemble import RandomForestClassifier\n",
    "from sklearn.grid_search import GridSearchCV\n",
    "params1= {\"n_estimators\":[10,20,30,40,50,60,70,80,90,100,120,140,160,180,200,250,300,500,1000,1200,1400]}\n",
    "gridSearch1= GridSearchCV(RandomForestClassifier(oob_score=True, random_state=1, max_features=\"sqrt\"),\n",
    "                          param_grid=params1, n_jobs=-1, cv=3)\n",
    "gridSearch1.fit(X,y)"
   ]
  },
  {
   "cell_type": "code",
   "execution_count": 172,
   "metadata": {
    "collapsed": false
   },
   "outputs": [
    {
     "data": {
      "text/plain": [
       "([mean: 0.69707, std: 0.02684, params: {'n_estimators': 10},\n",
       "  mean: 0.69707, std: 0.02563, params: {'n_estimators': 20},\n",
       "  mean: 0.70195, std: 0.01881, params: {'n_estimators': 30},\n",
       "  mean: 0.71498, std: 0.02406, params: {'n_estimators': 40},\n",
       "  mean: 0.71498, std: 0.02784, params: {'n_estimators': 50},\n",
       "  mean: 0.71336, std: 0.02267, params: {'n_estimators': 60},\n",
       "  mean: 0.70847, std: 0.02724, params: {'n_estimators': 70},\n",
       "  mean: 0.70847, std: 0.02654, params: {'n_estimators': 80},\n",
       "  mean: 0.71010, std: 0.02504, params: {'n_estimators': 90},\n",
       "  mean: 0.71661, std: 0.02285, params: {'n_estimators': 100},\n",
       "  mean: 0.72638, std: 0.01890, params: {'n_estimators': 120},\n",
       "  mean: 0.72638, std: 0.00854, params: {'n_estimators': 140},\n",
       "  mean: 0.72638, std: 0.01253, params: {'n_estimators': 160},\n",
       "  mean: 0.71987, std: 0.01461, params: {'n_estimators': 180},\n",
       "  mean: 0.72150, std: 0.01120, params: {'n_estimators': 200},\n",
       "  mean: 0.71987, std: 0.01065, params: {'n_estimators': 250},\n",
       "  mean: 0.71498, std: 0.02406, params: {'n_estimators': 300},\n",
       "  mean: 0.71824, std: 0.01282, params: {'n_estimators': 500},\n",
       "  mean: 0.71987, std: 0.01065, params: {'n_estimators': 1000},\n",
       "  mean: 0.71661, std: 0.01099, params: {'n_estimators': 1200},\n",
       "  mean: 0.72150, std: 0.00855, params: {'n_estimators': 1400}],\n",
       " {'n_estimators': 120},\n",
       " 0.7263843648208469)"
      ]
     },
     "execution_count": 172,
     "metadata": {},
     "output_type": "execute_result"
    }
   ],
   "source": [
    "gridSearch1.grid_scores_, gridSearch1.best_params_, gridSearch1.best_score_"
   ]
  },
  {
   "cell_type": "code",
   "execution_count": 395,
   "metadata": {
    "collapsed": false
   },
   "outputs": [
    {
     "data": {
      "text/plain": [
       "GridSearchCV(cv=3, error_score='raise',\n",
       "       estimator=RandomForestClassifier(bootstrap=True, class_weight=None, criterion='gini',\n",
       "            max_depth=None, max_features='sqrt', max_leaf_nodes=None,\n",
       "            min_samples_leaf=1, min_samples_split=2,\n",
       "            min_weight_fraction_leaf=0.0, n_estimators=300, n_jobs=1,\n",
       "            oob_score=True, random_state=1, verbose=0, warm_start=False),\n",
       "       fit_params={}, iid=True, n_jobs=-1,\n",
       "       param_grid={'max_depth': [2, 4, 6, 8, 10, 12, 14, 16, 18, 20, 25, 30, 40, 50], 'min_samples_split': [2, 3, 5, 8, 10, 15, 20, 25, 30, 40, 50, 75, 100, 125, 150, 200]},\n",
       "       pre_dispatch='2*n_jobs', refit=True, scoring=None, verbose=0)"
      ]
     },
     "execution_count": 395,
     "metadata": {},
     "output_type": "execute_result"
    }
   ],
   "source": [
    "params2= {\"max_depth\":[2,4,6,8,10,12,14,16,18,20,25,30,40,50], \n",
    "          \"min_samples_split\":[2,3,5,8,10,15,20,25,30,40,50,75,100,125,150,200]}\n",
    "gridSearch2= GridSearchCV(RandomForestClassifier(oob_score=True, random_state=1, n_estimators=300,max_features=\"sqrt\")\n",
    "                          ,param_grid=params2, n_jobs=-1, cv=3)\n",
    "gridSearch2.fit(X,y)"
   ]
  },
  {
   "cell_type": "code",
   "execution_count": 397,
   "metadata": {
    "collapsed": false
   },
   "outputs": [
    {
     "data": {
      "text/plain": [
       "([mean: 0.74430, std: 0.01831, params: {'max_depth': 2, 'min_samples_split': 2},\n",
       "  mean: 0.74430, std: 0.01831, params: {'max_depth': 2, 'min_samples_split': 3},\n",
       "  mean: 0.74430, std: 0.01831, params: {'max_depth': 2, 'min_samples_split': 5},\n",
       "  mean: 0.74104, std: 0.01682, params: {'max_depth': 2, 'min_samples_split': 8},\n",
       "  mean: 0.73941, std: 0.01786, params: {'max_depth': 2, 'min_samples_split': 10},\n",
       "  mean: 0.74104, std: 0.02017, params: {'max_depth': 2, 'min_samples_split': 15},\n",
       "  mean: 0.74267, std: 0.01912, params: {'max_depth': 2, 'min_samples_split': 20},\n",
       "  mean: 0.74104, std: 0.02017, params: {'max_depth': 2, 'min_samples_split': 25},\n",
       "  mean: 0.74104, std: 0.02017, params: {'max_depth': 2, 'min_samples_split': 30},\n",
       "  mean: 0.73941, std: 0.02509, params: {'max_depth': 2, 'min_samples_split': 40},\n",
       "  mean: 0.73616, std: 0.01681, params: {'max_depth': 2, 'min_samples_split': 50},\n",
       "  mean: 0.72476, std: 0.02146, params: {'max_depth': 2, 'min_samples_split': 75},\n",
       "  mean: 0.72150, std: 0.01770, params: {'max_depth': 2, 'min_samples_split': 100},\n",
       "  mean: 0.72964, std: 0.02212, params: {'max_depth': 2, 'min_samples_split': 125},\n",
       "  mean: 0.71987, std: 0.01825, params: {'max_depth': 2, 'min_samples_split': 150},\n",
       "  mean: 0.70195, std: 0.00659, params: {'max_depth': 2, 'min_samples_split': 200},\n",
       "  mean: 0.75407, std: 0.02144, params: {'max_depth': 4, 'min_samples_split': 2},\n",
       "  mean: 0.75407, std: 0.02144, params: {'max_depth': 4, 'min_samples_split': 3},\n",
       "  mean: 0.75244, std: 0.01914, params: {'max_depth': 4, 'min_samples_split': 5},\n",
       "  mean: 0.75407, std: 0.01833, params: {'max_depth': 4, 'min_samples_split': 8},\n",
       "  mean: 0.75244, std: 0.01608, params: {'max_depth': 4, 'min_samples_split': 10},\n",
       "  mean: 0.75896, std: 0.01959, params: {'max_depth': 4, 'min_samples_split': 15},\n",
       "  mean: 0.76547, std: 0.02061, params: {'max_depth': 4, 'min_samples_split': 20},\n",
       "  mean: 0.76710, std: 0.02288, params: {'max_depth': 4, 'min_samples_split': 25},\n",
       "  mean: 0.76547, std: 0.02442, params: {'max_depth': 4, 'min_samples_split': 30},\n",
       "  mean: 0.77199, std: 0.02153, params: {'max_depth': 4, 'min_samples_split': 40},\n",
       "  mean: 0.77036, std: 0.02350, params: {'max_depth': 4, 'min_samples_split': 50},\n",
       "  mean: 0.77524, std: 0.02351, params: {'max_depth': 4, 'min_samples_split': 75},\n",
       "  mean: 0.77199, std: 0.01967, params: {'max_depth': 4, 'min_samples_split': 100},\n",
       "  mean: 0.76547, std: 0.02377, params: {'max_depth': 4, 'min_samples_split': 125},\n",
       "  mean: 0.76384, std: 0.01564, params: {'max_depth': 4, 'min_samples_split': 150},\n",
       "  mean: 0.72801, std: 0.02658, params: {'max_depth': 4, 'min_samples_split': 200},\n",
       "  mean: 0.74919, std: 0.01455, params: {'max_depth': 6, 'min_samples_split': 2},\n",
       "  mean: 0.75244, std: 0.01914, params: {'max_depth': 6, 'min_samples_split': 3},\n",
       "  mean: 0.75081, std: 0.01776, params: {'max_depth': 6, 'min_samples_split': 5},\n",
       "  mean: 0.74593, std: 0.01683, params: {'max_depth': 6, 'min_samples_split': 8},\n",
       "  mean: 0.75244, std: 0.01995, params: {'max_depth': 6, 'min_samples_split': 10},\n",
       "  mean: 0.75733, std: 0.02286, params: {'max_depth': 6, 'min_samples_split': 15},\n",
       "  mean: 0.75896, std: 0.02145, params: {'max_depth': 6, 'min_samples_split': 20},\n",
       "  mean: 0.75570, std: 0.02020, params: {'max_depth': 6, 'min_samples_split': 25},\n",
       "  mean: 0.76221, std: 0.01917, params: {'max_depth': 6, 'min_samples_split': 30},\n",
       "  mean: 0.76384, std: 0.01835, params: {'max_depth': 6, 'min_samples_split': 40},\n",
       "  mean: 0.77199, std: 0.02153, params: {'max_depth': 6, 'min_samples_split': 50},\n",
       "  mean: 0.77524, std: 0.02351, params: {'max_depth': 6, 'min_samples_split': 75},\n",
       "  mean: 0.77199, std: 0.01967, params: {'max_depth': 6, 'min_samples_split': 100},\n",
       "  mean: 0.77036, std: 0.02175, params: {'max_depth': 6, 'min_samples_split': 125},\n",
       "  mean: 0.76710, std: 0.01999, params: {'max_depth': 6, 'min_samples_split': 150},\n",
       "  mean: 0.72801, std: 0.02658, params: {'max_depth': 6, 'min_samples_split': 200},\n",
       "  mean: 0.74430, std: 0.01831, params: {'max_depth': 8, 'min_samples_split': 2},\n",
       "  mean: 0.75244, std: 0.01914, params: {'max_depth': 8, 'min_samples_split': 3},\n",
       "  mean: 0.75896, std: 0.02145, params: {'max_depth': 8, 'min_samples_split': 5},\n",
       "  mean: 0.74756, std: 0.01994, params: {'max_depth': 8, 'min_samples_split': 8},\n",
       "  mean: 0.75570, std: 0.02059, params: {'max_depth': 8, 'min_samples_split': 10},\n",
       "  mean: 0.75407, std: 0.02217, params: {'max_depth': 8, 'min_samples_split': 15},\n",
       "  mean: 0.75896, std: 0.01790, params: {'max_depth': 8, 'min_samples_split': 20},\n",
       "  mean: 0.75733, std: 0.02251, params: {'max_depth': 8, 'min_samples_split': 25},\n",
       "  mean: 0.76221, std: 0.01917, params: {'max_depth': 8, 'min_samples_split': 30},\n",
       "  mean: 0.76221, std: 0.01917, params: {'max_depth': 8, 'min_samples_split': 40},\n",
       "  mean: 0.77036, std: 0.02175, params: {'max_depth': 8, 'min_samples_split': 50},\n",
       "  mean: 0.77362, std: 0.02155, params: {'max_depth': 8, 'min_samples_split': 75},\n",
       "  mean: 0.77199, std: 0.01967, params: {'max_depth': 8, 'min_samples_split': 100},\n",
       "  mean: 0.77036, std: 0.02175, params: {'max_depth': 8, 'min_samples_split': 125},\n",
       "  mean: 0.76710, std: 0.01999, params: {'max_depth': 8, 'min_samples_split': 150},\n",
       "  mean: 0.72801, std: 0.02658, params: {'max_depth': 8, 'min_samples_split': 200},\n",
       "  mean: 0.73941, std: 0.01164, params: {'max_depth': 10, 'min_samples_split': 2},\n",
       "  mean: 0.73941, std: 0.01093, params: {'max_depth': 10, 'min_samples_split': 3},\n",
       "  mean: 0.74430, std: 0.00775, params: {'max_depth': 10, 'min_samples_split': 5},\n",
       "  mean: 0.75081, std: 0.02019, params: {'max_depth': 10, 'min_samples_split': 8},\n",
       "  mean: 0.75244, std: 0.01914, params: {'max_depth': 10, 'min_samples_split': 10},\n",
       "  mean: 0.75896, std: 0.01834, params: {'max_depth': 10, 'min_samples_split': 15},\n",
       "  mean: 0.75733, std: 0.01915, params: {'max_depth': 10, 'min_samples_split': 20},\n",
       "  mean: 0.75733, std: 0.02251, params: {'max_depth': 10, 'min_samples_split': 25},\n",
       "  mean: 0.76221, std: 0.01917, params: {'max_depth': 10, 'min_samples_split': 30},\n",
       "  mean: 0.76221, std: 0.01917, params: {'max_depth': 10, 'min_samples_split': 40},\n",
       "  mean: 0.77036, std: 0.02175, params: {'max_depth': 10, 'min_samples_split': 50},\n",
       "  mean: 0.77362, std: 0.02155, params: {'max_depth': 10, 'min_samples_split': 75},\n",
       "  mean: 0.77199, std: 0.01967, params: {'max_depth': 10, 'min_samples_split': 100},\n",
       "  mean: 0.77036, std: 0.02175, params: {'max_depth': 10, 'min_samples_split': 125},\n",
       "  mean: 0.76710, std: 0.01999, params: {'max_depth': 10, 'min_samples_split': 150},\n",
       "  mean: 0.72801, std: 0.02658, params: {'max_depth': 10, 'min_samples_split': 200},\n",
       "  mean: 0.73779, std: 0.01225, params: {'max_depth': 12, 'min_samples_split': 2},\n",
       "  mean: 0.73941, std: 0.01559, params: {'max_depth': 12, 'min_samples_split': 3},\n",
       "  mean: 0.74593, std: 0.00748, params: {'max_depth': 12, 'min_samples_split': 5},\n",
       "  mean: 0.75244, std: 0.02285, params: {'max_depth': 12, 'min_samples_split': 8},\n",
       "  mean: 0.75733, std: 0.02286, params: {'max_depth': 12, 'min_samples_split': 10},\n",
       "  mean: 0.75896, std: 0.01834, params: {'max_depth': 12, 'min_samples_split': 15},\n",
       "  mean: 0.75896, std: 0.02145, params: {'max_depth': 12, 'min_samples_split': 20},\n",
       "  mean: 0.75733, std: 0.02251, params: {'max_depth': 12, 'min_samples_split': 25},\n",
       "  mean: 0.76221, std: 0.01917, params: {'max_depth': 12, 'min_samples_split': 30},\n",
       "  mean: 0.76221, std: 0.01917, params: {'max_depth': 12, 'min_samples_split': 40},\n",
       "  mean: 0.77199, std: 0.02153, params: {'max_depth': 12, 'min_samples_split': 50},\n",
       "  mean: 0.77362, std: 0.02155, params: {'max_depth': 12, 'min_samples_split': 75},\n",
       "  mean: 0.77199, std: 0.01967, params: {'max_depth': 12, 'min_samples_split': 100},\n",
       "  mean: 0.77036, std: 0.02175, params: {'max_depth': 12, 'min_samples_split': 125},\n",
       "  mean: 0.76710, std: 0.01999, params: {'max_depth': 12, 'min_samples_split': 150},\n",
       "  mean: 0.72801, std: 0.02658, params: {'max_depth': 12, 'min_samples_split': 200},\n",
       "  mean: 0.73453, std: 0.01352, params: {'max_depth': 14, 'min_samples_split': 2},\n",
       "  mean: 0.73779, std: 0.01992, params: {'max_depth': 14, 'min_samples_split': 3},\n",
       "  mean: 0.74430, std: 0.01454, params: {'max_depth': 14, 'min_samples_split': 5},\n",
       "  mean: 0.74593, std: 0.01384, params: {'max_depth': 14, 'min_samples_split': 8},\n",
       "  mean: 0.75407, std: 0.02144, params: {'max_depth': 14, 'min_samples_split': 10},\n",
       "  mean: 0.75896, std: 0.01834, params: {'max_depth': 14, 'min_samples_split': 15},\n",
       "  mean: 0.75896, std: 0.02145, params: {'max_depth': 14, 'min_samples_split': 20},\n",
       "  mean: 0.75733, std: 0.02251, params: {'max_depth': 14, 'min_samples_split': 25},\n",
       "  mean: 0.76221, std: 0.01917, params: {'max_depth': 14, 'min_samples_split': 30},\n",
       "  mean: 0.76221, std: 0.01917, params: {'max_depth': 14, 'min_samples_split': 40},\n",
       "  mean: 0.77199, std: 0.02153, params: {'max_depth': 14, 'min_samples_split': 50},\n",
       "  mean: 0.77362, std: 0.02155, params: {'max_depth': 14, 'min_samples_split': 75},\n",
       "  mean: 0.77199, std: 0.01967, params: {'max_depth': 14, 'min_samples_split': 100},\n",
       "  mean: 0.77036, std: 0.02175, params: {'max_depth': 14, 'min_samples_split': 125},\n",
       "  mean: 0.76710, std: 0.01999, params: {'max_depth': 14, 'min_samples_split': 150},\n",
       "  mean: 0.72801, std: 0.02658, params: {'max_depth': 14, 'min_samples_split': 200},\n",
       "  mean: 0.73616, std: 0.01545, params: {'max_depth': 16, 'min_samples_split': 2},\n",
       "  mean: 0.73453, std: 0.02213, params: {'max_depth': 16, 'min_samples_split': 3},\n",
       "  mean: 0.73779, std: 0.00862, params: {'max_depth': 16, 'min_samples_split': 5},\n",
       "  mean: 0.74593, std: 0.01384, params: {'max_depth': 16, 'min_samples_split': 8},\n",
       "  mean: 0.75407, std: 0.02144, params: {'max_depth': 16, 'min_samples_split': 10},\n",
       "  mean: 0.75896, std: 0.01834, params: {'max_depth': 16, 'min_samples_split': 15},\n",
       "  mean: 0.75896, std: 0.02145, params: {'max_depth': 16, 'min_samples_split': 20},\n",
       "  mean: 0.75733, std: 0.02251, params: {'max_depth': 16, 'min_samples_split': 25},\n",
       "  mean: 0.76221, std: 0.01917, params: {'max_depth': 16, 'min_samples_split': 30},\n",
       "  mean: 0.76221, std: 0.01917, params: {'max_depth': 16, 'min_samples_split': 40},\n",
       "  mean: 0.77199, std: 0.02153, params: {'max_depth': 16, 'min_samples_split': 50},\n",
       "  mean: 0.77362, std: 0.02155, params: {'max_depth': 16, 'min_samples_split': 75},\n",
       "  mean: 0.77199, std: 0.01967, params: {'max_depth': 16, 'min_samples_split': 100},\n",
       "  mean: 0.77036, std: 0.02175, params: {'max_depth': 16, 'min_samples_split': 125},\n",
       "  mean: 0.76710, std: 0.01999, params: {'max_depth': 16, 'min_samples_split': 150},\n",
       "  mean: 0.72801, std: 0.02658, params: {'max_depth': 16, 'min_samples_split': 200},\n",
       "  mean: 0.73616, std: 0.01545, params: {'max_depth': 18, 'min_samples_split': 2},\n",
       "  mean: 0.73616, std: 0.02167, params: {'max_depth': 18, 'min_samples_split': 3},\n",
       "  mean: 0.74104, std: 0.01324, params: {'max_depth': 18, 'min_samples_split': 5},\n",
       "  mean: 0.74593, std: 0.01384, params: {'max_depth': 18, 'min_samples_split': 8},\n",
       "  mean: 0.75407, std: 0.02144, params: {'max_depth': 18, 'min_samples_split': 10},\n",
       "  mean: 0.75896, std: 0.01834, params: {'max_depth': 18, 'min_samples_split': 15},\n",
       "  mean: 0.75896, std: 0.02145, params: {'max_depth': 18, 'min_samples_split': 20},\n",
       "  mean: 0.75733, std: 0.02251, params: {'max_depth': 18, 'min_samples_split': 25},\n",
       "  mean: 0.76221, std: 0.01917, params: {'max_depth': 18, 'min_samples_split': 30},\n",
       "  mean: 0.76221, std: 0.01917, params: {'max_depth': 18, 'min_samples_split': 40},\n",
       "  mean: 0.77199, std: 0.02153, params: {'max_depth': 18, 'min_samples_split': 50},\n",
       "  mean: 0.77362, std: 0.02155, params: {'max_depth': 18, 'min_samples_split': 75},\n",
       "  mean: 0.77199, std: 0.01967, params: {'max_depth': 18, 'min_samples_split': 100},\n",
       "  mean: 0.77036, std: 0.02175, params: {'max_depth': 18, 'min_samples_split': 125},\n",
       "  mean: 0.76710, std: 0.01999, params: {'max_depth': 18, 'min_samples_split': 150},\n",
       "  mean: 0.72801, std: 0.02658, params: {'max_depth': 18, 'min_samples_split': 200},\n",
       "  mean: 0.73616, std: 0.01545, params: {'max_depth': 20, 'min_samples_split': 2},\n",
       "  mean: 0.73616, std: 0.02167, params: {'max_depth': 20, 'min_samples_split': 3},\n",
       "  mean: 0.74104, std: 0.01324, params: {'max_depth': 20, 'min_samples_split': 5},\n",
       "  mean: 0.74593, std: 0.01384, params: {'max_depth': 20, 'min_samples_split': 8},\n",
       "  mean: 0.75407, std: 0.02144, params: {'max_depth': 20, 'min_samples_split': 10},\n",
       "  mean: 0.75896, std: 0.01834, params: {'max_depth': 20, 'min_samples_split': 15},\n",
       "  mean: 0.75896, std: 0.02145, params: {'max_depth': 20, 'min_samples_split': 20},\n",
       "  mean: 0.75733, std: 0.02251, params: {'max_depth': 20, 'min_samples_split': 25},\n",
       "  mean: 0.76221, std: 0.01917, params: {'max_depth': 20, 'min_samples_split': 30},\n",
       "  mean: 0.76221, std: 0.01917, params: {'max_depth': 20, 'min_samples_split': 40},\n",
       "  mean: 0.77199, std: 0.02153, params: {'max_depth': 20, 'min_samples_split': 50},\n",
       "  mean: 0.77362, std: 0.02155, params: {'max_depth': 20, 'min_samples_split': 75},\n",
       "  mean: 0.77199, std: 0.01967, params: {'max_depth': 20, 'min_samples_split': 100},\n",
       "  mean: 0.77036, std: 0.02175, params: {'max_depth': 20, 'min_samples_split': 125},\n",
       "  mean: 0.76710, std: 0.01999, params: {'max_depth': 20, 'min_samples_split': 150},\n",
       "  mean: 0.72801, std: 0.02658, params: {'max_depth': 20, 'min_samples_split': 200},\n",
       "  mean: 0.73616, std: 0.01545, params: {'max_depth': 25, 'min_samples_split': 2},\n",
       "  mean: 0.73453, std: 0.02213, params: {'max_depth': 25, 'min_samples_split': 3},\n",
       "  mean: 0.74104, std: 0.01324, params: {'max_depth': 25, 'min_samples_split': 5},\n",
       "  mean: 0.74593, std: 0.01384, params: {'max_depth': 25, 'min_samples_split': 8},\n",
       "  mean: 0.75407, std: 0.02144, params: {'max_depth': 25, 'min_samples_split': 10},\n",
       "  mean: 0.75896, std: 0.01834, params: {'max_depth': 25, 'min_samples_split': 15},\n",
       "  mean: 0.75896, std: 0.02145, params: {'max_depth': 25, 'min_samples_split': 20},\n",
       "  mean: 0.75733, std: 0.02251, params: {'max_depth': 25, 'min_samples_split': 25},\n",
       "  mean: 0.76221, std: 0.01917, params: {'max_depth': 25, 'min_samples_split': 30},\n",
       "  mean: 0.76221, std: 0.01917, params: {'max_depth': 25, 'min_samples_split': 40},\n",
       "  mean: 0.77199, std: 0.02153, params: {'max_depth': 25, 'min_samples_split': 50},\n",
       "  mean: 0.77362, std: 0.02155, params: {'max_depth': 25, 'min_samples_split': 75},\n",
       "  mean: 0.77199, std: 0.01967, params: {'max_depth': 25, 'min_samples_split': 100},\n",
       "  mean: 0.77036, std: 0.02175, params: {'max_depth': 25, 'min_samples_split': 125},\n",
       "  mean: 0.76710, std: 0.01999, params: {'max_depth': 25, 'min_samples_split': 150},\n",
       "  mean: 0.72801, std: 0.02658, params: {'max_depth': 25, 'min_samples_split': 200},\n",
       "  mean: 0.73616, std: 0.01545, params: {'max_depth': 30, 'min_samples_split': 2},\n",
       "  mean: 0.73453, std: 0.02213, params: {'max_depth': 30, 'min_samples_split': 3},\n",
       "  mean: 0.74104, std: 0.01324, params: {'max_depth': 30, 'min_samples_split': 5},\n",
       "  mean: 0.74593, std: 0.01384, params: {'max_depth': 30, 'min_samples_split': 8},\n",
       "  mean: 0.75407, std: 0.02144, params: {'max_depth': 30, 'min_samples_split': 10},\n",
       "  mean: 0.75896, std: 0.01834, params: {'max_depth': 30, 'min_samples_split': 15},\n",
       "  mean: 0.75896, std: 0.02145, params: {'max_depth': 30, 'min_samples_split': 20},\n",
       "  mean: 0.75733, std: 0.02251, params: {'max_depth': 30, 'min_samples_split': 25},\n",
       "  mean: 0.76221, std: 0.01917, params: {'max_depth': 30, 'min_samples_split': 30},\n",
       "  mean: 0.76221, std: 0.01917, params: {'max_depth': 30, 'min_samples_split': 40},\n",
       "  mean: 0.77199, std: 0.02153, params: {'max_depth': 30, 'min_samples_split': 50},\n",
       "  mean: 0.77362, std: 0.02155, params: {'max_depth': 30, 'min_samples_split': 75},\n",
       "  mean: 0.77199, std: 0.01967, params: {'max_depth': 30, 'min_samples_split': 100},\n",
       "  mean: 0.77036, std: 0.02175, params: {'max_depth': 30, 'min_samples_split': 125},\n",
       "  mean: 0.76710, std: 0.01999, params: {'max_depth': 30, 'min_samples_split': 150},\n",
       "  mean: 0.72801, std: 0.02658, params: {'max_depth': 30, 'min_samples_split': 200},\n",
       "  mean: 0.73616, std: 0.01545, params: {'max_depth': 40, 'min_samples_split': 2},\n",
       "  mean: 0.73453, std: 0.02213, params: {'max_depth': 40, 'min_samples_split': 3},\n",
       "  mean: 0.74104, std: 0.01324, params: {'max_depth': 40, 'min_samples_split': 5},\n",
       "  mean: 0.74593, std: 0.01384, params: {'max_depth': 40, 'min_samples_split': 8},\n",
       "  mean: 0.75407, std: 0.02144, params: {'max_depth': 40, 'min_samples_split': 10},\n",
       "  mean: 0.75896, std: 0.01834, params: {'max_depth': 40, 'min_samples_split': 15},\n",
       "  mean: 0.75896, std: 0.02145, params: {'max_depth': 40, 'min_samples_split': 20},\n",
       "  mean: 0.75733, std: 0.02251, params: {'max_depth': 40, 'min_samples_split': 25},\n",
       "  mean: 0.76221, std: 0.01917, params: {'max_depth': 40, 'min_samples_split': 30},\n",
       "  mean: 0.76221, std: 0.01917, params: {'max_depth': 40, 'min_samples_split': 40},\n",
       "  mean: 0.77199, std: 0.02153, params: {'max_depth': 40, 'min_samples_split': 50},\n",
       "  mean: 0.77362, std: 0.02155, params: {'max_depth': 40, 'min_samples_split': 75},\n",
       "  mean: 0.77199, std: 0.01967, params: {'max_depth': 40, 'min_samples_split': 100},\n",
       "  mean: 0.77036, std: 0.02175, params: {'max_depth': 40, 'min_samples_split': 125},\n",
       "  mean: 0.76710, std: 0.01999, params: {'max_depth': 40, 'min_samples_split': 150},\n",
       "  mean: 0.72801, std: 0.02658, params: {'max_depth': 40, 'min_samples_split': 200},\n",
       "  mean: 0.73616, std: 0.01545, params: {'max_depth': 50, 'min_samples_split': 2},\n",
       "  mean: 0.73453, std: 0.02213, params: {'max_depth': 50, 'min_samples_split': 3},\n",
       "  mean: 0.74104, std: 0.01324, params: {'max_depth': 50, 'min_samples_split': 5},\n",
       "  mean: 0.74593, std: 0.01384, params: {'max_depth': 50, 'min_samples_split': 8},\n",
       "  mean: 0.75407, std: 0.02144, params: {'max_depth': 50, 'min_samples_split': 10},\n",
       "  mean: 0.75896, std: 0.01834, params: {'max_depth': 50, 'min_samples_split': 15},\n",
       "  mean: 0.75896, std: 0.02145, params: {'max_depth': 50, 'min_samples_split': 20},\n",
       "  mean: 0.75733, std: 0.02251, params: {'max_depth': 50, 'min_samples_split': 25},\n",
       "  mean: 0.76221, std: 0.01917, params: {'max_depth': 50, 'min_samples_split': 30},\n",
       "  mean: 0.76221, std: 0.01917, params: {'max_depth': 50, 'min_samples_split': 40},\n",
       "  mean: 0.77199, std: 0.02153, params: {'max_depth': 50, 'min_samples_split': 50},\n",
       "  mean: 0.77362, std: 0.02155, params: {'max_depth': 50, 'min_samples_split': 75},\n",
       "  mean: 0.77199, std: 0.01967, params: {'max_depth': 50, 'min_samples_split': 100},\n",
       "  mean: 0.77036, std: 0.02175, params: {'max_depth': 50, 'min_samples_split': 125},\n",
       "  mean: 0.76710, std: 0.01999, params: {'max_depth': 50, 'min_samples_split': 150},\n",
       "  mean: 0.72801, std: 0.02658, params: {'max_depth': 50, 'min_samples_split': 200}],\n",
       " {'max_depth': 4, 'min_samples_split': 75},\n",
       " 0.77524429967426711)"
      ]
     },
     "execution_count": 397,
     "metadata": {},
     "output_type": "execute_result"
    }
   ],
   "source": [
    "gridSearch2.grid_scores_, gridSearch2.best_params_, gridSearch2.best_score_"
   ]
  },
  {
   "cell_type": "code",
   "execution_count": 137,
   "metadata": {
    "collapsed": false
   },
   "outputs": [
    {
     "data": {
      "text/plain": [
       "GridSearchCV(cv=3, error_score='raise',\n",
       "       estimator=RandomForestClassifier(bootstrap=True, class_weight=None, criterion='gini',\n",
       "            max_depth=10, max_features='sqrt', max_leaf_nodes=None,\n",
       "            min_samples_leaf=1, min_samples_split=2,\n",
       "            min_weight_fraction_leaf=0.0, n_estimators=100, n_jobs=1,\n",
       "            oob_score=True, random_state=1, verbose=0, warm_start=False),\n",
       "       fit_params={}, iid=True, n_jobs=-1,\n",
       "       param_grid={'min_samples_leaf': [2, 4, 6, 8, 10, 12, 14, 16, 18, 20, 25, 30, 40, 50, 60, 70, 80, 90, 100], 'min_samples_split': [2, 3, 5, 8, 10, 15, 20, 25, 30, 40, 50, 75, 100, 125, 150, 200]},\n",
       "       pre_dispatch='2*n_jobs', refit=True, scoring=None, verbose=0)"
      ]
     },
     "execution_count": 137,
     "metadata": {},
     "output_type": "execute_result"
    }
   ],
   "source": [
    "params3= {\"min_samples_leaf\":[2,4,6,8,10,12,14,16,18,20,25,30,40,50,60,70,80,90,100], \n",
    "          \"min_samples_split\":[2,3,5,8,10,15,20,25,30,40,50,75,100,125,150,200]}\n",
    "gridSearch3= GridSearchCV(RandomForestClassifier(oob_score=True, random_state=1, max_depth=10,\n",
    "                                                 n_estimators=100,max_features=\"sqrt\")\n",
    "                          ,param_grid=params3, n_jobs=-1, cv=3)\n",
    "gridSearch3.fit(X,y)"
   ]
  },
  {
   "cell_type": "code",
   "execution_count": 138,
   "metadata": {
    "collapsed": false
   },
   "outputs": [
    {
     "data": {
      "text/plain": [
       "([mean: 0.75081, std: 0.00351, params: {'min_samples_leaf': 2, 'min_samples_split': 2},\n",
       "  mean: 0.75081, std: 0.00351, params: {'min_samples_leaf': 2, 'min_samples_split': 3},\n",
       "  mean: 0.75570, std: 0.01594, params: {'min_samples_leaf': 2, 'min_samples_split': 5},\n",
       "  mean: 0.75896, std: 0.00998, params: {'min_samples_leaf': 2, 'min_samples_split': 8},\n",
       "  mean: 0.75896, std: 0.00569, params: {'min_samples_leaf': 2, 'min_samples_split': 10},\n",
       "  mean: 0.76221, std: 0.01489, params: {'min_samples_leaf': 2, 'min_samples_split': 15},\n",
       "  mean: 0.76384, std: 0.02033, params: {'min_samples_leaf': 2, 'min_samples_split': 20},\n",
       "  mean: 0.75896, std: 0.00960, params: {'min_samples_leaf': 2, 'min_samples_split': 25},\n",
       "  mean: 0.76221, std: 0.01124, params: {'min_samples_leaf': 2, 'min_samples_split': 30},\n",
       "  mean: 0.77036, std: 0.01717, params: {'min_samples_leaf': 2, 'min_samples_split': 40},\n",
       "  mean: 0.77036, std: 0.01717, params: {'min_samples_leaf': 2, 'min_samples_split': 50},\n",
       "  mean: 0.77199, std: 0.01867, params: {'min_samples_leaf': 2, 'min_samples_split': 75},\n",
       "  mean: 0.75896, std: 0.00894, params: {'min_samples_leaf': 2, 'min_samples_split': 100},\n",
       "  mean: 0.75081, std: 0.00635, params: {'min_samples_leaf': 2, 'min_samples_split': 125},\n",
       "  mean: 0.73127, std: 0.00403, params: {'min_samples_leaf': 2, 'min_samples_split': 150},\n",
       "  mean: 0.70358, std: 0.01168, params: {'min_samples_leaf': 2, 'min_samples_split': 200},\n",
       "  mean: 0.75733, std: 0.01177, params: {'min_samples_leaf': 4, 'min_samples_split': 2},\n",
       "  mean: 0.75733, std: 0.01177, params: {'min_samples_leaf': 4, 'min_samples_split': 3},\n",
       "  mean: 0.75733, std: 0.01177, params: {'min_samples_leaf': 4, 'min_samples_split': 5},\n",
       "  mean: 0.75733, std: 0.01177, params: {'min_samples_leaf': 4, 'min_samples_split': 8},\n",
       "  mean: 0.75570, std: 0.01353, params: {'min_samples_leaf': 4, 'min_samples_split': 10},\n",
       "  mean: 0.76059, std: 0.01549, params: {'min_samples_leaf': 4, 'min_samples_split': 15},\n",
       "  mean: 0.76384, std: 0.01944, params: {'min_samples_leaf': 4, 'min_samples_split': 20},\n",
       "  mean: 0.76384, std: 0.01944, params: {'min_samples_leaf': 4, 'min_samples_split': 25},\n",
       "  mean: 0.76384, std: 0.01584, params: {'min_samples_leaf': 4, 'min_samples_split': 30},\n",
       "  mean: 0.76710, std: 0.01815, params: {'min_samples_leaf': 4, 'min_samples_split': 40},\n",
       "  mean: 0.76873, std: 0.01585, params: {'min_samples_leaf': 4, 'min_samples_split': 50},\n",
       "  mean: 0.76873, std: 0.01936, params: {'min_samples_leaf': 4, 'min_samples_split': 75},\n",
       "  mean: 0.76547, std: 0.01355, params: {'min_samples_leaf': 4, 'min_samples_split': 100},\n",
       "  mean: 0.74756, std: 0.00952, params: {'min_samples_leaf': 4, 'min_samples_split': 125},\n",
       "  mean: 0.72638, std: 0.00629, params: {'min_samples_leaf': 4, 'min_samples_split': 150},\n",
       "  mean: 0.70195, std: 0.01139, params: {'min_samples_leaf': 4, 'min_samples_split': 200},\n",
       "  mean: 0.76221, std: 0.01570, params: {'min_samples_leaf': 6, 'min_samples_split': 2},\n",
       "  mean: 0.76221, std: 0.01570, params: {'min_samples_leaf': 6, 'min_samples_split': 3},\n",
       "  mean: 0.76221, std: 0.01570, params: {'min_samples_leaf': 6, 'min_samples_split': 5},\n",
       "  mean: 0.76221, std: 0.01570, params: {'min_samples_leaf': 6, 'min_samples_split': 8},\n",
       "  mean: 0.76221, std: 0.01570, params: {'min_samples_leaf': 6, 'min_samples_split': 10},\n",
       "  mean: 0.76059, std: 0.01787, params: {'min_samples_leaf': 6, 'min_samples_split': 15},\n",
       "  mean: 0.76059, std: 0.01949, params: {'min_samples_leaf': 6, 'min_samples_split': 20},\n",
       "  mean: 0.76221, std: 0.01965, params: {'min_samples_leaf': 6, 'min_samples_split': 25},\n",
       "  mean: 0.76221, std: 0.01752, params: {'min_samples_leaf': 6, 'min_samples_split': 30},\n",
       "  mean: 0.76384, std: 0.01755, params: {'min_samples_leaf': 6, 'min_samples_split': 40},\n",
       "  mean: 0.76547, std: 0.01788, params: {'min_samples_leaf': 6, 'min_samples_split': 50},\n",
       "  mean: 0.75733, std: 0.01848, params: {'min_samples_leaf': 6, 'min_samples_split': 75},\n",
       "  mean: 0.74756, std: 0.01846, params: {'min_samples_leaf': 6, 'min_samples_split': 100},\n",
       "  mean: 0.73941, std: 0.01353, params: {'min_samples_leaf': 6, 'min_samples_split': 125},\n",
       "  mean: 0.72150, std: 0.00628, params: {'min_samples_leaf': 6, 'min_samples_split': 150},\n",
       "  mean: 0.70358, std: 0.01217, params: {'min_samples_leaf': 6, 'min_samples_split': 200},\n",
       "  mean: 0.75570, std: 0.01948, params: {'min_samples_leaf': 8, 'min_samples_split': 2},\n",
       "  mean: 0.75570, std: 0.01948, params: {'min_samples_leaf': 8, 'min_samples_split': 3},\n",
       "  mean: 0.75570, std: 0.01948, params: {'min_samples_leaf': 8, 'min_samples_split': 5},\n",
       "  mean: 0.75570, std: 0.01948, params: {'min_samples_leaf': 8, 'min_samples_split': 8},\n",
       "  mean: 0.75570, std: 0.01948, params: {'min_samples_leaf': 8, 'min_samples_split': 10},\n",
       "  mean: 0.75570, std: 0.01948, params: {'min_samples_leaf': 8, 'min_samples_split': 15},\n",
       "  mean: 0.75896, std: 0.02152, params: {'min_samples_leaf': 8, 'min_samples_split': 20},\n",
       "  mean: 0.75244, std: 0.01995, params: {'min_samples_leaf': 8, 'min_samples_split': 25},\n",
       "  mean: 0.75407, std: 0.01833, params: {'min_samples_leaf': 8, 'min_samples_split': 30},\n",
       "  mean: 0.75733, std: 0.02150, params: {'min_samples_leaf': 8, 'min_samples_split': 40},\n",
       "  mean: 0.76221, std: 0.01965, params: {'min_samples_leaf': 8, 'min_samples_split': 50},\n",
       "  mean: 0.75733, std: 0.02781, params: {'min_samples_leaf': 8, 'min_samples_split': 75},\n",
       "  mean: 0.74919, std: 0.01752, params: {'min_samples_leaf': 8, 'min_samples_split': 100},\n",
       "  mean: 0.73453, std: 0.02140, params: {'min_samples_leaf': 8, 'min_samples_split': 125},\n",
       "  mean: 0.71010, std: 0.00561, params: {'min_samples_leaf': 8, 'min_samples_split': 150},\n",
       "  mean: 0.69870, std: 0.01216, params: {'min_samples_leaf': 8, 'min_samples_split': 200},\n",
       "  mean: 0.76059, std: 0.02828, params: {'min_samples_leaf': 10, 'min_samples_split': 2},\n",
       "  mean: 0.76059, std: 0.02828, params: {'min_samples_leaf': 10, 'min_samples_split': 3},\n",
       "  mean: 0.76059, std: 0.02828, params: {'min_samples_leaf': 10, 'min_samples_split': 5},\n",
       "  mean: 0.76059, std: 0.02828, params: {'min_samples_leaf': 10, 'min_samples_split': 8},\n",
       "  mean: 0.76059, std: 0.02828, params: {'min_samples_leaf': 10, 'min_samples_split': 10},\n",
       "  mean: 0.76059, std: 0.02828, params: {'min_samples_leaf': 10, 'min_samples_split': 15},\n",
       "  mean: 0.76059, std: 0.02828, params: {'min_samples_leaf': 10, 'min_samples_split': 20},\n",
       "  mean: 0.75244, std: 0.02285, params: {'min_samples_leaf': 10, 'min_samples_split': 25},\n",
       "  mean: 0.75244, std: 0.02604, params: {'min_samples_leaf': 10, 'min_samples_split': 30},\n",
       "  mean: 0.75733, std: 0.02665, params: {'min_samples_leaf': 10, 'min_samples_split': 40},\n",
       "  mean: 0.75570, std: 0.02567, params: {'min_samples_leaf': 10, 'min_samples_split': 50},\n",
       "  mean: 0.75570, std: 0.02347, params: {'min_samples_leaf': 10, 'min_samples_split': 75},\n",
       "  mean: 0.73941, std: 0.02148, params: {'min_samples_leaf': 10, 'min_samples_split': 100},\n",
       "  mean: 0.71987, std: 0.01089, params: {'min_samples_leaf': 10, 'min_samples_split': 125},\n",
       "  mean: 0.70521, std: 0.00560, params: {'min_samples_leaf': 10, 'min_samples_split': 150},\n",
       "  mean: 0.69381, std: 0.00852, params: {'min_samples_leaf': 10, 'min_samples_split': 200},\n",
       "  mean: 0.75081, std: 0.03064, params: {'min_samples_leaf': 12, 'min_samples_split': 2},\n",
       "  mean: 0.75081, std: 0.03064, params: {'min_samples_leaf': 12, 'min_samples_split': 3},\n",
       "  mean: 0.75081, std: 0.03064, params: {'min_samples_leaf': 12, 'min_samples_split': 5},\n",
       "  mean: 0.75081, std: 0.03064, params: {'min_samples_leaf': 12, 'min_samples_split': 8},\n",
       "  mean: 0.75081, std: 0.03064, params: {'min_samples_leaf': 12, 'min_samples_split': 10},\n",
       "  mean: 0.75081, std: 0.03064, params: {'min_samples_leaf': 12, 'min_samples_split': 15},\n",
       "  mean: 0.75081, std: 0.03064, params: {'min_samples_leaf': 12, 'min_samples_split': 20},\n",
       "  mean: 0.75244, std: 0.02969, params: {'min_samples_leaf': 12, 'min_samples_split': 25},\n",
       "  mean: 0.75407, std: 0.03198, params: {'min_samples_leaf': 12, 'min_samples_split': 30},\n",
       "  mean: 0.75570, std: 0.02741, params: {'min_samples_leaf': 12, 'min_samples_split': 40},\n",
       "  mean: 0.76059, std: 0.02747, params: {'min_samples_leaf': 12, 'min_samples_split': 50},\n",
       "  mean: 0.76059, std: 0.02568, params: {'min_samples_leaf': 12, 'min_samples_split': 75},\n",
       "  mean: 0.74267, std: 0.02147, params: {'min_samples_leaf': 12, 'min_samples_split': 100},\n",
       "  mean: 0.71336, std: 0.00269, params: {'min_samples_leaf': 12, 'min_samples_split': 125},\n",
       "  mean: 0.71173, std: 0.00343, params: {'min_samples_leaf': 12, 'min_samples_split': 150},\n",
       "  mean: 0.69381, std: 0.00852, params: {'min_samples_leaf': 12, 'min_samples_split': 200},\n",
       "  mean: 0.75244, std: 0.02942, params: {'min_samples_leaf': 14, 'min_samples_split': 2},\n",
       "  mean: 0.75244, std: 0.02942, params: {'min_samples_leaf': 14, 'min_samples_split': 3},\n",
       "  mean: 0.75244, std: 0.02942, params: {'min_samples_leaf': 14, 'min_samples_split': 5},\n",
       "  mean: 0.75244, std: 0.02942, params: {'min_samples_leaf': 14, 'min_samples_split': 8},\n",
       "  mean: 0.75244, std: 0.02942, params: {'min_samples_leaf': 14, 'min_samples_split': 10},\n",
       "  mean: 0.75244, std: 0.02942, params: {'min_samples_leaf': 14, 'min_samples_split': 15},\n",
       "  mean: 0.75244, std: 0.02942, params: {'min_samples_leaf': 14, 'min_samples_split': 20},\n",
       "  mean: 0.75244, std: 0.02942, params: {'min_samples_leaf': 14, 'min_samples_split': 25},\n",
       "  mean: 0.74919, std: 0.02143, params: {'min_samples_leaf': 14, 'min_samples_split': 30},\n",
       "  mean: 0.75896, std: 0.02607, params: {'min_samples_leaf': 14, 'min_samples_split': 40},\n",
       "  mean: 0.75896, std: 0.02607, params: {'min_samples_leaf': 14, 'min_samples_split': 50},\n",
       "  mean: 0.75896, std: 0.02755, params: {'min_samples_leaf': 14, 'min_samples_split': 75},\n",
       "  mean: 0.73941, std: 0.02353, params: {'min_samples_leaf': 14, 'min_samples_split': 100},\n",
       "  mean: 0.70847, std: 0.00163, params: {'min_samples_leaf': 14, 'min_samples_split': 125},\n",
       "  mean: 0.70684, std: 0.00991, params: {'min_samples_leaf': 14, 'min_samples_split': 150},\n",
       "  mean: 0.69218, std: 0.00621, params: {'min_samples_leaf': 14, 'min_samples_split': 200},\n",
       "  mean: 0.75081, std: 0.02373, params: {'min_samples_leaf': 16, 'min_samples_split': 2},\n",
       "  mean: 0.75081, std: 0.02373, params: {'min_samples_leaf': 16, 'min_samples_split': 3},\n",
       "  mean: 0.75081, std: 0.02373, params: {'min_samples_leaf': 16, 'min_samples_split': 5},\n",
       "  mean: 0.75081, std: 0.02373, params: {'min_samples_leaf': 16, 'min_samples_split': 8},\n",
       "  mean: 0.75081, std: 0.02373, params: {'min_samples_leaf': 16, 'min_samples_split': 10},\n",
       "  mean: 0.75081, std: 0.02373, params: {'min_samples_leaf': 16, 'min_samples_split': 15},\n",
       "  mean: 0.75081, std: 0.02373, params: {'min_samples_leaf': 16, 'min_samples_split': 20},\n",
       "  mean: 0.75081, std: 0.02373, params: {'min_samples_leaf': 16, 'min_samples_split': 25},\n",
       "  mean: 0.75081, std: 0.02373, params: {'min_samples_leaf': 16, 'min_samples_split': 30},\n",
       "  mean: 0.75244, std: 0.02285, params: {'min_samples_leaf': 16, 'min_samples_split': 40},\n",
       "  mean: 0.75244, std: 0.02969, params: {'min_samples_leaf': 16, 'min_samples_split': 50},\n",
       "  mean: 0.75081, std: 0.03215, params: {'min_samples_leaf': 16, 'min_samples_split': 75},\n",
       "  mean: 0.73941, std: 0.01955, params: {'min_samples_leaf': 16, 'min_samples_split': 100},\n",
       "  mean: 0.71336, std: 0.00431, params: {'min_samples_leaf': 16, 'min_samples_split': 125},\n",
       "  mean: 0.69381, std: 0.00665, params: {'min_samples_leaf': 16, 'min_samples_split': 150},\n",
       "  mean: 0.68730, std: 0.00072, params: {'min_samples_leaf': 16, 'min_samples_split': 200},\n",
       "  mean: 0.73616, std: 0.00997, params: {'min_samples_leaf': 18, 'min_samples_split': 2},\n",
       "  mean: 0.73616, std: 0.00997, params: {'min_samples_leaf': 18, 'min_samples_split': 3},\n",
       "  mean: 0.73616, std: 0.00997, params: {'min_samples_leaf': 18, 'min_samples_split': 5},\n",
       "  mean: 0.73616, std: 0.00997, params: {'min_samples_leaf': 18, 'min_samples_split': 8},\n",
       "  mean: 0.73616, std: 0.00997, params: {'min_samples_leaf': 18, 'min_samples_split': 10},\n",
       "  mean: 0.73616, std: 0.00997, params: {'min_samples_leaf': 18, 'min_samples_split': 15},\n",
       "  mean: 0.73616, std: 0.00997, params: {'min_samples_leaf': 18, 'min_samples_split': 20},\n",
       "  mean: 0.73616, std: 0.00997, params: {'min_samples_leaf': 18, 'min_samples_split': 25},\n",
       "  mean: 0.73616, std: 0.00997, params: {'min_samples_leaf': 18, 'min_samples_split': 30},\n",
       "  mean: 0.74919, std: 0.02150, params: {'min_samples_leaf': 18, 'min_samples_split': 40},\n",
       "  mean: 0.74593, std: 0.01384, params: {'min_samples_leaf': 18, 'min_samples_split': 50},\n",
       "  mean: 0.73616, std: 0.01773, params: {'min_samples_leaf': 18, 'min_samples_split': 75},\n",
       "  mean: 0.72801, std: 0.01486, params: {'min_samples_leaf': 18, 'min_samples_split': 100},\n",
       "  mean: 0.70195, std: 0.00069, params: {'min_samples_leaf': 18, 'min_samples_split': 125},\n",
       "  mean: 0.68730, std: 0.00339, params: {'min_samples_leaf': 18, 'min_samples_split': 150},\n",
       "  mean: 0.68567, std: 0.00303, params: {'min_samples_leaf': 18, 'min_samples_split': 200},\n",
       "  mean: 0.73453, std: 0.00956, params: {'min_samples_leaf': 20, 'min_samples_split': 2},\n",
       "  mean: 0.73453, std: 0.00956, params: {'min_samples_leaf': 20, 'min_samples_split': 3},\n",
       "  mean: 0.73453, std: 0.00956, params: {'min_samples_leaf': 20, 'min_samples_split': 5},\n",
       "  mean: 0.73453, std: 0.00956, params: {'min_samples_leaf': 20, 'min_samples_split': 8},\n",
       "  mean: 0.73453, std: 0.00956, params: {'min_samples_leaf': 20, 'min_samples_split': 10},\n",
       "  mean: 0.73453, std: 0.00956, params: {'min_samples_leaf': 20, 'min_samples_split': 15},\n",
       "  mean: 0.73453, std: 0.00956, params: {'min_samples_leaf': 20, 'min_samples_split': 20},\n",
       "  mean: 0.73453, std: 0.00956, params: {'min_samples_leaf': 20, 'min_samples_split': 25},\n",
       "  mean: 0.73453, std: 0.00956, params: {'min_samples_leaf': 20, 'min_samples_split': 30},\n",
       "  mean: 0.73453, std: 0.00956, params: {'min_samples_leaf': 20, 'min_samples_split': 40},\n",
       "  mean: 0.73127, std: 0.00347, params: {'min_samples_leaf': 20, 'min_samples_split': 50},\n",
       "  mean: 0.73290, std: 0.01347, params: {'min_samples_leaf': 20, 'min_samples_split': 75},\n",
       "  mean: 0.72476, std: 0.01259, params: {'min_samples_leaf': 20, 'min_samples_split': 100},\n",
       "  mean: 0.69707, std: 0.00340, params: {'min_samples_leaf': 20, 'min_samples_split': 125},\n",
       "  mean: 0.68567, std: 0.00204, params: {'min_samples_leaf': 20, 'min_samples_split': 150},\n",
       "  mean: 0.68730, std: 0.00072, params: {'min_samples_leaf': 20, 'min_samples_split': 200},\n",
       "  mean: 0.71173, std: 0.00404, params: {'min_samples_leaf': 25, 'min_samples_split': 2},\n",
       "  mean: 0.71173, std: 0.00404, params: {'min_samples_leaf': 25, 'min_samples_split': 3},\n",
       "  mean: 0.71173, std: 0.00404, params: {'min_samples_leaf': 25, 'min_samples_split': 5},\n",
       "  mean: 0.71173, std: 0.00404, params: {'min_samples_leaf': 25, 'min_samples_split': 8},\n",
       "  mean: 0.71173, std: 0.00404, params: {'min_samples_leaf': 25, 'min_samples_split': 10},\n",
       "  mean: 0.71173, std: 0.00404, params: {'min_samples_leaf': 25, 'min_samples_split': 15},\n",
       "  mean: 0.71173, std: 0.00404, params: {'min_samples_leaf': 25, 'min_samples_split': 20},\n",
       "  mean: 0.71173, std: 0.00404, params: {'min_samples_leaf': 25, 'min_samples_split': 25},\n",
       "  mean: 0.71173, std: 0.00404, params: {'min_samples_leaf': 25, 'min_samples_split': 30},\n",
       "  mean: 0.71173, std: 0.00404, params: {'min_samples_leaf': 25, 'min_samples_split': 40},\n",
       "  mean: 0.71173, std: 0.00404, params: {'min_samples_leaf': 25, 'min_samples_split': 50},\n",
       "  mean: 0.70684, std: 0.01012, params: {'min_samples_leaf': 25, 'min_samples_split': 75},\n",
       "  mean: 0.70358, std: 0.00430, params: {'min_samples_leaf': 25, 'min_samples_split': 100},\n",
       "  mean: 0.69707, std: 0.00404, params: {'min_samples_leaf': 25, 'min_samples_split': 125},\n",
       "  mean: 0.68567, std: 0.00204, params: {'min_samples_leaf': 25, 'min_samples_split': 150},\n",
       "  mean: 0.68730, std: 0.00072, params: {'min_samples_leaf': 25, 'min_samples_split': 200},\n",
       "  mean: 0.69707, std: 0.00728, params: {'min_samples_leaf': 30, 'min_samples_split': 2},\n",
       "  mean: 0.69707, std: 0.00728, params: {'min_samples_leaf': 30, 'min_samples_split': 3},\n",
       "  mean: 0.69707, std: 0.00728, params: {'min_samples_leaf': 30, 'min_samples_split': 5},\n",
       "  mean: 0.69707, std: 0.00728, params: {'min_samples_leaf': 30, 'min_samples_split': 8},\n",
       "  mean: 0.69707, std: 0.00728, params: {'min_samples_leaf': 30, 'min_samples_split': 10},\n",
       "  mean: 0.69707, std: 0.00728, params: {'min_samples_leaf': 30, 'min_samples_split': 15},\n",
       "  mean: 0.69707, std: 0.00728, params: {'min_samples_leaf': 30, 'min_samples_split': 20},\n",
       "  mean: 0.69707, std: 0.00728, params: {'min_samples_leaf': 30, 'min_samples_split': 25},\n",
       "  mean: 0.69707, std: 0.00728, params: {'min_samples_leaf': 30, 'min_samples_split': 30},\n",
       "  mean: 0.69707, std: 0.00728, params: {'min_samples_leaf': 30, 'min_samples_split': 40},\n",
       "  mean: 0.69707, std: 0.00728, params: {'min_samples_leaf': 30, 'min_samples_split': 50},\n",
       "  mean: 0.69218, std: 0.00462, params: {'min_samples_leaf': 30, 'min_samples_split': 75},\n",
       "  mean: 0.69218, std: 0.00729, params: {'min_samples_leaf': 30, 'min_samples_split': 100},\n",
       "  mean: 0.69055, std: 0.00500, params: {'min_samples_leaf': 30, 'min_samples_split': 125},\n",
       "  mean: 0.68730, std: 0.00072, params: {'min_samples_leaf': 30, 'min_samples_split': 150},\n",
       "  mean: 0.68730, std: 0.00072, params: {'min_samples_leaf': 30, 'min_samples_split': 200},\n",
       "  mean: 0.68730, std: 0.00072, params: {'min_samples_leaf': 40, 'min_samples_split': 2},\n",
       "  mean: 0.68730, std: 0.00072, params: {'min_samples_leaf': 40, 'min_samples_split': 3},\n",
       "  mean: 0.68730, std: 0.00072, params: {'min_samples_leaf': 40, 'min_samples_split': 5},\n",
       "  mean: 0.68730, std: 0.00072, params: {'min_samples_leaf': 40, 'min_samples_split': 8},\n",
       "  mean: 0.68730, std: 0.00072, params: {'min_samples_leaf': 40, 'min_samples_split': 10},\n",
       "  mean: 0.68730, std: 0.00072, params: {'min_samples_leaf': 40, 'min_samples_split': 15},\n",
       "  mean: 0.68730, std: 0.00072, params: {'min_samples_leaf': 40, 'min_samples_split': 20},\n",
       "  mean: 0.68730, std: 0.00072, params: {'min_samples_leaf': 40, 'min_samples_split': 25},\n",
       "  mean: 0.68730, std: 0.00072, params: {'min_samples_leaf': 40, 'min_samples_split': 30},\n",
       "  mean: 0.68730, std: 0.00072, params: {'min_samples_leaf': 40, 'min_samples_split': 40},\n",
       "  mean: 0.68730, std: 0.00072, params: {'min_samples_leaf': 40, 'min_samples_split': 50},\n",
       "  mean: 0.68730, std: 0.00072, params: {'min_samples_leaf': 40, 'min_samples_split': 75},\n",
       "  mean: 0.68730, std: 0.00072, params: {'min_samples_leaf': 40, 'min_samples_split': 100},\n",
       "  mean: 0.68730, std: 0.00072, params: {'min_samples_leaf': 40, 'min_samples_split': 125},\n",
       "  mean: 0.68730, std: 0.00072, params: {'min_samples_leaf': 40, 'min_samples_split': 150},\n",
       "  mean: 0.68730, std: 0.00072, params: {'min_samples_leaf': 40, 'min_samples_split': 200},\n",
       "  mean: 0.68730, std: 0.00072, params: {'min_samples_leaf': 50, 'min_samples_split': 2},\n",
       "  mean: 0.68730, std: 0.00072, params: {'min_samples_leaf': 50, 'min_samples_split': 3},\n",
       "  mean: 0.68730, std: 0.00072, params: {'min_samples_leaf': 50, 'min_samples_split': 5},\n",
       "  mean: 0.68730, std: 0.00072, params: {'min_samples_leaf': 50, 'min_samples_split': 8},\n",
       "  mean: 0.68730, std: 0.00072, params: {'min_samples_leaf': 50, 'min_samples_split': 10},\n",
       "  mean: 0.68730, std: 0.00072, params: {'min_samples_leaf': 50, 'min_samples_split': 15},\n",
       "  mean: 0.68730, std: 0.00072, params: {'min_samples_leaf': 50, 'min_samples_split': 20},\n",
       "  mean: 0.68730, std: 0.00072, params: {'min_samples_leaf': 50, 'min_samples_split': 25},\n",
       "  mean: 0.68730, std: 0.00072, params: {'min_samples_leaf': 50, 'min_samples_split': 30},\n",
       "  mean: 0.68730, std: 0.00072, params: {'min_samples_leaf': 50, 'min_samples_split': 40},\n",
       "  mean: 0.68730, std: 0.00072, params: {'min_samples_leaf': 50, 'min_samples_split': 50},\n",
       "  mean: 0.68730, std: 0.00072, params: {'min_samples_leaf': 50, 'min_samples_split': 75},\n",
       "  mean: 0.68730, std: 0.00072, params: {'min_samples_leaf': 50, 'min_samples_split': 100},\n",
       "  mean: 0.68730, std: 0.00072, params: {'min_samples_leaf': 50, 'min_samples_split': 125},\n",
       "  mean: 0.68730, std: 0.00072, params: {'min_samples_leaf': 50, 'min_samples_split': 150},\n",
       "  mean: 0.68730, std: 0.00072, params: {'min_samples_leaf': 50, 'min_samples_split': 200},\n",
       "  mean: 0.68730, std: 0.00072, params: {'min_samples_leaf': 60, 'min_samples_split': 2},\n",
       "  mean: 0.68730, std: 0.00072, params: {'min_samples_leaf': 60, 'min_samples_split': 3},\n",
       "  mean: 0.68730, std: 0.00072, params: {'min_samples_leaf': 60, 'min_samples_split': 5},\n",
       "  mean: 0.68730, std: 0.00072, params: {'min_samples_leaf': 60, 'min_samples_split': 8},\n",
       "  mean: 0.68730, std: 0.00072, params: {'min_samples_leaf': 60, 'min_samples_split': 10},\n",
       "  mean: 0.68730, std: 0.00072, params: {'min_samples_leaf': 60, 'min_samples_split': 15},\n",
       "  mean: 0.68730, std: 0.00072, params: {'min_samples_leaf': 60, 'min_samples_split': 20},\n",
       "  mean: 0.68730, std: 0.00072, params: {'min_samples_leaf': 60, 'min_samples_split': 25},\n",
       "  mean: 0.68730, std: 0.00072, params: {'min_samples_leaf': 60, 'min_samples_split': 30},\n",
       "  mean: 0.68730, std: 0.00072, params: {'min_samples_leaf': 60, 'min_samples_split': 40},\n",
       "  mean: 0.68730, std: 0.00072, params: {'min_samples_leaf': 60, 'min_samples_split': 50},\n",
       "  mean: 0.68730, std: 0.00072, params: {'min_samples_leaf': 60, 'min_samples_split': 75},\n",
       "  mean: 0.68730, std: 0.00072, params: {'min_samples_leaf': 60, 'min_samples_split': 100},\n",
       "  mean: 0.68730, std: 0.00072, params: {'min_samples_leaf': 60, 'min_samples_split': 125},\n",
       "  mean: 0.68730, std: 0.00072, params: {'min_samples_leaf': 60, 'min_samples_split': 150},\n",
       "  mean: 0.68730, std: 0.00072, params: {'min_samples_leaf': 60, 'min_samples_split': 200},\n",
       "  mean: 0.68730, std: 0.00072, params: {'min_samples_leaf': 70, 'min_samples_split': 2},\n",
       "  mean: 0.68730, std: 0.00072, params: {'min_samples_leaf': 70, 'min_samples_split': 3},\n",
       "  mean: 0.68730, std: 0.00072, params: {'min_samples_leaf': 70, 'min_samples_split': 5},\n",
       "  mean: 0.68730, std: 0.00072, params: {'min_samples_leaf': 70, 'min_samples_split': 8},\n",
       "  mean: 0.68730, std: 0.00072, params: {'min_samples_leaf': 70, 'min_samples_split': 10},\n",
       "  mean: 0.68730, std: 0.00072, params: {'min_samples_leaf': 70, 'min_samples_split': 15},\n",
       "  mean: 0.68730, std: 0.00072, params: {'min_samples_leaf': 70, 'min_samples_split': 20},\n",
       "  mean: 0.68730, std: 0.00072, params: {'min_samples_leaf': 70, 'min_samples_split': 25},\n",
       "  mean: 0.68730, std: 0.00072, params: {'min_samples_leaf': 70, 'min_samples_split': 30},\n",
       "  mean: 0.68730, std: 0.00072, params: {'min_samples_leaf': 70, 'min_samples_split': 40},\n",
       "  mean: 0.68730, std: 0.00072, params: {'min_samples_leaf': 70, 'min_samples_split': 50},\n",
       "  mean: 0.68730, std: 0.00072, params: {'min_samples_leaf': 70, 'min_samples_split': 75},\n",
       "  mean: 0.68730, std: 0.00072, params: {'min_samples_leaf': 70, 'min_samples_split': 100},\n",
       "  mean: 0.68730, std: 0.00072, params: {'min_samples_leaf': 70, 'min_samples_split': 125},\n",
       "  mean: 0.68730, std: 0.00072, params: {'min_samples_leaf': 70, 'min_samples_split': 150},\n",
       "  mean: 0.68730, std: 0.00072, params: {'min_samples_leaf': 70, 'min_samples_split': 200},\n",
       "  mean: 0.68730, std: 0.00072, params: {'min_samples_leaf': 80, 'min_samples_split': 2},\n",
       "  mean: 0.68730, std: 0.00072, params: {'min_samples_leaf': 80, 'min_samples_split': 3},\n",
       "  mean: 0.68730, std: 0.00072, params: {'min_samples_leaf': 80, 'min_samples_split': 5},\n",
       "  mean: 0.68730, std: 0.00072, params: {'min_samples_leaf': 80, 'min_samples_split': 8},\n",
       "  mean: 0.68730, std: 0.00072, params: {'min_samples_leaf': 80, 'min_samples_split': 10},\n",
       "  mean: 0.68730, std: 0.00072, params: {'min_samples_leaf': 80, 'min_samples_split': 15},\n",
       "  mean: 0.68730, std: 0.00072, params: {'min_samples_leaf': 80, 'min_samples_split': 20},\n",
       "  mean: 0.68730, std: 0.00072, params: {'min_samples_leaf': 80, 'min_samples_split': 25},\n",
       "  mean: 0.68730, std: 0.00072, params: {'min_samples_leaf': 80, 'min_samples_split': 30},\n",
       "  mean: 0.68730, std: 0.00072, params: {'min_samples_leaf': 80, 'min_samples_split': 40},\n",
       "  mean: 0.68730, std: 0.00072, params: {'min_samples_leaf': 80, 'min_samples_split': 50},\n",
       "  mean: 0.68730, std: 0.00072, params: {'min_samples_leaf': 80, 'min_samples_split': 75},\n",
       "  mean: 0.68730, std: 0.00072, params: {'min_samples_leaf': 80, 'min_samples_split': 100},\n",
       "  mean: 0.68730, std: 0.00072, params: {'min_samples_leaf': 80, 'min_samples_split': 125},\n",
       "  mean: 0.68730, std: 0.00072, params: {'min_samples_leaf': 80, 'min_samples_split': 150},\n",
       "  mean: 0.68730, std: 0.00072, params: {'min_samples_leaf': 80, 'min_samples_split': 200},\n",
       "  mean: 0.68730, std: 0.00072, params: {'min_samples_leaf': 90, 'min_samples_split': 2},\n",
       "  mean: 0.68730, std: 0.00072, params: {'min_samples_leaf': 90, 'min_samples_split': 3},\n",
       "  mean: 0.68730, std: 0.00072, params: {'min_samples_leaf': 90, 'min_samples_split': 5},\n",
       "  mean: 0.68730, std: 0.00072, params: {'min_samples_leaf': 90, 'min_samples_split': 8},\n",
       "  mean: 0.68730, std: 0.00072, params: {'min_samples_leaf': 90, 'min_samples_split': 10},\n",
       "  mean: 0.68730, std: 0.00072, params: {'min_samples_leaf': 90, 'min_samples_split': 15},\n",
       "  mean: 0.68730, std: 0.00072, params: {'min_samples_leaf': 90, 'min_samples_split': 20},\n",
       "  mean: 0.68730, std: 0.00072, params: {'min_samples_leaf': 90, 'min_samples_split': 25},\n",
       "  mean: 0.68730, std: 0.00072, params: {'min_samples_leaf': 90, 'min_samples_split': 30},\n",
       "  mean: 0.68730, std: 0.00072, params: {'min_samples_leaf': 90, 'min_samples_split': 40},\n",
       "  mean: 0.68730, std: 0.00072, params: {'min_samples_leaf': 90, 'min_samples_split': 50},\n",
       "  mean: 0.68730, std: 0.00072, params: {'min_samples_leaf': 90, 'min_samples_split': 75},\n",
       "  mean: 0.68730, std: 0.00072, params: {'min_samples_leaf': 90, 'min_samples_split': 100},\n",
       "  mean: 0.68730, std: 0.00072, params: {'min_samples_leaf': 90, 'min_samples_split': 125},\n",
       "  mean: 0.68730, std: 0.00072, params: {'min_samples_leaf': 90, 'min_samples_split': 150},\n",
       "  mean: 0.68730, std: 0.00072, params: {'min_samples_leaf': 90, 'min_samples_split': 200},\n",
       "  mean: 0.68730, std: 0.00072, params: {'min_samples_leaf': 100, 'min_samples_split': 2},\n",
       "  mean: 0.68730, std: 0.00072, params: {'min_samples_leaf': 100, 'min_samples_split': 3},\n",
       "  mean: 0.68730, std: 0.00072, params: {'min_samples_leaf': 100, 'min_samples_split': 5},\n",
       "  mean: 0.68730, std: 0.00072, params: {'min_samples_leaf': 100, 'min_samples_split': 8},\n",
       "  mean: 0.68730, std: 0.00072, params: {'min_samples_leaf': 100, 'min_samples_split': 10},\n",
       "  mean: 0.68730, std: 0.00072, params: {'min_samples_leaf': 100, 'min_samples_split': 15},\n",
       "  mean: 0.68730, std: 0.00072, params: {'min_samples_leaf': 100, 'min_samples_split': 20},\n",
       "  mean: 0.68730, std: 0.00072, params: {'min_samples_leaf': 100, 'min_samples_split': 25},\n",
       "  mean: 0.68730, std: 0.00072, params: {'min_samples_leaf': 100, 'min_samples_split': 30},\n",
       "  mean: 0.68730, std: 0.00072, params: {'min_samples_leaf': 100, 'min_samples_split': 40},\n",
       "  mean: 0.68730, std: 0.00072, params: {'min_samples_leaf': 100, 'min_samples_split': 50},\n",
       "  mean: 0.68730, std: 0.00072, params: {'min_samples_leaf': 100, 'min_samples_split': 75},\n",
       "  mean: 0.68730, std: 0.00072, params: {'min_samples_leaf': 100, 'min_samples_split': 100},\n",
       "  mean: 0.68730, std: 0.00072, params: {'min_samples_leaf': 100, 'min_samples_split': 125},\n",
       "  mean: 0.68730, std: 0.00072, params: {'min_samples_leaf': 100, 'min_samples_split': 150},\n",
       "  mean: 0.68730, std: 0.00072, params: {'min_samples_leaf': 100, 'min_samples_split': 200}],\n",
       " {'min_samples_leaf': 2, 'min_samples_split': 75},\n",
       " 0.7719869706840391)"
      ]
     },
     "execution_count": 138,
     "metadata": {},
     "output_type": "execute_result"
    }
   ],
   "source": [
    "gridSearch3.grid_scores_, gridSearch3.best_params_, gridSearch3.best_score_"
   ]
  },
  {
   "cell_type": "code",
   "execution_count": 144,
   "metadata": {
    "collapsed": false
   },
   "outputs": [
    {
     "data": {
      "text/plain": [
       "GridSearchCV(cv=3, error_score='raise',\n",
       "       estimator=RandomForestClassifier(bootstrap=True, class_weight=None, criterion='gini',\n",
       "            max_depth=10, max_features='sqrt', max_leaf_nodes=None,\n",
       "            min_samples_leaf=1, min_samples_split=50,\n",
       "            min_weight_fraction_leaf=0.0, n_estimators=100, n_jobs=1,\n",
       "            oob_score=True, random_state=1, verbose=0, warm_start=False),\n",
       "       fit_params={}, iid=True, n_jobs=-1,\n",
       "       param_grid={'max_leaf_nodes': array([ 20,  40,  60,  80, 100, 120, 140, 160, 180, 200, 220, 240, 260, 280])},\n",
       "       pre_dispatch='2*n_jobs', refit=True, scoring=None, verbose=0)"
      ]
     },
     "execution_count": 144,
     "metadata": {},
     "output_type": "execute_result"
    }
   ],
   "source": [
    "params4= {\"max_leaf_nodes\": np.arange(20,300,20)}\n",
    "gridSearch4= GridSearchCV(RandomForestClassifier(oob_score=True, random_state=1, max_depth=10,min_samples_split= 50, \n",
    "                                                 n_estimators=100, max_features=\"sqrt\")\n",
    "                          ,param_grid=params4, n_jobs=-1, cv=3)\n",
    "gridSearch4.fit(X,y)"
   ]
  },
  {
   "cell_type": "code",
   "execution_count": 145,
   "metadata": {
    "collapsed": false
   },
   "outputs": [
    {
     "data": {
      "text/plain": [
       "([mean: 0.77036, std: 0.01717, params: {'max_leaf_nodes': 20},\n",
       "  mean: 0.77036, std: 0.01717, params: {'max_leaf_nodes': 40},\n",
       "  mean: 0.77036, std: 0.01717, params: {'max_leaf_nodes': 60},\n",
       "  mean: 0.77036, std: 0.01717, params: {'max_leaf_nodes': 80},\n",
       "  mean: 0.77036, std: 0.01717, params: {'max_leaf_nodes': 100},\n",
       "  mean: 0.77036, std: 0.01717, params: {'max_leaf_nodes': 120},\n",
       "  mean: 0.77036, std: 0.01717, params: {'max_leaf_nodes': 140},\n",
       "  mean: 0.77036, std: 0.01717, params: {'max_leaf_nodes': 160},\n",
       "  mean: 0.77036, std: 0.01717, params: {'max_leaf_nodes': 180},\n",
       "  mean: 0.77036, std: 0.01717, params: {'max_leaf_nodes': 200},\n",
       "  mean: 0.77036, std: 0.01717, params: {'max_leaf_nodes': 220},\n",
       "  mean: 0.77036, std: 0.01717, params: {'max_leaf_nodes': 240},\n",
       "  mean: 0.77036, std: 0.01717, params: {'max_leaf_nodes': 260},\n",
       "  mean: 0.77036, std: 0.01717, params: {'max_leaf_nodes': 280}],\n",
       " {'max_leaf_nodes': 20},\n",
       " 0.77035830618892509)"
      ]
     },
     "execution_count": 145,
     "metadata": {},
     "output_type": "execute_result"
    }
   ],
   "source": [
    "gridSearch4.grid_scores_, gridSearch4.best_params_, gridSearch4.best_score_"
   ]
  },
  {
   "cell_type": "code",
   "execution_count": 13,
   "metadata": {
    "collapsed": false
   },
   "outputs": [
    {
     "name": "stdout",
     "output_type": "stream",
     "text": [
      "0.798370672098\n"
     ]
    },
    {
     "data": {
      "text/plain": [
       "0.74796747967479671"
      ]
     },
     "execution_count": 13,
     "metadata": {},
     "output_type": "execute_result"
    }
   ],
   "source": [
    "from sklearn.ensemble import RandomForestClassifier\n",
    "clf_sub= RandomForestClassifier(oob_score=True, max_depth=10,min_samples_split= 50, \n",
    "                                                 n_estimators=300, max_features=\"sqrt\")\n",
    "clf_sub.fit(X_train,y_train)\n",
    "print(clf_sub.score(X_train,y_train))\n",
    "clf_sub.score(X_test,y_test)"
   ]
  },
  {
   "cell_type": "code",
   "execution_count": 183,
   "metadata": {
    "collapsed": false
   },
   "outputs": [
    {
     "name": "stderr",
     "output_type": "stream",
     "text": [
      "C:\\Users\\rawnite\\Anaconda3\\lib\\site-packages\\ipykernel\\__main__.py:3: SettingWithCopyWarning: \n",
      "A value is trying to be set on a copy of a slice from a DataFrame.\n",
      "Try using .loc[row_indexer,col_indexer] = value instead\n",
      "\n",
      "See the caveats in the documentation: http://pandas.pydata.org/pandas-docs/stable/indexing.html#indexing-view-versus-copy\n",
      "  app.launch_new_instance()\n"
     ]
    },
    {
     "name": "stdout",
     "output_type": "stream",
     "text": [
      "         Loan_Status\n",
      "Loan_ID             \n",
      "LP001015           Y\n",
      "LP001022           Y\n",
      "LP001031           Y\n",
      "LP001035           N\n",
      "LP001051           Y\n"
     ]
    },
    {
     "name": "stderr",
     "output_type": "stream",
     "text": [
      "C:\\Users\\rawnite\\Anaconda3\\lib\\site-packages\\ipykernel\\__main__.py:5: SettingWithCopyWarning: \n",
      "A value is trying to be set on a copy of a slice from a DataFrame.\n",
      "Try using .loc[row_indexer,col_indexer] = value instead\n",
      "\n",
      "See the caveats in the documentation: http://pandas.pydata.org/pandas-docs/stable/indexing.html#indexing-view-versus-copy\n"
     ]
    }
   ],
   "source": [
    "predict= clf_sub.predict(xprime)\n",
    "submission= test[[\"Loan_ID\"]]\n",
    "submission[\"Loan_Status\"]= predict\n",
    "submission.set_index(\"Loan_ID\",inplace=True)\n",
    "submission[\"Loan_Status\"]=submission[\"Loan_Status\"].map({0:\"N\", 1:\"Y\"})\n",
    "print(submission.head())"
   ]
  },
  {
   "cell_type": "code",
   "execution_count": 185,
   "metadata": {
    "collapsed": false
   },
   "outputs": [],
   "source": [
    "submission.to_csv(\"sample_submission.csv\")"
   ]
  },
  {
   "cell_type": "markdown",
   "metadata": {
    "collapsed": true
   },
   "source": [
    "# Gradient Boosting"
   ]
  },
  {
   "cell_type": "code",
   "execution_count": 130,
   "metadata": {
    "collapsed": false
   },
   "outputs": [
    {
     "data": {
      "text/plain": [
       "GridSearchCV(cv=5, error_score='raise',\n",
       "       estimator=GradientBoostingClassifier(init=None, learning_rate=0.1, loss='deviance',\n",
       "              max_depth=10, max_features=None, max_leaf_nodes=None,\n",
       "              min_samples_leaf=1, min_samples_split=2,\n",
       "              min_weight_fraction_leaf=0.0, n_estimators=100,\n",
       "              presort='auto', random_state=0, subsample=0.8, verbose=0,\n",
       "              warm_start=False),\n",
       "       fit_params={}, iid=True, n_jobs=-1,\n",
       "       param_grid={'n_estimators': [10, 20, 30, 40, 50, 60, 70, 80, 90, 100, 120, 140, 160, 180, 200, 250, 300]},\n",
       "       pre_dispatch='2*n_jobs', refit=True, scoring=None, verbose=0)"
      ]
     },
     "execution_count": 130,
     "metadata": {},
     "output_type": "execute_result"
    }
   ],
   "source": [
    "from sklearn.ensemble import GradientBoostingClassifier\n",
    "from sklearn.grid_search import GridSearchCV\n",
    "params_gb1= {\"n_estimators\":[10,20,30,40,50,60,70,80,90,100,120,140,160,180,200,250,300]}\n",
    "grid1= GridSearchCV(GradientBoostingClassifier(learning_rate=0.1,max_depth=10,subsample=0.8, random_state=0), \n",
    "                    param_grid=params_gb1, n_jobs=-1, cv=5)\n",
    "grid1.fit(X,y)"
   ]
  },
  {
   "cell_type": "code",
   "execution_count": 131,
   "metadata": {
    "collapsed": false
   },
   "outputs": [
    {
     "data": {
      "text/plain": [
       "([mean: 0.74267, std: 0.03529, params: {'n_estimators': 10},\n",
       "  mean: 0.75081, std: 0.03350, params: {'n_estimators': 20},\n",
       "  mean: 0.74919, std: 0.02888, params: {'n_estimators': 30},\n",
       "  mean: 0.74430, std: 0.01970, params: {'n_estimators': 40},\n",
       "  mean: 0.73779, std: 0.02009, params: {'n_estimators': 50},\n",
       "  mean: 0.73779, std: 0.01481, params: {'n_estimators': 60},\n",
       "  mean: 0.73127, std: 0.01763, params: {'n_estimators': 70},\n",
       "  mean: 0.72150, std: 0.01681, params: {'n_estimators': 80},\n",
       "  mean: 0.72638, std: 0.02354, params: {'n_estimators': 90},\n",
       "  mean: 0.71661, std: 0.02210, params: {'n_estimators': 100},\n",
       "  mean: 0.71498, std: 0.01940, params: {'n_estimators': 120},\n",
       "  mean: 0.70195, std: 0.02249, params: {'n_estimators': 140},\n",
       "  mean: 0.70684, std: 0.02303, params: {'n_estimators': 160},\n",
       "  mean: 0.71336, std: 0.02614, params: {'n_estimators': 180},\n",
       "  mean: 0.71173, std: 0.02657, params: {'n_estimators': 200},\n",
       "  mean: 0.71173, std: 0.02657, params: {'n_estimators': 250},\n",
       "  mean: 0.71173, std: 0.02657, params: {'n_estimators': 300}],\n",
       " {'n_estimators': 20},\n",
       " 0.750814332247557)"
      ]
     },
     "execution_count": 131,
     "metadata": {},
     "output_type": "execute_result"
    }
   ],
   "source": [
    "grid1.grid_scores_, grid1.best_params_, grid1.best_score_"
   ]
  },
  {
   "cell_type": "code",
   "execution_count": 132,
   "metadata": {
    "collapsed": false
   },
   "outputs": [
    {
     "data": {
      "text/plain": [
       "GridSearchCV(cv=5, error_score='raise',\n",
       "       estimator=GradientBoostingClassifier(init=None, learning_rate=0.1, loss='deviance',\n",
       "              max_depth=3, max_features=None, max_leaf_nodes=None,\n",
       "              min_samples_leaf=1, min_samples_split=2,\n",
       "              min_weight_fraction_leaf=0.0, n_estimators=30,\n",
       "              presort='auto', random_state=0, subsample=0.8, verbose=0,\n",
       "              warm_start=False),\n",
       "       fit_params={}, iid=True, n_jobs=-1,\n",
       "       param_grid={'min_samples_split': [2, 3, 5, 8, 10, 15, 20, 25, 30, 40, 50, 75, 100, 125, 150, 200], 'max_depth': [2, 4, 6, 8, 10, 12, 14, 16, 18, 20, 25, 30, 40, 50]},\n",
       "       pre_dispatch='2*n_jobs', refit=True, scoring=None, verbose=0)"
      ]
     },
     "execution_count": 132,
     "metadata": {},
     "output_type": "execute_result"
    }
   ],
   "source": [
    "params_gb2= {\"max_depth\":[2,4,6,8,10,12,14,16,18,20,25,30,40,50], \n",
    "          \"min_samples_split\":[2,3,5,8,10,15,20,25,30,40,50,75,100,125,150,200]}\n",
    "grid2= GridSearchCV(GradientBoostingClassifier(learning_rate=0.1,n_estimators=30,subsample=0.8, random_state=0), \n",
    "                    param_grid=params_gb2, n_jobs=-1, cv=5)\n",
    "grid2.fit(X,y)"
   ]
  },
  {
   "cell_type": "code",
   "execution_count": 133,
   "metadata": {
    "collapsed": false
   },
   "outputs": [
    {
     "data": {
      "text/plain": [
       "([mean: 0.76547, std: 0.03538, params: {'min_samples_split': 2, 'max_depth': 2},\n",
       "  mean: 0.76547, std: 0.03538, params: {'min_samples_split': 3, 'max_depth': 2},\n",
       "  mean: 0.76547, std: 0.03538, params: {'min_samples_split': 5, 'max_depth': 2},\n",
       "  mean: 0.76547, std: 0.03538, params: {'min_samples_split': 8, 'max_depth': 2},\n",
       "  mean: 0.76547, std: 0.03538, params: {'min_samples_split': 10, 'max_depth': 2},\n",
       "  mean: 0.76547, std: 0.03550, params: {'min_samples_split': 15, 'max_depth': 2},\n",
       "  mean: 0.76384, std: 0.03427, params: {'min_samples_split': 20, 'max_depth': 2},\n",
       "  mean: 0.76384, std: 0.03427, params: {'min_samples_split': 25, 'max_depth': 2},\n",
       "  mean: 0.76059, std: 0.02932, params: {'min_samples_split': 30, 'max_depth': 2},\n",
       "  mean: 0.76221, std: 0.03150, params: {'min_samples_split': 40, 'max_depth': 2},\n",
       "  mean: 0.76221, std: 0.03150, params: {'min_samples_split': 50, 'max_depth': 2},\n",
       "  mean: 0.75896, std: 0.03511, params: {'min_samples_split': 75, 'max_depth': 2},\n",
       "  mean: 0.77036, std: 0.03625, params: {'min_samples_split': 100, 'max_depth': 2},\n",
       "  mean: 0.77036, std: 0.03625, params: {'min_samples_split': 125, 'max_depth': 2},\n",
       "  mean: 0.77036, std: 0.03625, params: {'min_samples_split': 150, 'max_depth': 2},\n",
       "  mean: 0.76873, std: 0.03565, params: {'min_samples_split': 200, 'max_depth': 2},\n",
       "  mean: 0.76873, std: 0.01506, params: {'min_samples_split': 2, 'max_depth': 4},\n",
       "  mean: 0.76873, std: 0.01414, params: {'min_samples_split': 3, 'max_depth': 4},\n",
       "  mean: 0.77850, std: 0.01697, params: {'min_samples_split': 5, 'max_depth': 4},\n",
       "  mean: 0.75896, std: 0.01487, params: {'min_samples_split': 8, 'max_depth': 4},\n",
       "  mean: 0.76710, std: 0.01660, params: {'min_samples_split': 10, 'max_depth': 4},\n",
       "  mean: 0.76384, std: 0.01784, params: {'min_samples_split': 15, 'max_depth': 4},\n",
       "  mean: 0.76710, std: 0.02288, params: {'min_samples_split': 20, 'max_depth': 4},\n",
       "  mean: 0.76221, std: 0.02228, params: {'min_samples_split': 25, 'max_depth': 4},\n",
       "  mean: 0.75570, std: 0.02273, params: {'min_samples_split': 30, 'max_depth': 4},\n",
       "  mean: 0.76384, std: 0.02303, params: {'min_samples_split': 40, 'max_depth': 4},\n",
       "  mean: 0.75570, std: 0.02419, params: {'min_samples_split': 50, 'max_depth': 4},\n",
       "  mean: 0.76059, std: 0.01998, params: {'min_samples_split': 75, 'max_depth': 4},\n",
       "  mean: 0.76221, std: 0.03013, params: {'min_samples_split': 100, 'max_depth': 4},\n",
       "  mean: 0.76221, std: 0.02829, params: {'min_samples_split': 125, 'max_depth': 4},\n",
       "  mean: 0.75896, std: 0.03286, params: {'min_samples_split': 150, 'max_depth': 4},\n",
       "  mean: 0.75896, std: 0.02953, params: {'min_samples_split': 200, 'max_depth': 4},\n",
       "  mean: 0.76547, std: 0.01405, params: {'min_samples_split': 2, 'max_depth': 6},\n",
       "  mean: 0.74593, std: 0.01975, params: {'min_samples_split': 3, 'max_depth': 6},\n",
       "  mean: 0.76059, std: 0.01521, params: {'min_samples_split': 5, 'max_depth': 6},\n",
       "  mean: 0.76547, std: 0.00943, params: {'min_samples_split': 8, 'max_depth': 6},\n",
       "  mean: 0.75081, std: 0.01696, params: {'min_samples_split': 10, 'max_depth': 6},\n",
       "  mean: 0.75081, std: 0.01065, params: {'min_samples_split': 15, 'max_depth': 6},\n",
       "  mean: 0.74919, std: 0.01399, params: {'min_samples_split': 20, 'max_depth': 6},\n",
       "  mean: 0.75896, std: 0.01662, params: {'min_samples_split': 25, 'max_depth': 6},\n",
       "  mean: 0.74430, std: 0.01229, params: {'min_samples_split': 30, 'max_depth': 6},\n",
       "  mean: 0.76384, std: 0.01720, params: {'min_samples_split': 40, 'max_depth': 6},\n",
       "  mean: 0.75244, std: 0.01764, params: {'min_samples_split': 50, 'max_depth': 6},\n",
       "  mean: 0.75896, std: 0.01910, params: {'min_samples_split': 75, 'max_depth': 6},\n",
       "  mean: 0.76873, std: 0.02556, params: {'min_samples_split': 100, 'max_depth': 6},\n",
       "  mean: 0.76059, std: 0.02840, params: {'min_samples_split': 125, 'max_depth': 6},\n",
       "  mean: 0.75733, std: 0.02662, params: {'min_samples_split': 150, 'max_depth': 6},\n",
       "  mean: 0.76059, std: 0.02702, params: {'min_samples_split': 200, 'max_depth': 6},\n",
       "  mean: 0.75570, std: 0.02871, params: {'min_samples_split': 2, 'max_depth': 8},\n",
       "  mean: 0.75081, std: 0.02563, params: {'min_samples_split': 3, 'max_depth': 8},\n",
       "  mean: 0.74756, std: 0.02937, params: {'min_samples_split': 5, 'max_depth': 8},\n",
       "  mean: 0.74593, std: 0.02416, params: {'min_samples_split': 8, 'max_depth': 8},\n",
       "  mean: 0.75570, std: 0.01936, params: {'min_samples_split': 10, 'max_depth': 8},\n",
       "  mean: 0.74919, std: 0.02013, params: {'min_samples_split': 15, 'max_depth': 8},\n",
       "  mean: 0.74104, std: 0.01131, params: {'min_samples_split': 20, 'max_depth': 8},\n",
       "  mean: 0.75081, std: 0.00939, params: {'min_samples_split': 25, 'max_depth': 8},\n",
       "  mean: 0.75407, std: 0.01289, params: {'min_samples_split': 30, 'max_depth': 8},\n",
       "  mean: 0.75896, std: 0.01856, params: {'min_samples_split': 40, 'max_depth': 8},\n",
       "  mean: 0.75081, std: 0.01132, params: {'min_samples_split': 50, 'max_depth': 8},\n",
       "  mean: 0.75407, std: 0.01054, params: {'min_samples_split': 75, 'max_depth': 8},\n",
       "  mean: 0.76221, std: 0.01605, params: {'min_samples_split': 100, 'max_depth': 8},\n",
       "  mean: 0.75733, std: 0.02466, params: {'min_samples_split': 125, 'max_depth': 8},\n",
       "  mean: 0.75896, std: 0.01951, params: {'min_samples_split': 150, 'max_depth': 8},\n",
       "  mean: 0.76221, std: 0.02632, params: {'min_samples_split': 200, 'max_depth': 8},\n",
       "  mean: 0.74919, std: 0.02888, params: {'min_samples_split': 2, 'max_depth': 10},\n",
       "  mean: 0.74430, std: 0.02546, params: {'min_samples_split': 3, 'max_depth': 10},\n",
       "  mean: 0.74267, std: 0.03318, params: {'min_samples_split': 5, 'max_depth': 10},\n",
       "  mean: 0.75081, std: 0.02712, params: {'min_samples_split': 8, 'max_depth': 10},\n",
       "  mean: 0.75896, std: 0.01443, params: {'min_samples_split': 10, 'max_depth': 10},\n",
       "  mean: 0.75081, std: 0.01451, params: {'min_samples_split': 15, 'max_depth': 10},\n",
       "  mean: 0.75570, std: 0.01051, params: {'min_samples_split': 20, 'max_depth': 10},\n",
       "  mean: 0.76059, std: 0.00991, params: {'min_samples_split': 25, 'max_depth': 10},\n",
       "  mean: 0.75733, std: 0.00795, params: {'min_samples_split': 30, 'max_depth': 10},\n",
       "  mean: 0.75896, std: 0.00871, params: {'min_samples_split': 40, 'max_depth': 10},\n",
       "  mean: 0.76059, std: 0.01838, params: {'min_samples_split': 50, 'max_depth': 10},\n",
       "  mean: 0.75570, std: 0.01385, params: {'min_samples_split': 75, 'max_depth': 10},\n",
       "  mean: 0.75570, std: 0.01607, params: {'min_samples_split': 100, 'max_depth': 10},\n",
       "  mean: 0.76221, std: 0.01938, params: {'min_samples_split': 125, 'max_depth': 10},\n",
       "  mean: 0.76059, std: 0.02639, params: {'min_samples_split': 150, 'max_depth': 10},\n",
       "  mean: 0.76221, std: 0.02942, params: {'min_samples_split': 200, 'max_depth': 10},\n",
       "  mean: 0.73290, std: 0.02706, params: {'min_samples_split': 2, 'max_depth': 12},\n",
       "  mean: 0.73616, std: 0.03343, params: {'min_samples_split': 3, 'max_depth': 12},\n",
       "  mean: 0.74430, std: 0.04014, params: {'min_samples_split': 5, 'max_depth': 12},\n",
       "  mean: 0.74756, std: 0.01218, params: {'min_samples_split': 8, 'max_depth': 12},\n",
       "  mean: 0.74267, std: 0.02073, params: {'min_samples_split': 10, 'max_depth': 12},\n",
       "  mean: 0.74919, std: 0.02497, params: {'min_samples_split': 15, 'max_depth': 12},\n",
       "  mean: 0.75244, std: 0.00980, params: {'min_samples_split': 20, 'max_depth': 12},\n",
       "  mean: 0.75244, std: 0.01162, params: {'min_samples_split': 25, 'max_depth': 12},\n",
       "  mean: 0.74756, std: 0.00917, params: {'min_samples_split': 30, 'max_depth': 12},\n",
       "  mean: 0.75244, std: 0.01869, params: {'min_samples_split': 40, 'max_depth': 12},\n",
       "  mean: 0.74756, std: 0.01477, params: {'min_samples_split': 50, 'max_depth': 12},\n",
       "  mean: 0.75896, std: 0.00470, params: {'min_samples_split': 75, 'max_depth': 12},\n",
       "  mean: 0.76547, std: 0.01585, params: {'min_samples_split': 100, 'max_depth': 12},\n",
       "  mean: 0.75407, std: 0.01737, params: {'min_samples_split': 125, 'max_depth': 12},\n",
       "  mean: 0.75733, std: 0.02209, params: {'min_samples_split': 150, 'max_depth': 12},\n",
       "  mean: 0.76221, std: 0.02876, params: {'min_samples_split': 200, 'max_depth': 12},\n",
       "  mean: 0.74104, std: 0.03279, params: {'min_samples_split': 2, 'max_depth': 14},\n",
       "  mean: 0.73290, std: 0.03772, params: {'min_samples_split': 3, 'max_depth': 14},\n",
       "  mean: 0.74104, std: 0.02607, params: {'min_samples_split': 5, 'max_depth': 14},\n",
       "  mean: 0.73941, std: 0.01998, params: {'min_samples_split': 8, 'max_depth': 14},\n",
       "  mean: 0.74756, std: 0.02345, params: {'min_samples_split': 10, 'max_depth': 14},\n",
       "  mean: 0.75570, std: 0.02258, params: {'min_samples_split': 15, 'max_depth': 14},\n",
       "  mean: 0.75407, std: 0.01287, params: {'min_samples_split': 20, 'max_depth': 14},\n",
       "  mean: 0.75081, std: 0.01140, params: {'min_samples_split': 25, 'max_depth': 14},\n",
       "  mean: 0.75896, std: 0.01353, params: {'min_samples_split': 30, 'max_depth': 14},\n",
       "  mean: 0.75896, std: 0.01017, params: {'min_samples_split': 40, 'max_depth': 14},\n",
       "  mean: 0.76059, std: 0.01506, params: {'min_samples_split': 50, 'max_depth': 14},\n",
       "  mean: 0.75570, std: 0.00753, params: {'min_samples_split': 75, 'max_depth': 14},\n",
       "  mean: 0.75244, std: 0.02047, params: {'min_samples_split': 100, 'max_depth': 14},\n",
       "  mean: 0.75733, std: 0.02239, params: {'min_samples_split': 125, 'max_depth': 14},\n",
       "  mean: 0.75896, std: 0.02406, params: {'min_samples_split': 150, 'max_depth': 14},\n",
       "  mean: 0.76059, std: 0.03005, params: {'min_samples_split': 200, 'max_depth': 14},\n",
       "  mean: 0.72964, std: 0.02595, params: {'min_samples_split': 2, 'max_depth': 16},\n",
       "  mean: 0.72313, std: 0.03166, params: {'min_samples_split': 3, 'max_depth': 16},\n",
       "  mean: 0.73779, std: 0.03765, params: {'min_samples_split': 5, 'max_depth': 16},\n",
       "  mean: 0.74756, std: 0.02821, params: {'min_samples_split': 8, 'max_depth': 16},\n",
       "  mean: 0.75407, std: 0.01982, params: {'min_samples_split': 10, 'max_depth': 16},\n",
       "  mean: 0.74430, std: 0.02322, params: {'min_samples_split': 15, 'max_depth': 16},\n",
       "  mean: 0.74919, std: 0.01722, params: {'min_samples_split': 20, 'max_depth': 16},\n",
       "  mean: 0.74919, std: 0.01078, params: {'min_samples_split': 25, 'max_depth': 16},\n",
       "  mean: 0.76059, std: 0.01516, params: {'min_samples_split': 30, 'max_depth': 16},\n",
       "  mean: 0.75570, std: 0.02203, params: {'min_samples_split': 40, 'max_depth': 16},\n",
       "  mean: 0.76221, std: 0.00855, params: {'min_samples_split': 50, 'max_depth': 16},\n",
       "  mean: 0.75244, std: 0.01225, params: {'min_samples_split': 75, 'max_depth': 16},\n",
       "  mean: 0.76059, std: 0.02269, params: {'min_samples_split': 100, 'max_depth': 16},\n",
       "  mean: 0.75733, std: 0.01141, params: {'min_samples_split': 125, 'max_depth': 16},\n",
       "  mean: 0.76221, std: 0.02430, params: {'min_samples_split': 150, 'max_depth': 16},\n",
       "  mean: 0.75896, std: 0.03101, params: {'min_samples_split': 200, 'max_depth': 16},\n",
       "  mean: 0.73127, std: 0.03343, params: {'min_samples_split': 2, 'max_depth': 18},\n",
       "  mean: 0.73453, std: 0.02525, params: {'min_samples_split': 3, 'max_depth': 18},\n",
       "  mean: 0.73941, std: 0.03443, params: {'min_samples_split': 5, 'max_depth': 18},\n",
       "  mean: 0.74104, std: 0.03726, params: {'min_samples_split': 8, 'max_depth': 18},\n",
       "  mean: 0.75081, std: 0.02605, params: {'min_samples_split': 10, 'max_depth': 18},\n",
       "  mean: 0.75570, std: 0.01282, params: {'min_samples_split': 15, 'max_depth': 18},\n",
       "  mean: 0.74593, std: 0.03225, params: {'min_samples_split': 20, 'max_depth': 18},\n",
       "  mean: 0.76384, std: 0.01055, params: {'min_samples_split': 25, 'max_depth': 18},\n",
       "  mean: 0.75407, std: 0.01765, params: {'min_samples_split': 30, 'max_depth': 18},\n",
       "  mean: 0.75570, std: 0.01717, params: {'min_samples_split': 40, 'max_depth': 18},\n",
       "  mean: 0.75244, std: 0.02347, params: {'min_samples_split': 50, 'max_depth': 18},\n",
       "  mean: 0.74919, std: 0.01355, params: {'min_samples_split': 75, 'max_depth': 18},\n",
       "  mean: 0.75896, std: 0.01705, params: {'min_samples_split': 100, 'max_depth': 18},\n",
       "  mean: 0.75896, std: 0.01082, params: {'min_samples_split': 125, 'max_depth': 18},\n",
       "  mean: 0.76059, std: 0.02258, params: {'min_samples_split': 150, 'max_depth': 18},\n",
       "  mean: 0.75896, std: 0.03101, params: {'min_samples_split': 200, 'max_depth': 18},\n",
       "  mean: 0.72801, std: 0.03295, params: {'min_samples_split': 2, 'max_depth': 20},\n",
       "  mean: 0.72964, std: 0.02331, params: {'min_samples_split': 3, 'max_depth': 20},\n",
       "  mean: 0.72476, std: 0.03823, params: {'min_samples_split': 5, 'max_depth': 20},\n",
       "  mean: 0.73941, std: 0.02710, params: {'min_samples_split': 8, 'max_depth': 20},\n",
       "  mean: 0.75896, std: 0.02744, params: {'min_samples_split': 10, 'max_depth': 20},\n",
       "  mean: 0.75244, std: 0.02513, params: {'min_samples_split': 15, 'max_depth': 20},\n",
       "  mean: 0.74430, std: 0.01366, params: {'min_samples_split': 20, 'max_depth': 20},\n",
       "  mean: 0.76547, std: 0.00948, params: {'min_samples_split': 25, 'max_depth': 20},\n",
       "  mean: 0.76384, std: 0.01226, params: {'min_samples_split': 30, 'max_depth': 20},\n",
       "  mean: 0.75407, std: 0.02491, params: {'min_samples_split': 40, 'max_depth': 20},\n",
       "  mean: 0.76384, std: 0.02325, params: {'min_samples_split': 50, 'max_depth': 20},\n",
       "  mean: 0.74756, std: 0.02269, params: {'min_samples_split': 75, 'max_depth': 20},\n",
       "  mean: 0.75896, std: 0.01705, params: {'min_samples_split': 100, 'max_depth': 20},\n",
       "  mean: 0.76221, std: 0.01973, params: {'min_samples_split': 125, 'max_depth': 20},\n",
       "  mean: 0.76059, std: 0.02258, params: {'min_samples_split': 150, 'max_depth': 20},\n",
       "  mean: 0.75896, std: 0.03101, params: {'min_samples_split': 200, 'max_depth': 20},\n",
       "  mean: 0.72964, std: 0.03424, params: {'min_samples_split': 2, 'max_depth': 25},\n",
       "  mean: 0.72801, std: 0.02358, params: {'min_samples_split': 3, 'max_depth': 25},\n",
       "  mean: 0.73616, std: 0.02928, params: {'min_samples_split': 5, 'max_depth': 25},\n",
       "  mean: 0.73779, std: 0.02519, params: {'min_samples_split': 8, 'max_depth': 25},\n",
       "  mean: 0.74430, std: 0.03013, params: {'min_samples_split': 10, 'max_depth': 25},\n",
       "  mean: 0.74756, std: 0.01972, params: {'min_samples_split': 15, 'max_depth': 25},\n",
       "  mean: 0.74593, std: 0.02358, params: {'min_samples_split': 20, 'max_depth': 25},\n",
       "  mean: 0.75081, std: 0.02014, params: {'min_samples_split': 25, 'max_depth': 25},\n",
       "  mean: 0.75407, std: 0.02278, params: {'min_samples_split': 30, 'max_depth': 25},\n",
       "  mean: 0.75570, std: 0.01876, params: {'min_samples_split': 40, 'max_depth': 25},\n",
       "  mean: 0.75081, std: 0.01620, params: {'min_samples_split': 50, 'max_depth': 25},\n",
       "  mean: 0.75081, std: 0.01964, params: {'min_samples_split': 75, 'max_depth': 25},\n",
       "  mean: 0.76059, std: 0.01801, params: {'min_samples_split': 100, 'max_depth': 25},\n",
       "  mean: 0.76059, std: 0.01757, params: {'min_samples_split': 125, 'max_depth': 25},\n",
       "  mean: 0.76059, std: 0.02258, params: {'min_samples_split': 150, 'max_depth': 25},\n",
       "  mean: 0.75896, std: 0.03101, params: {'min_samples_split': 200, 'max_depth': 25},\n",
       "  mean: 0.71661, std: 0.02897, params: {'min_samples_split': 2, 'max_depth': 30},\n",
       "  mean: 0.73616, std: 0.03004, params: {'min_samples_split': 3, 'max_depth': 30},\n",
       "  mean: 0.74104, std: 0.03172, params: {'min_samples_split': 5, 'max_depth': 30},\n",
       "  mean: 0.73941, std: 0.02990, params: {'min_samples_split': 8, 'max_depth': 30},\n",
       "  mean: 0.74919, std: 0.03228, params: {'min_samples_split': 10, 'max_depth': 30},\n",
       "  mean: 0.75570, std: 0.02134, params: {'min_samples_split': 15, 'max_depth': 30},\n",
       "  mean: 0.73127, std: 0.01154, params: {'min_samples_split': 20, 'max_depth': 30},\n",
       "  mean: 0.75081, std: 0.02536, params: {'min_samples_split': 25, 'max_depth': 30},\n",
       "  mean: 0.75570, std: 0.02096, params: {'min_samples_split': 30, 'max_depth': 30},\n",
       "  mean: 0.75570, std: 0.02663, params: {'min_samples_split': 40, 'max_depth': 30},\n",
       "  mean: 0.75570, std: 0.01762, params: {'min_samples_split': 50, 'max_depth': 30},\n",
       "  mean: 0.75081, std: 0.01964, params: {'min_samples_split': 75, 'max_depth': 30},\n",
       "  mean: 0.76059, std: 0.01801, params: {'min_samples_split': 100, 'max_depth': 30},\n",
       "  mean: 0.76059, std: 0.01757, params: {'min_samples_split': 125, 'max_depth': 30},\n",
       "  mean: 0.76059, std: 0.02258, params: {'min_samples_split': 150, 'max_depth': 30},\n",
       "  mean: 0.75896, std: 0.03101, params: {'min_samples_split': 200, 'max_depth': 30},\n",
       "  mean: 0.71498, std: 0.02890, params: {'min_samples_split': 2, 'max_depth': 40},\n",
       "  mean: 0.73616, std: 0.03004, params: {'min_samples_split': 3, 'max_depth': 40},\n",
       "  mean: 0.73779, std: 0.02862, params: {'min_samples_split': 5, 'max_depth': 40},\n",
       "  mean: 0.74267, std: 0.02288, params: {'min_samples_split': 8, 'max_depth': 40},\n",
       "  mean: 0.76059, std: 0.02528, params: {'min_samples_split': 10, 'max_depth': 40},\n",
       "  mean: 0.75244, std: 0.01794, params: {'min_samples_split': 15, 'max_depth': 40},\n",
       "  mean: 0.73453, std: 0.01560, params: {'min_samples_split': 20, 'max_depth': 40},\n",
       "  mean: 0.74919, std: 0.03048, params: {'min_samples_split': 25, 'max_depth': 40},\n",
       "  mean: 0.75407, std: 0.01518, params: {'min_samples_split': 30, 'max_depth': 40},\n",
       "  mean: 0.75570, std: 0.02663, params: {'min_samples_split': 40, 'max_depth': 40},\n",
       "  mean: 0.75570, std: 0.01762, params: {'min_samples_split': 50, 'max_depth': 40},\n",
       "  mean: 0.75081, std: 0.01964, params: {'min_samples_split': 75, 'max_depth': 40},\n",
       "  mean: 0.76059, std: 0.01801, params: {'min_samples_split': 100, 'max_depth': 40},\n",
       "  mean: 0.76059, std: 0.01757, params: {'min_samples_split': 125, 'max_depth': 40},\n",
       "  mean: 0.76059, std: 0.02258, params: {'min_samples_split': 150, 'max_depth': 40},\n",
       "  mean: 0.75896, std: 0.03101, params: {'min_samples_split': 200, 'max_depth': 40},\n",
       "  mean: 0.71498, std: 0.02890, params: {'min_samples_split': 2, 'max_depth': 50},\n",
       "  mean: 0.73616, std: 0.03004, params: {'min_samples_split': 3, 'max_depth': 50},\n",
       "  mean: 0.73779, std: 0.02862, params: {'min_samples_split': 5, 'max_depth': 50},\n",
       "  mean: 0.74267, std: 0.02288, params: {'min_samples_split': 8, 'max_depth': 50},\n",
       "  mean: 0.76059, std: 0.02528, params: {'min_samples_split': 10, 'max_depth': 50},\n",
       "  mean: 0.75244, std: 0.01794, params: {'min_samples_split': 15, 'max_depth': 50},\n",
       "  mean: 0.73453, std: 0.01560, params: {'min_samples_split': 20, 'max_depth': 50},\n",
       "  mean: 0.75081, std: 0.03176, params: {'min_samples_split': 25, 'max_depth': 50},\n",
       "  mean: 0.75407, std: 0.01518, params: {'min_samples_split': 30, 'max_depth': 50},\n",
       "  mean: 0.75570, std: 0.02663, params: {'min_samples_split': 40, 'max_depth': 50},\n",
       "  mean: 0.75570, std: 0.01762, params: {'min_samples_split': 50, 'max_depth': 50},\n",
       "  mean: 0.75081, std: 0.01964, params: {'min_samples_split': 75, 'max_depth': 50},\n",
       "  mean: 0.76059, std: 0.01801, params: {'min_samples_split': 100, 'max_depth': 50},\n",
       "  mean: 0.76059, std: 0.01757, params: {'min_samples_split': 125, 'max_depth': 50},\n",
       "  mean: 0.76059, std: 0.02258, params: {'min_samples_split': 150, 'max_depth': 50},\n",
       "  mean: 0.75896, std: 0.03101, params: {'min_samples_split': 200, 'max_depth': 50}],\n",
       " {'max_depth': 4, 'min_samples_split': 5},\n",
       " 0.77850162866449513)"
      ]
     },
     "execution_count": 133,
     "metadata": {},
     "output_type": "execute_result"
    }
   ],
   "source": [
    "grid2.grid_scores_, grid2.best_params_, grid2.best_score_"
   ]
  },
  {
   "cell_type": "code",
   "execution_count": 140,
   "metadata": {
    "collapsed": false
   },
   "outputs": [
    {
     "data": {
      "text/plain": [
       "GridSearchCV(cv=5, error_score='raise',\n",
       "       estimator=GradientBoostingClassifier(init=None, learning_rate=0.1, loss='deviance',\n",
       "              max_depth=4, max_features=None, max_leaf_nodes=None,\n",
       "              min_samples_leaf=1, min_samples_split=2,\n",
       "              min_weight_fraction_leaf=0.0, n_estimators=30,\n",
       "              presort='auto', random_state=0, subsample=0.8, verbose=0,\n",
       "              warm_start=False),\n",
       "       fit_params={}, iid=True, n_jobs=-1,\n",
       "       param_grid={'min_samples_split': [2, 3, 5, 8, 10, 15, 20, 25, 30, 40, 50, 75, 100, 125, 150, 200], 'min_samples_leaf': [2, 4, 6, 8, 10, 12, 14, 16, 18, 20, 25, 30, 40, 50, 60, 70, 80, 90, 100]},\n",
       "       pre_dispatch='2*n_jobs', refit=True, scoring=None, verbose=0)"
      ]
     },
     "execution_count": 140,
     "metadata": {},
     "output_type": "execute_result"
    }
   ],
   "source": [
    "params_gb3= {\"min_samples_leaf\":[2,4,6,8,10,12,14,16,18,20,25,30,40,50,60,70,80,90,100], \n",
    "          \"min_samples_split\":[2,3,5,8,10,15,20,25,30,40,50,75,100,125,150,200]}\n",
    "grid3= GridSearchCV(GradientBoostingClassifier(learning_rate=0.1,n_estimators=30,max_depth=4,\n",
    "                                               subsample=0.8, random_state=0), \n",
    "                    param_grid=params_gb3, n_jobs=-1, cv=5)\n",
    "grid3.fit(X,y)"
   ]
  },
  {
   "cell_type": "code",
   "execution_count": 142,
   "metadata": {
    "collapsed": false
   },
   "outputs": [
    {
     "data": {
      "text/plain": [
       "([mean: 0.76059, std: 0.02332, params: {'min_samples_split': 2, 'min_samples_leaf': 2},\n",
       "  mean: 0.76059, std: 0.02332, params: {'min_samples_split': 3, 'min_samples_leaf': 2},\n",
       "  mean: 0.75896, std: 0.01523, params: {'min_samples_split': 5, 'min_samples_leaf': 2},\n",
       "  mean: 0.77524, std: 0.02493, params: {'min_samples_split': 8, 'min_samples_leaf': 2},\n",
       "  mean: 0.76221, std: 0.02192, params: {'min_samples_split': 10, 'min_samples_leaf': 2},\n",
       "  mean: 0.75570, std: 0.02430, params: {'min_samples_split': 15, 'min_samples_leaf': 2},\n",
       "  mean: 0.75570, std: 0.02350, params: {'min_samples_split': 20, 'min_samples_leaf': 2},\n",
       "  mean: 0.76059, std: 0.02160, params: {'min_samples_split': 25, 'min_samples_leaf': 2},\n",
       "  mean: 0.76059, std: 0.02160, params: {'min_samples_split': 30, 'min_samples_leaf': 2},\n",
       "  mean: 0.75733, std: 0.01834, params: {'min_samples_split': 40, 'min_samples_leaf': 2},\n",
       "  mean: 0.75570, std: 0.02074, params: {'min_samples_split': 50, 'min_samples_leaf': 2},\n",
       "  mean: 0.76059, std: 0.01675, params: {'min_samples_split': 75, 'min_samples_leaf': 2},\n",
       "  mean: 0.76547, std: 0.02692, params: {'min_samples_split': 100, 'min_samples_leaf': 2},\n",
       "  mean: 0.75896, std: 0.02711, params: {'min_samples_split': 125, 'min_samples_leaf': 2},\n",
       "  mean: 0.75896, std: 0.03161, params: {'min_samples_split': 150, 'min_samples_leaf': 2},\n",
       "  mean: 0.76059, std: 0.03005, params: {'min_samples_split': 200, 'min_samples_leaf': 2},\n",
       "  mean: 0.75733, std: 0.01690, params: {'min_samples_split': 2, 'min_samples_leaf': 4},\n",
       "  mean: 0.75733, std: 0.01690, params: {'min_samples_split': 3, 'min_samples_leaf': 4},\n",
       "  mean: 0.75733, std: 0.01690, params: {'min_samples_split': 5, 'min_samples_leaf': 4},\n",
       "  mean: 0.75733, std: 0.01690, params: {'min_samples_split': 8, 'min_samples_leaf': 4},\n",
       "  mean: 0.75896, std: 0.01335, params: {'min_samples_split': 10, 'min_samples_leaf': 4},\n",
       "  mean: 0.75570, std: 0.02237, params: {'min_samples_split': 15, 'min_samples_leaf': 4},\n",
       "  mean: 0.75896, std: 0.02949, params: {'min_samples_split': 20, 'min_samples_leaf': 4},\n",
       "  mean: 0.76547, std: 0.01898, params: {'min_samples_split': 25, 'min_samples_leaf': 4},\n",
       "  mean: 0.75896, std: 0.02505, params: {'min_samples_split': 30, 'min_samples_leaf': 4},\n",
       "  mean: 0.75081, std: 0.02211, params: {'min_samples_split': 40, 'min_samples_leaf': 4},\n",
       "  mean: 0.75733, std: 0.02614, params: {'min_samples_split': 50, 'min_samples_leaf': 4},\n",
       "  mean: 0.76059, std: 0.02385, params: {'min_samples_split': 75, 'min_samples_leaf': 4},\n",
       "  mean: 0.76221, std: 0.03283, params: {'min_samples_split': 100, 'min_samples_leaf': 4},\n",
       "  mean: 0.76384, std: 0.03204, params: {'min_samples_split': 125, 'min_samples_leaf': 4},\n",
       "  mean: 0.76059, std: 0.03074, params: {'min_samples_split': 150, 'min_samples_leaf': 4},\n",
       "  mean: 0.75407, std: 0.02634, params: {'min_samples_split': 200, 'min_samples_leaf': 4},\n",
       "  mean: 0.76059, std: 0.02215, params: {'min_samples_split': 2, 'min_samples_leaf': 6},\n",
       "  mean: 0.76059, std: 0.02215, params: {'min_samples_split': 3, 'min_samples_leaf': 6},\n",
       "  mean: 0.76059, std: 0.02215, params: {'min_samples_split': 5, 'min_samples_leaf': 6},\n",
       "  mean: 0.76059, std: 0.02215, params: {'min_samples_split': 8, 'min_samples_leaf': 6},\n",
       "  mean: 0.76059, std: 0.02215, params: {'min_samples_split': 10, 'min_samples_leaf': 6},\n",
       "  mean: 0.75244, std: 0.02670, params: {'min_samples_split': 15, 'min_samples_leaf': 6},\n",
       "  mean: 0.76221, std: 0.02942, params: {'min_samples_split': 20, 'min_samples_leaf': 6},\n",
       "  mean: 0.75407, std: 0.02765, params: {'min_samples_split': 25, 'min_samples_leaf': 6},\n",
       "  mean: 0.76384, std: 0.02348, params: {'min_samples_split': 30, 'min_samples_leaf': 6},\n",
       "  mean: 0.75570, std: 0.02430, params: {'min_samples_split': 40, 'min_samples_leaf': 6},\n",
       "  mean: 0.76059, std: 0.02308, params: {'min_samples_split': 50, 'min_samples_leaf': 6},\n",
       "  mean: 0.76384, std: 0.02442, params: {'min_samples_split': 75, 'min_samples_leaf': 6},\n",
       "  mean: 0.76059, std: 0.02652, params: {'min_samples_split': 100, 'min_samples_leaf': 6},\n",
       "  mean: 0.76384, std: 0.02832, params: {'min_samples_split': 125, 'min_samples_leaf': 6},\n",
       "  mean: 0.76873, std: 0.03342, params: {'min_samples_split': 150, 'min_samples_leaf': 6},\n",
       "  mean: 0.76221, std: 0.03340, params: {'min_samples_split': 200, 'min_samples_leaf': 6},\n",
       "  mean: 0.75896, std: 0.02468, params: {'min_samples_split': 2, 'min_samples_leaf': 8},\n",
       "  mean: 0.75896, std: 0.02468, params: {'min_samples_split': 3, 'min_samples_leaf': 8},\n",
       "  mean: 0.75896, std: 0.02468, params: {'min_samples_split': 5, 'min_samples_leaf': 8},\n",
       "  mean: 0.75896, std: 0.02468, params: {'min_samples_split': 8, 'min_samples_leaf': 8},\n",
       "  mean: 0.75896, std: 0.02468, params: {'min_samples_split': 10, 'min_samples_leaf': 8},\n",
       "  mean: 0.75896, std: 0.02468, params: {'min_samples_split': 15, 'min_samples_leaf': 8},\n",
       "  mean: 0.76547, std: 0.03111, params: {'min_samples_split': 20, 'min_samples_leaf': 8},\n",
       "  mean: 0.76059, std: 0.01414, params: {'min_samples_split': 25, 'min_samples_leaf': 8},\n",
       "  mean: 0.75733, std: 0.02095, params: {'min_samples_split': 30, 'min_samples_leaf': 8},\n",
       "  mean: 0.75407, std: 0.02912, params: {'min_samples_split': 40, 'min_samples_leaf': 8},\n",
       "  mean: 0.75570, std: 0.02100, params: {'min_samples_split': 50, 'min_samples_leaf': 8},\n",
       "  mean: 0.75896, std: 0.02338, params: {'min_samples_split': 75, 'min_samples_leaf': 8},\n",
       "  mean: 0.76547, std: 0.02889, params: {'min_samples_split': 100, 'min_samples_leaf': 8},\n",
       "  mean: 0.76547, std: 0.03025, params: {'min_samples_split': 125, 'min_samples_leaf': 8},\n",
       "  mean: 0.76710, std: 0.03042, params: {'min_samples_split': 150, 'min_samples_leaf': 8},\n",
       "  mean: 0.76710, std: 0.03185, params: {'min_samples_split': 200, 'min_samples_leaf': 8},\n",
       "  mean: 0.76059, std: 0.01586, params: {'min_samples_split': 2, 'min_samples_leaf': 10},\n",
       "  mean: 0.76059, std: 0.01586, params: {'min_samples_split': 3, 'min_samples_leaf': 10},\n",
       "  mean: 0.76059, std: 0.01586, params: {'min_samples_split': 5, 'min_samples_leaf': 10},\n",
       "  mean: 0.76059, std: 0.01586, params: {'min_samples_split': 8, 'min_samples_leaf': 10},\n",
       "  mean: 0.76059, std: 0.01586, params: {'min_samples_split': 10, 'min_samples_leaf': 10},\n",
       "  mean: 0.76059, std: 0.01586, params: {'min_samples_split': 15, 'min_samples_leaf': 10},\n",
       "  mean: 0.76059, std: 0.01586, params: {'min_samples_split': 20, 'min_samples_leaf': 10},\n",
       "  mean: 0.75896, std: 0.02531, params: {'min_samples_split': 25, 'min_samples_leaf': 10},\n",
       "  mean: 0.75570, std: 0.01507, params: {'min_samples_split': 30, 'min_samples_leaf': 10},\n",
       "  mean: 0.75570, std: 0.01955, params: {'min_samples_split': 40, 'min_samples_leaf': 10},\n",
       "  mean: 0.76221, std: 0.01475, params: {'min_samples_split': 50, 'min_samples_leaf': 10},\n",
       "  mean: 0.75570, std: 0.01163, params: {'min_samples_split': 75, 'min_samples_leaf': 10},\n",
       "  mean: 0.76221, std: 0.02409, params: {'min_samples_split': 100, 'min_samples_leaf': 10},\n",
       "  mean: 0.76384, std: 0.02602, params: {'min_samples_split': 125, 'min_samples_leaf': 10},\n",
       "  mean: 0.76059, std: 0.02634, params: {'min_samples_split': 150, 'min_samples_leaf': 10},\n",
       "  mean: 0.76710, std: 0.02709, params: {'min_samples_split': 200, 'min_samples_leaf': 10},\n",
       "  mean: 0.74430, std: 0.01477, params: {'min_samples_split': 2, 'min_samples_leaf': 12},\n",
       "  mean: 0.74430, std: 0.01477, params: {'min_samples_split': 3, 'min_samples_leaf': 12},\n",
       "  mean: 0.74430, std: 0.01477, params: {'min_samples_split': 5, 'min_samples_leaf': 12},\n",
       "  mean: 0.74430, std: 0.01477, params: {'min_samples_split': 8, 'min_samples_leaf': 12},\n",
       "  mean: 0.74430, std: 0.01477, params: {'min_samples_split': 10, 'min_samples_leaf': 12},\n",
       "  mean: 0.74430, std: 0.01477, params: {'min_samples_split': 15, 'min_samples_leaf': 12},\n",
       "  mean: 0.74430, std: 0.01477, params: {'min_samples_split': 20, 'min_samples_leaf': 12},\n",
       "  mean: 0.75081, std: 0.01911, params: {'min_samples_split': 25, 'min_samples_leaf': 12},\n",
       "  mean: 0.75244, std: 0.01639, params: {'min_samples_split': 30, 'min_samples_leaf': 12},\n",
       "  mean: 0.75570, std: 0.00656, params: {'min_samples_split': 40, 'min_samples_leaf': 12},\n",
       "  mean: 0.75244, std: 0.00912, params: {'min_samples_split': 50, 'min_samples_leaf': 12},\n",
       "  mean: 0.76384, std: 0.02215, params: {'min_samples_split': 75, 'min_samples_leaf': 12},\n",
       "  mean: 0.76384, std: 0.02283, params: {'min_samples_split': 100, 'min_samples_leaf': 12},\n",
       "  mean: 0.76059, std: 0.02242, params: {'min_samples_split': 125, 'min_samples_leaf': 12},\n",
       "  mean: 0.75733, std: 0.02231, params: {'min_samples_split': 150, 'min_samples_leaf': 12},\n",
       "  mean: 0.75896, std: 0.02533, params: {'min_samples_split': 200, 'min_samples_leaf': 12},\n",
       "  mean: 0.74593, std: 0.00773, params: {'min_samples_split': 2, 'min_samples_leaf': 14},\n",
       "  mean: 0.74593, std: 0.00773, params: {'min_samples_split': 3, 'min_samples_leaf': 14},\n",
       "  mean: 0.74593, std: 0.00773, params: {'min_samples_split': 5, 'min_samples_leaf': 14},\n",
       "  mean: 0.74593, std: 0.00773, params: {'min_samples_split': 8, 'min_samples_leaf': 14},\n",
       "  mean: 0.74593, std: 0.00773, params: {'min_samples_split': 10, 'min_samples_leaf': 14},\n",
       "  mean: 0.74593, std: 0.00773, params: {'min_samples_split': 15, 'min_samples_leaf': 14},\n",
       "  mean: 0.74593, std: 0.00773, params: {'min_samples_split': 20, 'min_samples_leaf': 14},\n",
       "  mean: 0.74593, std: 0.00773, params: {'min_samples_split': 25, 'min_samples_leaf': 14},\n",
       "  mean: 0.74756, std: 0.01468, params: {'min_samples_split': 30, 'min_samples_leaf': 14},\n",
       "  mean: 0.74593, std: 0.01066, params: {'min_samples_split': 40, 'min_samples_leaf': 14},\n",
       "  mean: 0.75081, std: 0.01133, params: {'min_samples_split': 50, 'min_samples_leaf': 14},\n",
       "  mean: 0.75570, std: 0.01791, params: {'min_samples_split': 75, 'min_samples_leaf': 14},\n",
       "  mean: 0.76221, std: 0.02112, params: {'min_samples_split': 100, 'min_samples_leaf': 14},\n",
       "  mean: 0.76221, std: 0.02583, params: {'min_samples_split': 125, 'min_samples_leaf': 14},\n",
       "  mean: 0.76221, std: 0.02520, params: {'min_samples_split': 150, 'min_samples_leaf': 14},\n",
       "  mean: 0.76059, std: 0.02628, params: {'min_samples_split': 200, 'min_samples_leaf': 14},\n",
       "  mean: 0.74756, std: 0.01056, params: {'min_samples_split': 2, 'min_samples_leaf': 16},\n",
       "  mean: 0.74756, std: 0.01056, params: {'min_samples_split': 3, 'min_samples_leaf': 16},\n",
       "  mean: 0.74756, std: 0.01056, params: {'min_samples_split': 5, 'min_samples_leaf': 16},\n",
       "  mean: 0.74756, std: 0.01056, params: {'min_samples_split': 8, 'min_samples_leaf': 16},\n",
       "  mean: 0.74756, std: 0.01056, params: {'min_samples_split': 10, 'min_samples_leaf': 16},\n",
       "  mean: 0.74756, std: 0.01056, params: {'min_samples_split': 15, 'min_samples_leaf': 16},\n",
       "  mean: 0.74756, std: 0.01056, params: {'min_samples_split': 20, 'min_samples_leaf': 16},\n",
       "  mean: 0.74756, std: 0.01056, params: {'min_samples_split': 25, 'min_samples_leaf': 16},\n",
       "  mean: 0.74756, std: 0.01056, params: {'min_samples_split': 30, 'min_samples_leaf': 16},\n",
       "  mean: 0.74756, std: 0.02049, params: {'min_samples_split': 40, 'min_samples_leaf': 16},\n",
       "  mean: 0.75896, std: 0.01534, params: {'min_samples_split': 50, 'min_samples_leaf': 16},\n",
       "  mean: 0.76221, std: 0.02011, params: {'min_samples_split': 75, 'min_samples_leaf': 16},\n",
       "  mean: 0.77036, std: 0.02391, params: {'min_samples_split': 100, 'min_samples_leaf': 16},\n",
       "  mean: 0.76547, std: 0.01805, params: {'min_samples_split': 125, 'min_samples_leaf': 16},\n",
       "  mean: 0.77036, std: 0.02276, params: {'min_samples_split': 150, 'min_samples_leaf': 16},\n",
       "  mean: 0.76710, std: 0.02383, params: {'min_samples_split': 200, 'min_samples_leaf': 16},\n",
       "  mean: 0.76384, std: 0.01604, params: {'min_samples_split': 2, 'min_samples_leaf': 18},\n",
       "  mean: 0.76384, std: 0.01604, params: {'min_samples_split': 3, 'min_samples_leaf': 18},\n",
       "  mean: 0.76384, std: 0.01604, params: {'min_samples_split': 5, 'min_samples_leaf': 18},\n",
       "  mean: 0.76384, std: 0.01604, params: {'min_samples_split': 8, 'min_samples_leaf': 18},\n",
       "  mean: 0.76384, std: 0.01604, params: {'min_samples_split': 10, 'min_samples_leaf': 18},\n",
       "  mean: 0.76384, std: 0.01604, params: {'min_samples_split': 15, 'min_samples_leaf': 18},\n",
       "  mean: 0.76384, std: 0.01604, params: {'min_samples_split': 20, 'min_samples_leaf': 18},\n",
       "  mean: 0.76384, std: 0.01604, params: {'min_samples_split': 25, 'min_samples_leaf': 18},\n",
       "  mean: 0.76384, std: 0.01604, params: {'min_samples_split': 30, 'min_samples_leaf': 18},\n",
       "  mean: 0.76059, std: 0.02479, params: {'min_samples_split': 40, 'min_samples_leaf': 18},\n",
       "  mean: 0.75570, std: 0.01947, params: {'min_samples_split': 50, 'min_samples_leaf': 18},\n",
       "  mean: 0.76547, std: 0.02257, params: {'min_samples_split': 75, 'min_samples_leaf': 18},\n",
       "  mean: 0.77362, std: 0.02294, params: {'min_samples_split': 100, 'min_samples_leaf': 18},\n",
       "  mean: 0.77036, std: 0.02756, params: {'min_samples_split': 125, 'min_samples_leaf': 18},\n",
       "  mean: 0.76873, std: 0.02226, params: {'min_samples_split': 150, 'min_samples_leaf': 18},\n",
       "  mean: 0.77199, std: 0.02847, params: {'min_samples_split': 200, 'min_samples_leaf': 18},\n",
       "  mean: 0.75570, std: 0.01970, params: {'min_samples_split': 2, 'min_samples_leaf': 20},\n",
       "  mean: 0.75570, std: 0.01970, params: {'min_samples_split': 3, 'min_samples_leaf': 20},\n",
       "  mean: 0.75570, std: 0.01970, params: {'min_samples_split': 5, 'min_samples_leaf': 20},\n",
       "  mean: 0.75570, std: 0.01970, params: {'min_samples_split': 8, 'min_samples_leaf': 20},\n",
       "  mean: 0.75570, std: 0.01970, params: {'min_samples_split': 10, 'min_samples_leaf': 20},\n",
       "  mean: 0.75570, std: 0.01970, params: {'min_samples_split': 15, 'min_samples_leaf': 20},\n",
       "  mean: 0.75570, std: 0.01970, params: {'min_samples_split': 20, 'min_samples_leaf': 20},\n",
       "  mean: 0.75570, std: 0.01970, params: {'min_samples_split': 25, 'min_samples_leaf': 20},\n",
       "  mean: 0.75570, std: 0.01970, params: {'min_samples_split': 30, 'min_samples_leaf': 20},\n",
       "  mean: 0.75570, std: 0.01970, params: {'min_samples_split': 40, 'min_samples_leaf': 20},\n",
       "  mean: 0.75896, std: 0.02483, params: {'min_samples_split': 50, 'min_samples_leaf': 20},\n",
       "  mean: 0.76710, std: 0.02411, params: {'min_samples_split': 75, 'min_samples_leaf': 20},\n",
       "  mean: 0.77199, std: 0.03009, params: {'min_samples_split': 100, 'min_samples_leaf': 20},\n",
       "  mean: 0.77362, std: 0.02943, params: {'min_samples_split': 125, 'min_samples_leaf': 20},\n",
       "  mean: 0.77036, std: 0.02837, params: {'min_samples_split': 150, 'min_samples_leaf': 20},\n",
       "  mean: 0.77036, std: 0.02606, params: {'min_samples_split': 200, 'min_samples_leaf': 20},\n",
       "  mean: 0.75896, std: 0.02219, params: {'min_samples_split': 2, 'min_samples_leaf': 25},\n",
       "  mean: 0.75896, std: 0.02219, params: {'min_samples_split': 3, 'min_samples_leaf': 25},\n",
       "  mean: 0.75896, std: 0.02219, params: {'min_samples_split': 5, 'min_samples_leaf': 25},\n",
       "  mean: 0.75896, std: 0.02219, params: {'min_samples_split': 8, 'min_samples_leaf': 25},\n",
       "  mean: 0.75896, std: 0.02219, params: {'min_samples_split': 10, 'min_samples_leaf': 25},\n",
       "  mean: 0.75896, std: 0.02219, params: {'min_samples_split': 15, 'min_samples_leaf': 25},\n",
       "  mean: 0.75896, std: 0.02219, params: {'min_samples_split': 20, 'min_samples_leaf': 25},\n",
       "  mean: 0.75896, std: 0.02219, params: {'min_samples_split': 25, 'min_samples_leaf': 25},\n",
       "  mean: 0.75896, std: 0.02219, params: {'min_samples_split': 30, 'min_samples_leaf': 25},\n",
       "  mean: 0.75896, std: 0.02219, params: {'min_samples_split': 40, 'min_samples_leaf': 25},\n",
       "  mean: 0.75896, std: 0.02219, params: {'min_samples_split': 50, 'min_samples_leaf': 25},\n",
       "  mean: 0.76059, std: 0.02711, params: {'min_samples_split': 75, 'min_samples_leaf': 25},\n",
       "  mean: 0.76710, std: 0.03250, params: {'min_samples_split': 100, 'min_samples_leaf': 25},\n",
       "  mean: 0.76873, std: 0.03171, params: {'min_samples_split': 125, 'min_samples_leaf': 25},\n",
       "  mean: 0.76710, std: 0.03631, params: {'min_samples_split': 150, 'min_samples_leaf': 25},\n",
       "  mean: 0.77036, std: 0.03945, params: {'min_samples_split': 200, 'min_samples_leaf': 25},\n",
       "  mean: 0.76384, std: 0.02966, params: {'min_samples_split': 2, 'min_samples_leaf': 30},\n",
       "  mean: 0.76384, std: 0.02966, params: {'min_samples_split': 3, 'min_samples_leaf': 30},\n",
       "  mean: 0.76384, std: 0.02966, params: {'min_samples_split': 5, 'min_samples_leaf': 30},\n",
       "  mean: 0.76384, std: 0.02966, params: {'min_samples_split': 8, 'min_samples_leaf': 30},\n",
       "  mean: 0.76384, std: 0.02966, params: {'min_samples_split': 10, 'min_samples_leaf': 30},\n",
       "  mean: 0.76384, std: 0.02966, params: {'min_samples_split': 15, 'min_samples_leaf': 30},\n",
       "  mean: 0.76384, std: 0.02966, params: {'min_samples_split': 20, 'min_samples_leaf': 30},\n",
       "  mean: 0.76384, std: 0.02966, params: {'min_samples_split': 25, 'min_samples_leaf': 30},\n",
       "  mean: 0.76384, std: 0.02966, params: {'min_samples_split': 30, 'min_samples_leaf': 30},\n",
       "  mean: 0.76384, std: 0.02966, params: {'min_samples_split': 40, 'min_samples_leaf': 30},\n",
       "  mean: 0.76384, std: 0.02966, params: {'min_samples_split': 50, 'min_samples_leaf': 30},\n",
       "  mean: 0.75896, std: 0.02792, params: {'min_samples_split': 75, 'min_samples_leaf': 30},\n",
       "  mean: 0.76384, std: 0.03162, params: {'min_samples_split': 100, 'min_samples_leaf': 30},\n",
       "  mean: 0.76384, std: 0.03162, params: {'min_samples_split': 125, 'min_samples_leaf': 30},\n",
       "  mean: 0.75896, std: 0.03101, params: {'min_samples_split': 150, 'min_samples_leaf': 30},\n",
       "  mean: 0.76710, std: 0.03672, params: {'min_samples_split': 200, 'min_samples_leaf': 30},\n",
       "  mean: 0.76384, std: 0.03147, params: {'min_samples_split': 2, 'min_samples_leaf': 40},\n",
       "  mean: 0.76384, std: 0.03147, params: {'min_samples_split': 3, 'min_samples_leaf': 40},\n",
       "  mean: 0.76384, std: 0.03147, params: {'min_samples_split': 5, 'min_samples_leaf': 40},\n",
       "  mean: 0.76384, std: 0.03147, params: {'min_samples_split': 8, 'min_samples_leaf': 40},\n",
       "  mean: 0.76384, std: 0.03147, params: {'min_samples_split': 10, 'min_samples_leaf': 40},\n",
       "  mean: 0.76384, std: 0.03147, params: {'min_samples_split': 15, 'min_samples_leaf': 40},\n",
       "  mean: 0.76384, std: 0.03147, params: {'min_samples_split': 20, 'min_samples_leaf': 40},\n",
       "  mean: 0.76384, std: 0.03147, params: {'min_samples_split': 25, 'min_samples_leaf': 40},\n",
       "  mean: 0.76384, std: 0.03147, params: {'min_samples_split': 30, 'min_samples_leaf': 40},\n",
       "  mean: 0.76384, std: 0.03147, params: {'min_samples_split': 40, 'min_samples_leaf': 40},\n",
       "  mean: 0.76384, std: 0.03147, params: {'min_samples_split': 50, 'min_samples_leaf': 40},\n",
       "  mean: 0.76384, std: 0.03147, params: {'min_samples_split': 75, 'min_samples_leaf': 40},\n",
       "  mean: 0.76710, std: 0.03457, params: {'min_samples_split': 100, 'min_samples_leaf': 40},\n",
       "  mean: 0.77036, std: 0.03625, params: {'min_samples_split': 125, 'min_samples_leaf': 40},\n",
       "  mean: 0.77036, std: 0.03625, params: {'min_samples_split': 150, 'min_samples_leaf': 40},\n",
       "  mean: 0.77199, std: 0.03830, params: {'min_samples_split': 200, 'min_samples_leaf': 40},\n",
       "  mean: 0.77199, std: 0.03714, params: {'min_samples_split': 2, 'min_samples_leaf': 50},\n",
       "  mean: 0.77199, std: 0.03714, params: {'min_samples_split': 3, 'min_samples_leaf': 50},\n",
       "  mean: 0.77199, std: 0.03714, params: {'min_samples_split': 5, 'min_samples_leaf': 50},\n",
       "  mean: 0.77199, std: 0.03714, params: {'min_samples_split': 8, 'min_samples_leaf': 50},\n",
       "  mean: 0.77199, std: 0.03714, params: {'min_samples_split': 10, 'min_samples_leaf': 50},\n",
       "  mean: 0.77199, std: 0.03714, params: {'min_samples_split': 15, 'min_samples_leaf': 50},\n",
       "  mean: 0.77199, std: 0.03714, params: {'min_samples_split': 20, 'min_samples_leaf': 50},\n",
       "  mean: 0.77199, std: 0.03714, params: {'min_samples_split': 25, 'min_samples_leaf': 50},\n",
       "  mean: 0.77199, std: 0.03714, params: {'min_samples_split': 30, 'min_samples_leaf': 50},\n",
       "  mean: 0.77199, std: 0.03714, params: {'min_samples_split': 40, 'min_samples_leaf': 50},\n",
       "  mean: 0.77199, std: 0.03714, params: {'min_samples_split': 50, 'min_samples_leaf': 50},\n",
       "  mean: 0.77199, std: 0.03714, params: {'min_samples_split': 75, 'min_samples_leaf': 50},\n",
       "  mean: 0.77199, std: 0.03714, params: {'min_samples_split': 100, 'min_samples_leaf': 50},\n",
       "  mean: 0.76873, std: 0.03386, params: {'min_samples_split': 125, 'min_samples_leaf': 50},\n",
       "  mean: 0.77036, std: 0.03539, params: {'min_samples_split': 150, 'min_samples_leaf': 50},\n",
       "  mean: 0.77199, std: 0.03714, params: {'min_samples_split': 200, 'min_samples_leaf': 50},\n",
       "  mean: 0.77036, std: 0.03539, params: {'min_samples_split': 2, 'min_samples_leaf': 60},\n",
       "  mean: 0.77036, std: 0.03539, params: {'min_samples_split': 3, 'min_samples_leaf': 60},\n",
       "  mean: 0.77036, std: 0.03539, params: {'min_samples_split': 5, 'min_samples_leaf': 60},\n",
       "  mean: 0.77036, std: 0.03539, params: {'min_samples_split': 8, 'min_samples_leaf': 60},\n",
       "  mean: 0.77036, std: 0.03539, params: {'min_samples_split': 10, 'min_samples_leaf': 60},\n",
       "  mean: 0.77036, std: 0.03539, params: {'min_samples_split': 15, 'min_samples_leaf': 60},\n",
       "  mean: 0.77036, std: 0.03539, params: {'min_samples_split': 20, 'min_samples_leaf': 60},\n",
       "  mean: 0.77036, std: 0.03539, params: {'min_samples_split': 25, 'min_samples_leaf': 60},\n",
       "  mean: 0.77036, std: 0.03539, params: {'min_samples_split': 30, 'min_samples_leaf': 60},\n",
       "  mean: 0.77036, std: 0.03539, params: {'min_samples_split': 40, 'min_samples_leaf': 60},\n",
       "  mean: 0.77036, std: 0.03539, params: {'min_samples_split': 50, 'min_samples_leaf': 60},\n",
       "  mean: 0.77036, std: 0.03539, params: {'min_samples_split': 75, 'min_samples_leaf': 60},\n",
       "  mean: 0.77036, std: 0.03539, params: {'min_samples_split': 100, 'min_samples_leaf': 60},\n",
       "  mean: 0.77036, std: 0.03539, params: {'min_samples_split': 125, 'min_samples_leaf': 60},\n",
       "  mean: 0.77036, std: 0.03539, params: {'min_samples_split': 150, 'min_samples_leaf': 60},\n",
       "  mean: 0.77036, std: 0.03539, params: {'min_samples_split': 200, 'min_samples_leaf': 60},\n",
       "  mean: 0.77036, std: 0.03539, params: {'min_samples_split': 2, 'min_samples_leaf': 70},\n",
       "  mean: 0.77036, std: 0.03539, params: {'min_samples_split': 3, 'min_samples_leaf': 70},\n",
       "  mean: 0.77036, std: 0.03539, params: {'min_samples_split': 5, 'min_samples_leaf': 70},\n",
       "  mean: 0.77036, std: 0.03539, params: {'min_samples_split': 8, 'min_samples_leaf': 70},\n",
       "  mean: 0.77036, std: 0.03539, params: {'min_samples_split': 10, 'min_samples_leaf': 70},\n",
       "  mean: 0.77036, std: 0.03539, params: {'min_samples_split': 15, 'min_samples_leaf': 70},\n",
       "  mean: 0.77036, std: 0.03539, params: {'min_samples_split': 20, 'min_samples_leaf': 70},\n",
       "  mean: 0.77036, std: 0.03539, params: {'min_samples_split': 25, 'min_samples_leaf': 70},\n",
       "  mean: 0.77036, std: 0.03539, params: {'min_samples_split': 30, 'min_samples_leaf': 70},\n",
       "  mean: 0.77036, std: 0.03539, params: {'min_samples_split': 40, 'min_samples_leaf': 70},\n",
       "  mean: 0.77036, std: 0.03539, params: {'min_samples_split': 50, 'min_samples_leaf': 70},\n",
       "  mean: 0.77036, std: 0.03539, params: {'min_samples_split': 75, 'min_samples_leaf': 70},\n",
       "  mean: 0.77036, std: 0.03539, params: {'min_samples_split': 100, 'min_samples_leaf': 70},\n",
       "  mean: 0.77036, std: 0.03539, params: {'min_samples_split': 125, 'min_samples_leaf': 70},\n",
       "  mean: 0.77036, std: 0.03539, params: {'min_samples_split': 150, 'min_samples_leaf': 70},\n",
       "  mean: 0.77036, std: 0.03539, params: {'min_samples_split': 200, 'min_samples_leaf': 70},\n",
       "  mean: 0.77036, std: 0.03539, params: {'min_samples_split': 2, 'min_samples_leaf': 80},\n",
       "  mean: 0.77036, std: 0.03539, params: {'min_samples_split': 3, 'min_samples_leaf': 80},\n",
       "  mean: 0.77036, std: 0.03539, params: {'min_samples_split': 5, 'min_samples_leaf': 80},\n",
       "  mean: 0.77036, std: 0.03539, params: {'min_samples_split': 8, 'min_samples_leaf': 80},\n",
       "  mean: 0.77036, std: 0.03539, params: {'min_samples_split': 10, 'min_samples_leaf': 80},\n",
       "  mean: 0.77036, std: 0.03539, params: {'min_samples_split': 15, 'min_samples_leaf': 80},\n",
       "  mean: 0.77036, std: 0.03539, params: {'min_samples_split': 20, 'min_samples_leaf': 80},\n",
       "  mean: 0.77036, std: 0.03539, params: {'min_samples_split': 25, 'min_samples_leaf': 80},\n",
       "  mean: 0.77036, std: 0.03539, params: {'min_samples_split': 30, 'min_samples_leaf': 80},\n",
       "  mean: 0.77036, std: 0.03539, params: {'min_samples_split': 40, 'min_samples_leaf': 80},\n",
       "  mean: 0.77036, std: 0.03539, params: {'min_samples_split': 50, 'min_samples_leaf': 80},\n",
       "  mean: 0.77036, std: 0.03539, params: {'min_samples_split': 75, 'min_samples_leaf': 80},\n",
       "  mean: 0.77036, std: 0.03539, params: {'min_samples_split': 100, 'min_samples_leaf': 80},\n",
       "  mean: 0.77036, std: 0.03539, params: {'min_samples_split': 125, 'min_samples_leaf': 80},\n",
       "  mean: 0.77036, std: 0.03539, params: {'min_samples_split': 150, 'min_samples_leaf': 80},\n",
       "  mean: 0.77036, std: 0.03539, params: {'min_samples_split': 200, 'min_samples_leaf': 80},\n",
       "  mean: 0.74267, std: 0.04185, params: {'min_samples_split': 2, 'min_samples_leaf': 90},\n",
       "  mean: 0.74267, std: 0.04185, params: {'min_samples_split': 3, 'min_samples_leaf': 90},\n",
       "  mean: 0.74267, std: 0.04185, params: {'min_samples_split': 5, 'min_samples_leaf': 90},\n",
       "  mean: 0.74267, std: 0.04185, params: {'min_samples_split': 8, 'min_samples_leaf': 90},\n",
       "  mean: 0.74267, std: 0.04185, params: {'min_samples_split': 10, 'min_samples_leaf': 90},\n",
       "  mean: 0.74267, std: 0.04185, params: {'min_samples_split': 15, 'min_samples_leaf': 90},\n",
       "  mean: 0.74267, std: 0.04185, params: {'min_samples_split': 20, 'min_samples_leaf': 90},\n",
       "  mean: 0.74267, std: 0.04185, params: {'min_samples_split': 25, 'min_samples_leaf': 90},\n",
       "  mean: 0.74267, std: 0.04185, params: {'min_samples_split': 30, 'min_samples_leaf': 90},\n",
       "  mean: 0.74267, std: 0.04185, params: {'min_samples_split': 40, 'min_samples_leaf': 90},\n",
       "  mean: 0.74267, std: 0.04185, params: {'min_samples_split': 50, 'min_samples_leaf': 90},\n",
       "  mean: 0.74267, std: 0.04185, params: {'min_samples_split': 75, 'min_samples_leaf': 90},\n",
       "  mean: 0.74267, std: 0.04185, params: {'min_samples_split': 100, 'min_samples_leaf': 90},\n",
       "  mean: 0.74267, std: 0.04185, params: {'min_samples_split': 125, 'min_samples_leaf': 90},\n",
       "  mean: 0.74267, std: 0.04185, params: {'min_samples_split': 150, 'min_samples_leaf': 90},\n",
       "  mean: 0.74104, std: 0.03911, params: {'min_samples_split': 200, 'min_samples_leaf': 90},\n",
       "  mean: 0.68730, std: 0.00149, params: {'min_samples_split': 2, 'min_samples_leaf': 100},\n",
       "  mean: 0.68730, std: 0.00149, params: {'min_samples_split': 3, 'min_samples_leaf': 100},\n",
       "  mean: 0.68730, std: 0.00149, params: {'min_samples_split': 5, 'min_samples_leaf': 100},\n",
       "  mean: 0.68730, std: 0.00149, params: {'min_samples_split': 8, 'min_samples_leaf': 100},\n",
       "  mean: 0.68730, std: 0.00149, params: {'min_samples_split': 10, 'min_samples_leaf': 100},\n",
       "  mean: 0.68730, std: 0.00149, params: {'min_samples_split': 15, 'min_samples_leaf': 100},\n",
       "  mean: 0.68730, std: 0.00149, params: {'min_samples_split': 20, 'min_samples_leaf': 100},\n",
       "  mean: 0.68730, std: 0.00149, params: {'min_samples_split': 25, 'min_samples_leaf': 100},\n",
       "  mean: 0.68730, std: 0.00149, params: {'min_samples_split': 30, 'min_samples_leaf': 100},\n",
       "  mean: 0.68730, std: 0.00149, params: {'min_samples_split': 40, 'min_samples_leaf': 100},\n",
       "  mean: 0.68730, std: 0.00149, params: {'min_samples_split': 50, 'min_samples_leaf': 100},\n",
       "  mean: 0.68730, std: 0.00149, params: {'min_samples_split': 75, 'min_samples_leaf': 100},\n",
       "  mean: 0.68730, std: 0.00149, params: {'min_samples_split': 100, 'min_samples_leaf': 100},\n",
       "  mean: 0.68730, std: 0.00149, params: {'min_samples_split': 125, 'min_samples_leaf': 100},\n",
       "  mean: 0.68730, std: 0.00149, params: {'min_samples_split': 150, 'min_samples_leaf': 100},\n",
       "  mean: 0.68730, std: 0.00149, params: {'min_samples_split': 200, 'min_samples_leaf': 100}],\n",
       " {'min_samples_leaf': 2, 'min_samples_split': 8},\n",
       " 0.77524429967426711)"
      ]
     },
     "execution_count": 142,
     "metadata": {},
     "output_type": "execute_result"
    }
   ],
   "source": [
    "grid3.grid_scores_, grid3.best_params_, grid3.best_score_"
   ]
  },
  {
   "cell_type": "code",
   "execution_count": 146,
   "metadata": {
    "collapsed": false
   },
   "outputs": [
    {
     "data": {
      "text/plain": [
       "GridSearchCV(cv=5, error_score='raise',\n",
       "       estimator=GradientBoostingClassifier(init=None, learning_rate=0.1, loss='deviance',\n",
       "              max_depth=4, max_features=None, max_leaf_nodes=None,\n",
       "              min_samples_leaf=50, min_samples_split=2,\n",
       "              min_weight_fraction_leaf=0.0, n_estimators=30,\n",
       "              presort='auto', random_state=0, subsample=0.8, verbose=0,\n",
       "              warm_start=False),\n",
       "       fit_params={}, iid=True, n_jobs=-1,\n",
       "       param_grid={'max_features': array([2, 3, 4, 5, 6])},\n",
       "       pre_dispatch='2*n_jobs', refit=True, scoring=None, verbose=0)"
      ]
     },
     "execution_count": 146,
     "metadata": {},
     "output_type": "execute_result"
    }
   ],
   "source": [
    "params_gb4= {\"max_features\": np.arange(2,7,1)}\n",
    "grid4= GridSearchCV(GradientBoostingClassifier(learning_rate=0.1,n_estimators=30,max_depth=4,min_samples_leaf=50,\n",
    "                                               subsample=0.8, random_state=0), \n",
    "                    param_grid=params_gb4, n_jobs=-1, cv=5)\n",
    "grid4.fit(X,y)"
   ]
  },
  {
   "cell_type": "code",
   "execution_count": 147,
   "metadata": {
    "collapsed": false
   },
   "outputs": [
    {
     "data": {
      "text/plain": [
       "([mean: 0.76059, std: 0.03074, params: {'max_features': 2},\n",
       "  mean: 0.76873, std: 0.03438, params: {'max_features': 3},\n",
       "  mean: 0.76873, std: 0.03565, params: {'max_features': 4},\n",
       "  mean: 0.76710, std: 0.03366, params: {'max_features': 5},\n",
       "  mean: 0.77199, std: 0.03714, params: {'max_features': 6}],\n",
       " {'max_features': 6},\n",
       " 0.7719869706840391)"
      ]
     },
     "execution_count": 147,
     "metadata": {},
     "output_type": "execute_result"
    }
   ],
   "source": [
    "grid4.grid_scores_, grid4.best_params_, grid4.best_score_"
   ]
  },
  {
   "cell_type": "code",
   "execution_count": 148,
   "metadata": {
    "collapsed": false
   },
   "outputs": [
    {
     "data": {
      "text/plain": [
       "GridSearchCV(cv=5, error_score='raise',\n",
       "       estimator=GradientBoostingClassifier(init=None, learning_rate=0.1, loss='deviance',\n",
       "              max_depth=4, max_features=None, max_leaf_nodes=None,\n",
       "              min_samples_leaf=50, min_samples_split=2,\n",
       "              min_weight_fraction_leaf=0.0, n_estimators=30,\n",
       "              presort='auto', random_state=0, subsample=1.0, verbose=0,\n",
       "              warm_start=False),\n",
       "       fit_params={}, iid=True, n_jobs=-1,\n",
       "       param_grid={'subsample': [0.6, 0.7, 0.8, 0.9, 1.0]},\n",
       "       pre_dispatch='2*n_jobs', refit=True, scoring=None, verbose=0)"
      ]
     },
     "execution_count": 148,
     "metadata": {},
     "output_type": "execute_result"
    }
   ],
   "source": [
    "params_gb5= {\"subsample\": [0.6,0.7,0.8,0.9,1.0]}\n",
    "grid5= GridSearchCV(GradientBoostingClassifier(learning_rate=0.1,n_estimators=30,max_depth=4,min_samples_leaf=50,\n",
    "                                               random_state=0), \n",
    "                    param_grid=params_gb5, n_jobs=-1, cv=5)\n",
    "grid5.fit(X,y)"
   ]
  },
  {
   "cell_type": "code",
   "execution_count": 149,
   "metadata": {
    "collapsed": false
   },
   "outputs": [
    {
     "data": {
      "text/plain": [
       "([mean: 0.76873, std: 0.03386, params: {'subsample': 0.6},\n",
       "  mean: 0.77199, std: 0.03714, params: {'subsample': 0.7},\n",
       "  mean: 0.77199, std: 0.03714, params: {'subsample': 0.8},\n",
       "  mean: 0.76873, std: 0.03438, params: {'subsample': 0.9},\n",
       "  mean: 0.76873, std: 0.03438, params: {'subsample': 1.0}],\n",
       " {'subsample': 0.7},\n",
       " 0.7719869706840391)"
      ]
     },
     "execution_count": 149,
     "metadata": {},
     "output_type": "execute_result"
    }
   ],
   "source": [
    "grid5.grid_scores_, grid5.best_params_, grid4.best_score_"
   ]
  },
  {
   "cell_type": "code",
   "execution_count": 150,
   "metadata": {
    "collapsed": false
   },
   "outputs": [
    {
     "data": {
      "text/plain": [
       "GridSearchCV(cv=5, error_score='raise',\n",
       "       estimator=GradientBoostingClassifier(init=None, learning_rate=0.1, loss='deviance',\n",
       "              max_depth=4, max_features=None, max_leaf_nodes=None,\n",
       "              min_samples_leaf=50, min_samples_split=2,\n",
       "              min_weight_fraction_leaf=0.0, n_estimators=100,\n",
       "              presort='auto', random_state=0, subsample=0.8, verbose=0,\n",
       "              warm_start=False),\n",
       "       fit_params={}, iid=True, n_jobs=-1,\n",
       "       param_grid={'learning_rate': [0.1, 0.05, 0.01, 0.005, 0.001], 'n_estimators': [10, 20, 30, 50, 100, 200, 350, 500]},\n",
       "       pre_dispatch='2*n_jobs', refit=True, scoring=None, verbose=0)"
      ]
     },
     "execution_count": 150,
     "metadata": {},
     "output_type": "execute_result"
    }
   ],
   "source": [
    "params_gb6= {\"learning_rate\": [0.1,0.05,0.01,0.005,0.001],\"n_estimators\":[10,20,30,50,100,200,350,500]}\n",
    "grid6= GridSearchCV(GradientBoostingClassifier(max_depth=4,min_samples_leaf=50,\n",
    "                                               subsample=0.8,random_state=0), \n",
    "                    param_grid=params_gb6, n_jobs=-1, cv=5)\n",
    "grid6.fit(X,y)"
   ]
  },
  {
   "cell_type": "code",
   "execution_count": 151,
   "metadata": {
    "collapsed": false
   },
   "outputs": [
    {
     "data": {
      "text/plain": [
       "([mean: 0.77036, std: 0.03539, params: {'learning_rate': 0.1, 'n_estimators': 10},\n",
       "  mean: 0.77036, std: 0.03539, params: {'learning_rate': 0.1, 'n_estimators': 20},\n",
       "  mean: 0.77199, std: 0.03714, params: {'learning_rate': 0.1, 'n_estimators': 30},\n",
       "  mean: 0.77362, std: 0.04146, params: {'learning_rate': 0.1, 'n_estimators': 50},\n",
       "  mean: 0.75570, std: 0.01172, params: {'learning_rate': 0.1, 'n_estimators': 100},\n",
       "  mean: 0.73453, std: 0.01854, params: {'learning_rate': 0.1, 'n_estimators': 200},\n",
       "  mean: 0.72638, std: 0.01898, params: {'learning_rate': 0.1, 'n_estimators': 350},\n",
       "  mean: 0.71824, std: 0.01866, params: {'learning_rate': 0.1, 'n_estimators': 500},\n",
       "  mean: 0.68730, std: 0.00149, params: {'learning_rate': 0.05, 'n_estimators': 10},\n",
       "  mean: 0.77036, std: 0.03539, params: {'learning_rate': 0.05, 'n_estimators': 20},\n",
       "  mean: 0.77036, std: 0.03539, params: {'learning_rate': 0.05, 'n_estimators': 30},\n",
       "  mean: 0.77199, std: 0.03714, params: {'learning_rate': 0.05, 'n_estimators': 50},\n",
       "  mean: 0.77036, std: 0.03881, params: {'learning_rate': 0.05, 'n_estimators': 100},\n",
       "  mean: 0.75570, std: 0.01524, params: {'learning_rate': 0.05, 'n_estimators': 200},\n",
       "  mean: 0.74756, std: 0.01230, params: {'learning_rate': 0.05, 'n_estimators': 350},\n",
       "  mean: 0.72964, std: 0.01350, params: {'learning_rate': 0.05, 'n_estimators': 500},\n",
       "  mean: 0.68730, std: 0.00149, params: {'learning_rate': 0.01, 'n_estimators': 10},\n",
       "  mean: 0.68730, std: 0.00149, params: {'learning_rate': 0.01, 'n_estimators': 20},\n",
       "  mean: 0.68730, std: 0.00149, params: {'learning_rate': 0.01, 'n_estimators': 30},\n",
       "  mean: 0.68730, std: 0.00149, params: {'learning_rate': 0.01, 'n_estimators': 50},\n",
       "  mean: 0.77036, std: 0.03539, params: {'learning_rate': 0.01, 'n_estimators': 100},\n",
       "  mean: 0.77036, std: 0.03539, params: {'learning_rate': 0.01, 'n_estimators': 200},\n",
       "  mean: 0.77362, std: 0.03829, params: {'learning_rate': 0.01, 'n_estimators': 350},\n",
       "  mean: 0.76710, std: 0.03377, params: {'learning_rate': 0.01, 'n_estimators': 500},\n",
       "  mean: 0.68730, std: 0.00149, params: {'learning_rate': 0.005, 'n_estimators': 10},\n",
       "  mean: 0.68730, std: 0.00149, params: {'learning_rate': 0.005, 'n_estimators': 20},\n",
       "  mean: 0.68730, std: 0.00149, params: {'learning_rate': 0.005, 'n_estimators': 30},\n",
       "  mean: 0.68730, std: 0.00149, params: {'learning_rate': 0.005, 'n_estimators': 50},\n",
       "  mean: 0.68730, std: 0.00149, params: {'learning_rate': 0.005, 'n_estimators': 100},\n",
       "  mean: 0.77036, std: 0.03539, params: {'learning_rate': 0.005, 'n_estimators': 200},\n",
       "  mean: 0.77036, std: 0.03539, params: {'learning_rate': 0.005, 'n_estimators': 350},\n",
       "  mean: 0.77199, std: 0.03714, params: {'learning_rate': 0.005, 'n_estimators': 500},\n",
       "  mean: 0.68730, std: 0.00149, params: {'learning_rate': 0.001, 'n_estimators': 10},\n",
       "  mean: 0.68730, std: 0.00149, params: {'learning_rate': 0.001, 'n_estimators': 20},\n",
       "  mean: 0.68730, std: 0.00149, params: {'learning_rate': 0.001, 'n_estimators': 30},\n",
       "  mean: 0.68730, std: 0.00149, params: {'learning_rate': 0.001, 'n_estimators': 50},\n",
       "  mean: 0.68730, std: 0.00149, params: {'learning_rate': 0.001, 'n_estimators': 100},\n",
       "  mean: 0.68730, std: 0.00149, params: {'learning_rate': 0.001, 'n_estimators': 200},\n",
       "  mean: 0.68730, std: 0.00149, params: {'learning_rate': 0.001, 'n_estimators': 350},\n",
       "  mean: 0.68730, std: 0.00149, params: {'learning_rate': 0.001, 'n_estimators': 500}],\n",
       " {'learning_rate': 0.1, 'n_estimators': 50},\n",
       " 0.7736156351791531)"
      ]
     },
     "execution_count": 151,
     "metadata": {},
     "output_type": "execute_result"
    }
   ],
   "source": [
    "grid6.grid_scores_, grid6.best_params_, grid6.best_score_"
   ]
  },
  {
   "cell_type": "code",
   "execution_count": 195,
   "metadata": {
    "collapsed": false
   },
   "outputs": [
    {
     "name": "stdout",
     "output_type": "stream",
     "text": [
      "0.788273615635\n"
     ]
    },
    {
     "data": {
      "text/plain": [
       "0.80487804878048785"
      ]
     },
     "execution_count": 195,
     "metadata": {},
     "output_type": "execute_result"
    }
   ],
   "source": [
    "gbc= GradientBoostingClassifier(learning_rate=0.1, n_estimators=50,max_depth=4,min_samples_leaf=50,\n",
    "                                               subsample=0.8)\n",
    "gbc.fit(X,y)\n",
    "print(gbc.score(X,y))\n",
    "gbc.score(X_test, y_test)"
   ]
  },
  {
   "cell_type": "code",
   "execution_count": 196,
   "metadata": {
    "collapsed": false
   },
   "outputs": [
    {
     "name": "stdout",
     "output_type": "stream",
     "text": [
      "         Loan_Status\n",
      "Loan_ID             \n",
      "LP001015           Y\n",
      "LP001022           Y\n",
      "LP001031           Y\n",
      "LP001035           N\n",
      "LP001051           Y\n"
     ]
    },
    {
     "name": "stderr",
     "output_type": "stream",
     "text": [
      "C:\\Users\\rawnite\\Anaconda3\\lib\\site-packages\\ipykernel\\__main__.py:3: SettingWithCopyWarning: \n",
      "A value is trying to be set on a copy of a slice from a DataFrame.\n",
      "Try using .loc[row_indexer,col_indexer] = value instead\n",
      "\n",
      "See the caveats in the documentation: http://pandas.pydata.org/pandas-docs/stable/indexing.html#indexing-view-versus-copy\n",
      "  app.launch_new_instance()\n",
      "C:\\Users\\rawnite\\Anaconda3\\lib\\site-packages\\ipykernel\\__main__.py:5: SettingWithCopyWarning: \n",
      "A value is trying to be set on a copy of a slice from a DataFrame.\n",
      "Try using .loc[row_indexer,col_indexer] = value instead\n",
      "\n",
      "See the caveats in the documentation: http://pandas.pydata.org/pandas-docs/stable/indexing.html#indexing-view-versus-copy\n"
     ]
    }
   ],
   "source": [
    "predictGB= gbc.predict(xprime)\n",
    "submissionGB= test[[\"Loan_ID\"]]\n",
    "submissionGB[\"Loan_Status\"]= predictGB\n",
    "submissionGB.set_index(\"Loan_ID\",inplace=True)\n",
    "submissionGB[\"Loan_Status\"]=submissionGB[\"Loan_Status\"].map({0:\"N\", 1:\"Y\"})\n",
    "print(submissionGB.head())"
   ]
  },
  {
   "cell_type": "code",
   "execution_count": 197,
   "metadata": {
    "collapsed": true
   },
   "outputs": [],
   "source": [
    "submissionGB.to_csv(\"sample_submission.csv\")"
   ]
  },
  {
   "cell_type": "code",
   "execution_count": null,
   "metadata": {
    "collapsed": false
   },
   "outputs": [],
   "source": []
  },
  {
   "cell_type": "code",
   "execution_count": null,
   "metadata": {
    "collapsed": true
   },
   "outputs": [],
   "source": []
  }
 ],
 "metadata": {
  "kernelspec": {
   "display_name": "Python 3",
   "language": "python",
   "name": "python3"
  },
  "language_info": {
   "codemirror_mode": {
    "name": "ipython",
    "version": 3
   },
   "file_extension": ".py",
   "mimetype": "text/x-python",
   "name": "python",
   "nbconvert_exporter": "python",
   "pygments_lexer": "ipython3",
   "version": "3.5.1"
  }
 },
 "nbformat": 4,
 "nbformat_minor": 0
}
