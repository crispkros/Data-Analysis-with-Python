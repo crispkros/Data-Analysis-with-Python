{
 "cells": [
  {
   "cell_type": "code",
   "execution_count": 1,
   "metadata": {
    "collapsed": true
   },
   "outputs": [],
   "source": [
    "import pandas as pd, numpy as np\n",
    "from sklearn.metrics import pairwise"
   ]
  },
  {
   "cell_type": "code",
   "execution_count": 2,
   "metadata": {
    "collapsed": false
   },
   "outputs": [],
   "source": [
    "movies=pd.read_csv(\"movies.csv\", encoding=\"iso-8859-1\")\n",
    "ratings=pd.read_csv(\"ratings.csv\", encoding=\"iso-8859-1\")"
   ]
  },
  {
   "cell_type": "code",
   "execution_count": 3,
   "metadata": {
    "collapsed": false
   },
   "outputs": [
    {
     "name": "stdout",
     "output_type": "stream",
     "text": [
      "(2500, 3)\n"
     ]
    },
    {
     "data": {
      "text/html": [
       "<div>\n",
       "<table border=\"1\" class=\"dataframe\">\n",
       "  <thead>\n",
       "    <tr style=\"text-align: right;\">\n",
       "      <th></th>\n",
       "      <th>movieId</th>\n",
       "      <th>title</th>\n",
       "      <th>genres</th>\n",
       "    </tr>\n",
       "  </thead>\n",
       "  <tbody>\n",
       "    <tr>\n",
       "      <th>0</th>\n",
       "      <td>1</td>\n",
       "      <td>Toy Story (1995)</td>\n",
       "      <td>Adventure|Animation|Children|Comedy|Fantasy</td>\n",
       "    </tr>\n",
       "    <tr>\n",
       "      <th>1</th>\n",
       "      <td>2</td>\n",
       "      <td>Jumanji (1995)</td>\n",
       "      <td>Adventure|Children|Fantasy</td>\n",
       "    </tr>\n",
       "    <tr>\n",
       "      <th>2</th>\n",
       "      <td>3</td>\n",
       "      <td>Grumpier Old Men (1995)</td>\n",
       "      <td>Comedy|Romance</td>\n",
       "    </tr>\n",
       "    <tr>\n",
       "      <th>3</th>\n",
       "      <td>4</td>\n",
       "      <td>Waiting to Exhale (1995)</td>\n",
       "      <td>Comedy|Drama|Romance</td>\n",
       "    </tr>\n",
       "    <tr>\n",
       "      <th>4</th>\n",
       "      <td>5</td>\n",
       "      <td>Father of the Bride Part II (1995)</td>\n",
       "      <td>Comedy</td>\n",
       "    </tr>\n",
       "  </tbody>\n",
       "</table>\n",
       "</div>"
      ],
      "text/plain": [
       "   movieId                               title  \\\n",
       "0        1                    Toy Story (1995)   \n",
       "1        2                      Jumanji (1995)   \n",
       "2        3             Grumpier Old Men (1995)   \n",
       "3        4            Waiting to Exhale (1995)   \n",
       "4        5  Father of the Bride Part II (1995)   \n",
       "\n",
       "                                        genres  \n",
       "0  Adventure|Animation|Children|Comedy|Fantasy  \n",
       "1                   Adventure|Children|Fantasy  \n",
       "2                               Comedy|Romance  \n",
       "3                         Comedy|Drama|Romance  \n",
       "4                                       Comedy  "
      ]
     },
     "execution_count": 3,
     "metadata": {},
     "output_type": "execute_result"
    }
   ],
   "source": [
    "print(movies.shape)\n",
    "movies.head()"
   ]
  },
  {
   "cell_type": "code",
   "execution_count": 4,
   "metadata": {
    "collapsed": false
   },
   "outputs": [
    {
     "name": "stdout",
     "output_type": "stream",
     "text": [
      "(264505, 4)\n"
     ]
    },
    {
     "data": {
      "text/html": [
       "<div>\n",
       "<table border=\"1\" class=\"dataframe\">\n",
       "  <thead>\n",
       "    <tr style=\"text-align: right;\">\n",
       "      <th></th>\n",
       "      <th>userId</th>\n",
       "      <th>movieId</th>\n",
       "      <th>rating</th>\n",
       "      <th>timestamp</th>\n",
       "    </tr>\n",
       "  </thead>\n",
       "  <tbody>\n",
       "    <tr>\n",
       "      <th>0</th>\n",
       "      <td>12882</td>\n",
       "      <td>1</td>\n",
       "      <td>4.0</td>\n",
       "      <td>1147195252</td>\n",
       "    </tr>\n",
       "    <tr>\n",
       "      <th>1</th>\n",
       "      <td>12882</td>\n",
       "      <td>32</td>\n",
       "      <td>3.5</td>\n",
       "      <td>1147195307</td>\n",
       "    </tr>\n",
       "    <tr>\n",
       "      <th>2</th>\n",
       "      <td>12882</td>\n",
       "      <td>47</td>\n",
       "      <td>5.0</td>\n",
       "      <td>1147195343</td>\n",
       "    </tr>\n",
       "    <tr>\n",
       "      <th>3</th>\n",
       "      <td>12882</td>\n",
       "      <td>50</td>\n",
       "      <td>5.0</td>\n",
       "      <td>1147185499</td>\n",
       "    </tr>\n",
       "    <tr>\n",
       "      <th>4</th>\n",
       "      <td>12882</td>\n",
       "      <td>110</td>\n",
       "      <td>4.5</td>\n",
       "      <td>1147195239</td>\n",
       "    </tr>\n",
       "  </tbody>\n",
       "</table>\n",
       "</div>"
      ],
      "text/plain": [
       "   userId  movieId  rating   timestamp\n",
       "0   12882        1     4.0  1147195252\n",
       "1   12882       32     3.5  1147195307\n",
       "2   12882       47     5.0  1147195343\n",
       "3   12882       50     5.0  1147185499\n",
       "4   12882      110     4.5  1147195239"
      ]
     },
     "execution_count": 4,
     "metadata": {},
     "output_type": "execute_result"
    }
   ],
   "source": [
    "print(ratings.shape)\n",
    "ratings.head()"
   ]
  },
  {
   "cell_type": "code",
   "execution_count": 5,
   "metadata": {
    "collapsed": false
   },
   "outputs": [
    {
     "name": "stdout",
     "output_type": "stream",
     "text": [
      "number of users:  862\n"
     ]
    }
   ],
   "source": [
    "print(\"number of users: \",len(ratings.userId.unique()))"
   ]
  },
  {
   "cell_type": "markdown",
   "metadata": {},
   "source": [
    "Now, we want to see our dataset in a more convenient form- users, movies with their ratings."
   ]
  },
  {
   "cell_type": "code",
   "execution_count": 6,
   "metadata": {
    "collapsed": false
   },
   "outputs": [
    {
     "data": {
      "text/html": [
       "<div>\n",
       "<table border=\"1\" class=\"dataframe\">\n",
       "  <thead>\n",
       "    <tr style=\"text-align: right;\">\n",
       "      <th>movieId</th>\n",
       "      <th>1</th>\n",
       "      <th>2</th>\n",
       "      <th>3</th>\n",
       "      <th>4</th>\n",
       "      <th>5</th>\n",
       "      <th>6</th>\n",
       "      <th>7</th>\n",
       "      <th>9</th>\n",
       "      <th>10</th>\n",
       "      <th>11</th>\n",
       "      <th>...</th>\n",
       "      <th>106487</th>\n",
       "      <th>106489</th>\n",
       "      <th>106782</th>\n",
       "      <th>106920</th>\n",
       "      <th>109374</th>\n",
       "      <th>109487</th>\n",
       "      <th>111362</th>\n",
       "      <th>111759</th>\n",
       "      <th>112556</th>\n",
       "      <th>112852</th>\n",
       "    </tr>\n",
       "    <tr>\n",
       "      <th>userId</th>\n",
       "      <th></th>\n",
       "      <th></th>\n",
       "      <th></th>\n",
       "      <th></th>\n",
       "      <th></th>\n",
       "      <th></th>\n",
       "      <th></th>\n",
       "      <th></th>\n",
       "      <th></th>\n",
       "      <th></th>\n",
       "      <th></th>\n",
       "      <th></th>\n",
       "      <th></th>\n",
       "      <th></th>\n",
       "      <th></th>\n",
       "      <th></th>\n",
       "      <th></th>\n",
       "      <th></th>\n",
       "      <th></th>\n",
       "      <th></th>\n",
       "      <th></th>\n",
       "    </tr>\n",
       "  </thead>\n",
       "  <tbody>\n",
       "    <tr>\n",
       "      <th>316</th>\n",
       "      <td>2.5</td>\n",
       "      <td>NaN</td>\n",
       "      <td>NaN</td>\n",
       "      <td>NaN</td>\n",
       "      <td>NaN</td>\n",
       "      <td>NaN</td>\n",
       "      <td>2.0</td>\n",
       "      <td>NaN</td>\n",
       "      <td>2.5</td>\n",
       "      <td>NaN</td>\n",
       "      <td>...</td>\n",
       "      <td>NaN</td>\n",
       "      <td>NaN</td>\n",
       "      <td>NaN</td>\n",
       "      <td>NaN</td>\n",
       "      <td>NaN</td>\n",
       "      <td>NaN</td>\n",
       "      <td>NaN</td>\n",
       "      <td>NaN</td>\n",
       "      <td>NaN</td>\n",
       "      <td>NaN</td>\n",
       "    </tr>\n",
       "    <tr>\n",
       "      <th>320</th>\n",
       "      <td>NaN</td>\n",
       "      <td>NaN</td>\n",
       "      <td>NaN</td>\n",
       "      <td>NaN</td>\n",
       "      <td>NaN</td>\n",
       "      <td>NaN</td>\n",
       "      <td>NaN</td>\n",
       "      <td>NaN</td>\n",
       "      <td>NaN</td>\n",
       "      <td>NaN</td>\n",
       "      <td>...</td>\n",
       "      <td>NaN</td>\n",
       "      <td>NaN</td>\n",
       "      <td>NaN</td>\n",
       "      <td>NaN</td>\n",
       "      <td>NaN</td>\n",
       "      <td>NaN</td>\n",
       "      <td>NaN</td>\n",
       "      <td>NaN</td>\n",
       "      <td>NaN</td>\n",
       "      <td>NaN</td>\n",
       "    </tr>\n",
       "    <tr>\n",
       "      <th>359</th>\n",
       "      <td>5.0</td>\n",
       "      <td>NaN</td>\n",
       "      <td>NaN</td>\n",
       "      <td>NaN</td>\n",
       "      <td>NaN</td>\n",
       "      <td>5.0</td>\n",
       "      <td>NaN</td>\n",
       "      <td>NaN</td>\n",
       "      <td>4.0</td>\n",
       "      <td>4.0</td>\n",
       "      <td>...</td>\n",
       "      <td>NaN</td>\n",
       "      <td>NaN</td>\n",
       "      <td>NaN</td>\n",
       "      <td>NaN</td>\n",
       "      <td>NaN</td>\n",
       "      <td>NaN</td>\n",
       "      <td>NaN</td>\n",
       "      <td>NaN</td>\n",
       "      <td>NaN</td>\n",
       "      <td>NaN</td>\n",
       "    </tr>\n",
       "    <tr>\n",
       "      <th>370</th>\n",
       "      <td>4.5</td>\n",
       "      <td>4.0</td>\n",
       "      <td>NaN</td>\n",
       "      <td>NaN</td>\n",
       "      <td>NaN</td>\n",
       "      <td>5.0</td>\n",
       "      <td>NaN</td>\n",
       "      <td>NaN</td>\n",
       "      <td>NaN</td>\n",
       "      <td>NaN</td>\n",
       "      <td>...</td>\n",
       "      <td>2.5</td>\n",
       "      <td>3.0</td>\n",
       "      <td>4.5</td>\n",
       "      <td>4.0</td>\n",
       "      <td>NaN</td>\n",
       "      <td>NaN</td>\n",
       "      <td>3.0</td>\n",
       "      <td>4.5</td>\n",
       "      <td>3.5</td>\n",
       "      <td>3.0</td>\n",
       "    </tr>\n",
       "    <tr>\n",
       "      <th>910</th>\n",
       "      <td>5.0</td>\n",
       "      <td>4.0</td>\n",
       "      <td>3.5</td>\n",
       "      <td>NaN</td>\n",
       "      <td>3.5</td>\n",
       "      <td>3.5</td>\n",
       "      <td>NaN</td>\n",
       "      <td>NaN</td>\n",
       "      <td>NaN</td>\n",
       "      <td>4.0</td>\n",
       "      <td>...</td>\n",
       "      <td>NaN</td>\n",
       "      <td>NaN</td>\n",
       "      <td>3.5</td>\n",
       "      <td>NaN</td>\n",
       "      <td>NaN</td>\n",
       "      <td>NaN</td>\n",
       "      <td>NaN</td>\n",
       "      <td>4.5</td>\n",
       "      <td>NaN</td>\n",
       "      <td>NaN</td>\n",
       "    </tr>\n",
       "  </tbody>\n",
       "</table>\n",
       "<p>5 rows × 2500 columns</p>\n",
       "</div>"
      ],
      "text/plain": [
       "movieId  1       2       3       4       5       6       7       9       \\\n",
       "userId                                                                    \n",
       "316         2.5     NaN     NaN     NaN     NaN     NaN     2.0     NaN   \n",
       "320         NaN     NaN     NaN     NaN     NaN     NaN     NaN     NaN   \n",
       "359         5.0     NaN     NaN     NaN     NaN     5.0     NaN     NaN   \n",
       "370         4.5     4.0     NaN     NaN     NaN     5.0     NaN     NaN   \n",
       "910         5.0     4.0     3.5     NaN     3.5     3.5     NaN     NaN   \n",
       "\n",
       "movieId  10      11       ...    106487  106489  106782  106920  109374  \\\n",
       "userId                    ...                                             \n",
       "316         2.5     NaN   ...       NaN     NaN     NaN     NaN     NaN   \n",
       "320         NaN     NaN   ...       NaN     NaN     NaN     NaN     NaN   \n",
       "359         4.0     4.0   ...       NaN     NaN     NaN     NaN     NaN   \n",
       "370         NaN     NaN   ...       2.5     3.0     4.5     4.0     NaN   \n",
       "910         NaN     4.0   ...       NaN     NaN     3.5     NaN     NaN   \n",
       "\n",
       "movieId  109487  111362  111759  112556  112852  \n",
       "userId                                           \n",
       "316         NaN     NaN     NaN     NaN     NaN  \n",
       "320         NaN     NaN     NaN     NaN     NaN  \n",
       "359         NaN     NaN     NaN     NaN     NaN  \n",
       "370         NaN     3.0     4.5     3.5     3.0  \n",
       "910         NaN     NaN     4.5     NaN     NaN  \n",
       "\n",
       "[5 rows x 2500 columns]"
      ]
     },
     "execution_count": 6,
     "metadata": {},
     "output_type": "execute_result"
    }
   ],
   "source": [
    "uv= ratings.groupby([\"userId\",\"movieId\"]).mean()[\"rating\"].unstack()\n",
    "uv.head()"
   ]
  },
  {
   "cell_type": "markdown",
   "metadata": {},
   "source": [
    "This is a nice display to have all information in one screen- User's rating to all movies.\n",
    "NaN shows user hasn't rated/watched? that movie."
   ]
  },
  {
   "cell_type": "code",
   "execution_count": 7,
   "metadata": {
    "collapsed": false
   },
   "outputs": [
    {
     "name": "stderr",
     "output_type": "stream",
     "text": [
      "C:\\Users\\rawnite\\Anaconda3\\lib\\site-packages\\numpy\\lib\\function_base.py:3834: RuntimeWarning: Invalid value encountered in percentile\n",
      "  RuntimeWarning)\n"
     ]
    }
   ],
   "source": [
    "urdist=ratings.groupby([\"movieId\",\"userId\"]).mean()[\"rating\"].unstack().describe()\n",
    "# user ranking distribution"
   ]
  },
  {
   "cell_type": "code",
   "execution_count": 8,
   "metadata": {
    "collapsed": false
   },
   "outputs": [
    {
     "name": "stdout",
     "output_type": "stream",
     "text": [
      "Max of mininum-rating that has been given by a user  3.5\n",
      "Min of maxinum-rating that has been given by a user  4.0\n"
     ]
    }
   ],
   "source": [
    "print(\"Max of mininum-rating that has been given by a user \",urdist.loc[\"min\"].max())\n",
    "print(\"Min of maxinum-rating that has been given by a user \",urdist.loc[\"max\"].min())"
   ]
  },
  {
   "cell_type": "markdown",
   "metadata": {},
   "source": [
    "It is better and wise to center mean of all the users. It means, a user who rate movies in range (1,3) might have given 3 star for good movie than to a user who rate movies in range (3,5), for whom 3 star is less than an average movie."
   ]
  },
  {
   "cell_type": "code",
   "execution_count": 9,
   "metadata": {
    "collapsed": false
   },
   "outputs": [],
   "source": [
    "uv_norm= uv.apply(lambda col: col-col.mean(), axis=1)"
   ]
  },
  {
   "cell_type": "code",
   "execution_count": 10,
   "metadata": {
    "collapsed": false
   },
   "outputs": [],
   "source": [
    "'''This function takes in normalized user rating data[centered around mean] and gives top k neighbors similar to\n",
    "target user, default is set to 30'''\n",
    "def uu_similarity(norm_data,target_user,sim_type={\"cosine\", \"pearson\"},n_neighbors=30):     \n",
    "    u_sim= {}\n",
    "    # this dictionary will store similarity between target_user and all other users.\n",
    "    if sim_type==\"cosine\":\n",
    "        processed_data=norm_data.fillna(0) \n",
    "        #consider all nan values as 0\n",
    "        for user in processed_data.index:\n",
    "            if user!=target_user:\n",
    "            #it will be redundant to calculate similarity with itself, since it will going to be 1 always.\n",
    "                u_sim[user]= pairwise.cosine_similarity(processed_data.loc[user].reshape(1,-1), \n",
    "                                                        processed_data.loc[target_user].reshape(1,-1)).reshape(-1)[0]\n",
    "                # cs= ui.uj/(|ui|*|uj|)\n",
    "                #cosine similarity weighs the user similarity by the number of movies they have rated\n",
    "            \n",
    "    elif sim_type==\"pearson\":\n",
    "        for user in norm_data:\n",
    "            if user!=target_user:\n",
    "                processed_data= norm_data.loc[[target_user, user],:].dropna(axis=1)\n",
    "                #it contains only movies that target user has rated\n",
    "                try:\n",
    "                    u_sim[user]= (processed_data.loc[user]*processed_data.loc[target_user]).sum()/(\n",
    "                        np.sqrt((processed_data.loc[user]**2).sum())*np.sqrt((processed_data.loc[target_user]**2).sum()))\n",
    "                    #calculate similarity between users based on common movies they have rated\n",
    "                except:\n",
    "                    u_sim[user]=0\n",
    "                    # if a user doesn't find any other who has rated same movies, it will give similarity of 0\n",
    "    \n",
    "    neighbors=pd.Series(u_sim, name=\"Similarity with_\"+str(target_user)).sort_values(ascending=False)[:n_neighbors]\n",
    "    # similarity values of all users with target user will be saved in pandas series with index as userId, it will give easy \n",
    "    #access to find similarity value with any other user\n",
    "    return neighbors"
   ]
  },
  {
   "cell_type": "code",
   "execution_count": 11,
   "metadata": {
    "collapsed": false
   },
   "outputs": [],
   "source": [
    "def predict_item_rating(col, neighbors, min_neigh):\n",
    "    if pd.notnull(col).sum()>=min_neigh:\n",
    "    #it will rate an item only if there are minimum number of users that has rated the item\n",
    "        numer=(col*neighbors).sum()\n",
    "        denom=np.abs(neighbors[pd.notnull(col)]).sum()\n",
    "\n",
    "        if denom==0: \n",
    "            return 0\n",
    "        else:\n",
    "            return numer/denom\n",
    "\n",
    "'''This function will give recommendation of top-K movies based on user- user similar rating'''\n",
    "def get_kTop_uuRecom(data,target_user,sim_type={\"cosine\", \"pearson\"}, n_neighbors=30, k=10, min_neighbors=2):\n",
    "    \n",
    "    data_norm=data.apply(lambda col: col-col.mean(), axis=1)\n",
    "    # center user-rating first.\n",
    "    \n",
    "    neighbors= uu_similarity(data_norm,target_user= target_user,sim_type=sim_type,n_neighbors=n_neighbors)\n",
    "    #we will call above function to get top n similar neighbors\n",
    "    \n",
    "    n_index= list(neighbors.index)\n",
    "    items_to_pred= list(data_norm.loc[target_user][pd.isnull(data_norm.loc[target_user])].index)\n",
    "    # this will store all items that a user has not rated\n",
    "    rel_data= data_norm.loc[n_index, items_to_pred]\n",
    "    # this dataset will contain top n similar neighbors to target user and movies that has not been rated by target user\n",
    "    \n",
    "    top_k_recom= (data.loc[target_user].mean()+rel_data.apply(lambda col: predict_item_rating(col, neighbors,min_neigh=min_neighbors), \n",
    "                                                              axis=0)).sort_values(ascending=False)[:k]\n",
    "    #prediction for item rating is calculated by weighted sum of rating by similar users. Then sorted by ratings and get \n",
    "    #top k items \n",
    "    \n",
    "    return top_k_recom"
   ]
  },
  {
   "cell_type": "code",
   "execution_count": 12,
   "metadata": {
    "collapsed": false
   },
   "outputs": [
    {
     "data": {
      "text/plain": [
       "movieId\n",
       "1203    4.888394\n",
       "2019    4.882517\n",
       "3307    4.882077\n",
       "3265    4.868147\n",
       "3871    4.802287\n",
       "7502    4.800042\n",
       "2966    4.797656\n",
       "2010    4.791219\n",
       "4406    4.789837\n",
       "3462    4.781053\n",
       "dtype: float64"
      ]
     },
     "execution_count": 12,
     "metadata": {},
     "output_type": "execute_result"
    }
   ],
   "source": [
    "get_kTop_uuRecom(uv, 910, sim_type=\"cosine\", n_neighbors=50, min_neighbors=5)"
   ]
  },
  {
   "cell_type": "code",
   "execution_count": 13,
   "metadata": {
    "collapsed": false
   },
   "outputs": [
    {
     "data": {
      "text/plain": [
       "movieId\n",
       "47       4.818823\n",
       "1200     4.680151\n",
       "1625     4.640162\n",
       "4226     4.592490\n",
       "1089     4.556940\n",
       "1246     4.472049\n",
       "32587    4.460115\n",
       "1127     4.348337\n",
       "2329     4.313072\n",
       "5349     4.289654\n",
       "dtype: float64"
      ]
     },
     "execution_count": 13,
     "metadata": {},
     "output_type": "execute_result"
    }
   ],
   "source": [
    "get_kTop_uuRecom(uv, 910, sim_type=\"pearson\", n_neighbors=50, min_neighbors=5)"
   ]
  },
  {
   "cell_type": "code",
   "execution_count": null,
   "metadata": {
    "collapsed": true
   },
   "outputs": [],
   "source": []
  }
 ],
 "metadata": {
  "anaconda-cloud": {},
  "kernelspec": {
   "display_name": "Python [conda root]",
   "language": "python",
   "name": "conda-root-py"
  },
  "language_info": {
   "codemirror_mode": {
    "name": "ipython",
    "version": 3
   },
   "file_extension": ".py",
   "mimetype": "text/x-python",
   "name": "python",
   "nbconvert_exporter": "python",
   "pygments_lexer": "ipython3",
   "version": "3.5.2"
  }
 },
 "nbformat": 4,
 "nbformat_minor": 1
}
