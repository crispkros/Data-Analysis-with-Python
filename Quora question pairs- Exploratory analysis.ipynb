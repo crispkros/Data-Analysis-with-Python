{
 "cells": [
  {
   "cell_type": "code",
   "execution_count": 1,
   "metadata": {
    "collapsed": true
   },
   "outputs": [],
   "source": [
    "import pandas as pd, numpy as np, seaborn as sns\n",
    "import matplotlib.pyplot as plt\n",
    "%matplotlib inline\n",
    "from nltk import wordpunct_tokenize, pos_tag\n",
    "from nltk.stem import PorterStemmer\n",
    "from nltk.corpus import wordnet as wn\n",
    "import pickle, string, re\n",
    "from sklearn.feature_extraction.text import TfidfVectorizer\n",
    "from sklearn.metrics.pairwise import cosine_similarity"
   ]
  },
  {
   "cell_type": "code",
   "execution_count": 2,
   "metadata": {},
   "outputs": [
    {
     "name": "stdout",
     "output_type": "stream",
     "text": [
      "(404290, 6)\n"
     ]
    },
    {
     "data": {
      "text/html": [
       "<div>\n",
       "<style>\n",
       "    .dataframe thead tr:only-child th {\n",
       "        text-align: right;\n",
       "    }\n",
       "\n",
       "    .dataframe thead th {\n",
       "        text-align: left;\n",
       "    }\n",
       "\n",
       "    .dataframe tbody tr th {\n",
       "        vertical-align: top;\n",
       "    }\n",
       "</style>\n",
       "<table border=\"1\" class=\"dataframe\">\n",
       "  <thead>\n",
       "    <tr style=\"text-align: right;\">\n",
       "      <th></th>\n",
       "      <th>id</th>\n",
       "      <th>qid1</th>\n",
       "      <th>qid2</th>\n",
       "      <th>question1</th>\n",
       "      <th>question2</th>\n",
       "      <th>is_duplicate</th>\n",
       "    </tr>\n",
       "  </thead>\n",
       "  <tbody>\n",
       "    <tr>\n",
       "      <th>0</th>\n",
       "      <td>0</td>\n",
       "      <td>1</td>\n",
       "      <td>2</td>\n",
       "      <td>What is the step by step guide to invest in sh...</td>\n",
       "      <td>What is the step by step guide to invest in sh...</td>\n",
       "      <td>0</td>\n",
       "    </tr>\n",
       "    <tr>\n",
       "      <th>1</th>\n",
       "      <td>1</td>\n",
       "      <td>3</td>\n",
       "      <td>4</td>\n",
       "      <td>What is the story of Kohinoor (Koh-i-Noor) Dia...</td>\n",
       "      <td>What would happen if the Indian government sto...</td>\n",
       "      <td>0</td>\n",
       "    </tr>\n",
       "    <tr>\n",
       "      <th>2</th>\n",
       "      <td>2</td>\n",
       "      <td>5</td>\n",
       "      <td>6</td>\n",
       "      <td>How can I increase the speed of my internet co...</td>\n",
       "      <td>How can Internet speed be increased by hacking...</td>\n",
       "      <td>0</td>\n",
       "    </tr>\n",
       "    <tr>\n",
       "      <th>3</th>\n",
       "      <td>3</td>\n",
       "      <td>7</td>\n",
       "      <td>8</td>\n",
       "      <td>Why am I mentally very lonely? How can I solve...</td>\n",
       "      <td>Find the remainder when [math]23^{24}[/math] i...</td>\n",
       "      <td>0</td>\n",
       "    </tr>\n",
       "    <tr>\n",
       "      <th>4</th>\n",
       "      <td>4</td>\n",
       "      <td>9</td>\n",
       "      <td>10</td>\n",
       "      <td>Which one dissolve in water quikly sugar, salt...</td>\n",
       "      <td>Which fish would survive in salt water?</td>\n",
       "      <td>0</td>\n",
       "    </tr>\n",
       "  </tbody>\n",
       "</table>\n",
       "</div>"
      ],
      "text/plain": [
       "   id  qid1  qid2                                          question1  \\\n",
       "0   0     1     2  What is the step by step guide to invest in sh...   \n",
       "1   1     3     4  What is the story of Kohinoor (Koh-i-Noor) Dia...   \n",
       "2   2     5     6  How can I increase the speed of my internet co...   \n",
       "3   3     7     8  Why am I mentally very lonely? How can I solve...   \n",
       "4   4     9    10  Which one dissolve in water quikly sugar, salt...   \n",
       "\n",
       "                                           question2  is_duplicate  \n",
       "0  What is the step by step guide to invest in sh...             0  \n",
       "1  What would happen if the Indian government sto...             0  \n",
       "2  How can Internet speed be increased by hacking...             0  \n",
       "3  Find the remainder when [math]23^{24}[/math] i...             0  \n",
       "4            Which fish would survive in salt water?             0  "
      ]
     },
     "execution_count": 2,
     "metadata": {},
     "output_type": "execute_result"
    }
   ],
   "source": [
    "quora = pd.read_csv(\"train.csv\")\n",
    "print(quora.shape)\n",
    "quora.head()"
   ]
  },
  {
   "cell_type": "code",
   "execution_count": 3,
   "metadata": {},
   "outputs": [
    {
     "data": {
      "text/plain": [
       "id              0\n",
       "qid1            0\n",
       "qid2            0\n",
       "question1       0\n",
       "question2       2\n",
       "is_duplicate    0\n",
       "dtype: int64"
      ]
     },
     "execution_count": 3,
     "metadata": {},
     "output_type": "execute_result"
    }
   ],
   "source": [
    "quora.isnull().sum(axis=0)  ##finding out NA values"
   ]
  },
  {
   "cell_type": "code",
   "execution_count": 4,
   "metadata": {
    "collapsed": true
   },
   "outputs": [],
   "source": [
    "quora.dropna(axis=0, inplace=True) \n",
    "#dropping rows which don't have any text, because the data would be useless to us if we can't match it with anything"
   ]
  },
  {
   "cell_type": "code",
   "execution_count": 5,
   "metadata": {},
   "outputs": [
    {
     "data": {
      "text/plain": [
       "0.36919967943644133"
      ]
     },
     "execution_count": 5,
     "metadata": {},
     "output_type": "execute_result"
    }
   ],
   "source": [
    "quora.is_duplicate.mean(axis=0) # proportion of questions matched in the dataset"
   ]
  },
  {
   "cell_type": "code",
   "execution_count": 9,
   "metadata": {},
   "outputs": [
    {
     "data": {
      "text/plain": [
       "<matplotlib.text.Text at 0x25a0009a1d0>"
      ]
     },
     "execution_count": 9,
     "metadata": {},
     "output_type": "execute_result"
    },
    {
     "data": {
      "image/png": "[encoded data removed]",
      "text/plain": [
       "<matplotlib.figure.Figure at 0x25a744dad68>"
      ]
     },
     "metadata": {},
     "output_type": "display_data"
    }
   ],
   "source": [
    "a= quora[\"question2\"].str.len().append(quora[\"question1\"].str.len())\n",
    "fig, ax= plt.subplots(1,1, figsize= (15,6))\n",
    "sns.distplot(a, ax=ax, hist=False)\n",
    "plt.title(\"Character length in quora questions\")\n",
    "plt.xlabel(\"Number of characters\")\n",
    "plt.ylabel(\"Proportion of questions\")\n",
    "'''most of the questions have character length less than ~150?'''"
   ]
  },
  {
   "cell_type": "code",
   "execution_count": 13,
   "metadata": {},
   "outputs": [
    {
     "data": {
      "text/plain": [
       "'most of the questions have word length less than ~30'"
      ]
     },
     "execution_count": 13,
     "metadata": {},
     "output_type": "execute_result"
    },
    {
     "data": {
      "image/png": "[encoded data removed]",
      "text/plain": [
       "<matplotlib.figure.Figure at 0x25a000b7e80>"
      ]
     },
     "metadata": {},
     "output_type": "display_data"
    }
   ],
   "source": [
    "aa= quora.question1.append(quora.question2).apply(lambda row: len([w for w in re.findall(r'\\w+', row)]))\n",
    "fig, ax= plt.subplots(1,1, figsize= (15,6))\n",
    "sns.distplot(aa, ax=ax, hist=False)\n",
    "plt.title(\"#Words in quora questions\")\n",
    "plt.xlabel(\"Number of words\")\n",
    "plt.ylabel(\"Proportion of questions\")\n",
    "'''most of the questions have word length less than ~30?'''"
   ]
  },
  {
   "cell_type": "code",
   "execution_count": 15,
   "metadata": {},
   "outputs": [
    {
     "data": {
      "text/plain": [
       "<matplotlib.axes._subplots.AxesSubplot at 0x25a73235be0>"
      ]
     },
     "execution_count": 15,
     "metadata": {},
     "output_type": "execute_result"
    },
    {
     "data": {
      "image/png": "[encoded data removed]",
      "text/plain": [
       "<matplotlib.figure.Figure at 0x25a008c18d0>"
      ]
     },
     "metadata": {},
     "output_type": "display_data"
    }
   ],
   "source": [
    "plt.figure(figsize=(15,6))\n",
    "quora.qid1.append(quora.qid2).value_counts().hist(bins= 100)\n",
    "'''there many questions which are unique, however some questions are repeated more than once and are matched with some other ques'''"
   ]
  },
  {
   "cell_type": "code",
   "execution_count": 16,
   "metadata": {},
   "outputs": [],
   "source": [
    "stemmer= PorterStemmer()\n",
    "def splitQues(ques): \n",
    "    '''it takes in a string and will split it on alphanumerical characters. I found it more robust than \n",
    "    wordpunct_tokenize from nltk. Additionaly it will stem the tokens into its root and convert it into lower case characters'''\n",
    "    tokenized= []\n",
    "    for word in re.findall(r'\\w+', ques):\n",
    "        tokenized.append(stemmer.stem(word.lower()))\n",
    "    return tokenized\n",
    "\n",
    "def convert_tag(tag):\n",
    "    '''the function converts the tags from postag to the tags comprehended by wordnet synsets'''\n",
    "    tag_dict = {'N': 'n', 'J': 'a', 'R': 'r', 'V': 'v'}\n",
    "    try:\n",
    "        return tag_dict[tag[0]]\n",
    "    except KeyError:\n",
    "        return None\n",
    "\n",
    "def text_tosynset(text):\n",
    "    '''the function converts the text to a list of synsets of contained words'''\n",
    "    text_synsets= []\n",
    "    for w,tag in pos_tag(wordpunct_tokenize(text)):\n",
    "        syn= wn.synsets(w.lower(), pos= convert_tag(tag))\n",
    "        if (convert_tag(tag) is not None) and (len(syn) > 0):\n",
    "            text_synsets.append(syn[0])\n",
    "    return text_synsets\n",
    "\n",
    "def calc_pathsimilarity(text1, text2):\n",
    "    '''the function looks for each synset in text1 and calcuates path_similarity with all synsets in text2(nltk). \n",
    "    It returns the average of maximum computed similarity between synsets in two texts'''\n",
    "    syn1= text_tosynset(text1)\n",
    "    syn2= text_tosynset(text2)\n",
    "    \n",
    "    similarity_scores=[]\n",
    "    for s1 in syn1:\n",
    "        sim_scores_syn= []\n",
    "        for s2 in syn2:\n",
    "            syn_score= wn.synset(s1.name()).path_similarity(wn.synset(s2.name()))\n",
    "            if syn_score is not None:\n",
    "                sim_scores_syn.append(syn_score)\n",
    "            \n",
    "        if len(sim_scores_syn)>0:\n",
    "            similarity_scores.append(max(sim_scores_syn))\n",
    "    try:\n",
    "        return sum(similarity_scores)/len(similarity_scores)\n",
    "    except:\n",
    "        return 0\n",
    "    \n",
    "def compute_pathsimilarity_score(text1, text2):\n",
    "    s1= calc_pathsimilarity(text1, text2)\n",
    "    s2= calc_pathsimilarity(text2, text1)\n",
    "    \n",
    "    return (s1+s2)/2\n",
    "\n",
    "\n",
    "##calculating similarities for words which couldnt be found in wn.synsets\n",
    "def jaccard_similarity(text1, text2):  #equivalent to jaccard similarity\n",
    "    '''It calculates jaccard similary between two texts'''\n",
    "    q1set= set(splitQues(text1))\n",
    "    q2set= set(splitQues(text2))\n",
    "    commonwordsN = len(q1set.intersection(q2set))\n",
    "    try:\n",
    "        cwr= commonwordsN/len(q1set.union(q2set)) \n",
    "    except:\n",
    "        cwr= 0\n",
    "    return cwr\n",
    "\n",
    "\n",
    "def find_weightedSimilarity(row, trained_tfidf):\n",
    "    ''' it returns similarity of words weighted by tfidf'''\n",
    "    tfarray= trained_tfidf.transform(row[[\"question1\", \"question2\"]]).toarray()\n",
    "    try:\n",
    "        cs= np.squeeze(cosine_similarity(tfarray[0,:].reshape(1,-1), tfarray[1,:].reshape(1,-1))).item()\n",
    "\n",
    "    except:\n",
    "        print(ValueError(\"couldn't calculate for \" + str(row)))\n",
    "        cs=0\n",
    "    return cs"
   ]
  },
  {
   "cell_type": "code",
   "execution_count": 18,
   "metadata": {},
   "outputs": [],
   "source": [
    "'''below commands iterate over each rows and find similarities using above functions'''\n",
    "quora[\"path_similarity\"] = quora.apply(lambda x: compute_pathsimilarity_score(x[\"question1\"], x[\"question2\"]), axis= 1)\n",
    "quora[\"jacc_similarity\"] = quora.apply(lambda x: jaccard_similarity(x[\"question1\"], x[\"question2\"]), axis= 1)"
   ]
  },
  {
   "cell_type": "code",
   "execution_count": 20,
   "metadata": {
    "collapsed": true
   },
   "outputs": [],
   "source": [
    "'''I have saved everything in a pickle to avoid computing it over and over again'''\n",
    "# quora.to_pickle('quora.pickle')\n",
    "quora= pd.read_pickle('quora.pickle') "
   ]
  },
  {
   "cell_type": "code",
   "execution_count": 21,
   "metadata": {},
   "outputs": [
    {
     "data": {
      "image/png": "[encoded data removed]",
      "text/plain": [
       "<matplotlib.figure.Figure at 0x25a0051a9e8>"
      ]
     },
     "metadata": {},
     "output_type": "display_data"
    }
   ],
   "source": [
    "plt.figure(figsize= (15,6))\n",
    "plt.hist(quora.loc[quora.is_duplicate==0, \"jacc_similarity\"], bins=100, color=\"red\", alpha= 0.3)\n",
    "plt.hist(quora.loc[quora.is_duplicate==1, \"jacc_similarity\"], bins=100, color=\"green\", alpha=0.3)\n",
    "plt.title('Jaccard similarity between pair of texts')\n",
    "plt.xlabel('Jaccard similarity')\n",
    "plt.ylabel('Number of questions')\n",
    "plt.show()"
   ]
  },
  {
   "cell_type": "code",
   "execution_count": 22,
   "metadata": {},
   "outputs": [
    {
     "data": {
      "image/png": "[encoded data removed]",
      "text/plain": [
       "<matplotlib.figure.Figure at 0x25a0051fc50>"
      ]
     },
     "metadata": {},
     "output_type": "display_data"
    }
   ],
   "source": [
    "plt.figure(figsize= (15,6))\n",
    "plt.hist(quora.loc[quora.is_duplicate==0, \"path_similarity\"], bins=100, color=\"red\", alpha= 0.3)\n",
    "plt.hist(quora.loc[quora.is_duplicate==1, \"path_similarity\"], bins=100, color=\"green\", alpha=0.3)\n",
    "plt.title('Path similarity between pair of texts')\n",
    "plt.xlabel('Path similarity')\n",
    "plt.ylabel('Number of questions')\n",
    "plt.show()\n",
    "'''Path similarity does better than jaccard similarity in segregating the classes'''"
   ]
  },
  {
   "cell_type": "markdown",
   "metadata": {},
   "source": [
    "Creating a dictionary of questions to be fed in tfidf, since directly feeding the series of string to compute tfidf could skew the tfidf weigh from questions which are appearing more than once in the dataset"
   ]
  },
  {
   "cell_type": "code",
   "execution_count": 26,
   "metadata": {
    "collapsed": true
   },
   "outputs": [],
   "source": [
    "question_mapping= {}\n",
    "for qid in quora.qid1.append(quora.qid2).unique():   # creating data to compute tfidf by taking only unique texts\n",
    "    if not qid in question_mapping:\n",
    "        try: #if qid is found in qid1\n",
    "            question_mapping[qid]= quora.loc[quora.qid1==qid, \"question1\"].values[0]\n",
    "        except:  #or else look for qid in qid2\n",
    "            question_mapping[qid]= quora.loc[quora.qid2==qid, \"question2\"].values[0]\n",
    "\n",
    "f= open(\"question_mapping_dict.pickle\",\"wb+\")  #the above process takes time and hence would be wise to pickle it\n",
    "pickle.dump(question_mapping, f)\n",
    "f.close()"
   ]
  },
  {
   "cell_type": "code",
   "execution_count": 23,
   "metadata": {
    "collapsed": true
   },
   "outputs": [],
   "source": [
    "question_mapping_Series= pd.Series(question_mapping)  #saving the above dictionary in a pandas series for feeding it into tfidf\n",
    "tf= TfidfVectorizer(lowercase=True, tokenizer=splitQues)  # I have created my own tokenizer (see functions created above)\n",
    "X= tf.fit_transform(question_mapping_Series)\n",
    "tf_pickle= open(\"tfidf.pickle\", \"wb+\")\n",
    "pickle.dump(tf, tf_pickle)  #I think i am in love with pickle here"
   ]
  },
  {
   "cell_type": "code",
   "execution_count": 24,
   "metadata": {
    "collapsed": true
   },
   "outputs": [],
   "source": [
    "quora[\"tfidf_similarity\"] = quora.apply(lambda x: find_weightedSimilarity(x,tf), axis= 1) \n",
    "#it uses a function which computes tfidf of new dataset based on trained tf"
   ]
  },
  {
   "cell_type": "code",
   "execution_count": 26,
   "metadata": {},
   "outputs": [
    {
     "data": {
      "image/png": "[encoded data removed]",
      "text/plain": [
       "<matplotlib.figure.Figure at 0x25a06fd3cc0>"
      ]
     },
     "metadata": {},
     "output_type": "display_data"
    }
   ],
   "source": [
    "plt.figure(figsize= (15,6))\n",
    "plt.hist(quora.loc[quora.is_duplicate==0, \"tfidf_similarity\"], bins=100, color=\"red\", alpha= 0.3)\n",
    "plt.hist(quora.loc[quora.is_duplicate==1, \"tfidf_similarity\"], bins=100, color=\"green\", alpha=0.3)\n",
    "plt.title('TFIDF Weighted similarity between pair of texts')\n",
    "plt.xlabel('TFIDF Weighted  similarity')\n",
    "plt.ylabel('Number of questions')\n",
    "plt.show()"
   ]
  },
  {
   "cell_type": "markdown",
   "metadata": {},
   "source": [
    "The above two features are observed to be better in separating the two classes compared to making feature using alone common words (Jaccard similarity)"
   ]
  },
  {
   "cell_type": "code",
   "execution_count": 27,
   "metadata": {},
   "outputs": [
    {
     "data": {
      "text/html": [
       "<div>\n",
       "<style>\n",
       "    .dataframe thead tr:only-child th {\n",
       "        text-align: right;\n",
       "    }\n",
       "\n",
       "    .dataframe thead th {\n",
       "        text-align: left;\n",
       "    }\n",
       "\n",
       "    .dataframe tbody tr th {\n",
       "        vertical-align: top;\n",
       "    }\n",
       "</style>\n",
       "<table border=\"1\" class=\"dataframe\">\n",
       "  <thead>\n",
       "    <tr style=\"text-align: right;\">\n",
       "      <th></th>\n",
       "      <th>id</th>\n",
       "      <th>qid1</th>\n",
       "      <th>qid2</th>\n",
       "      <th>question1</th>\n",
       "      <th>question2</th>\n",
       "      <th>is_duplicate</th>\n",
       "      <th>path_similarity</th>\n",
       "      <th>jacc_similarity</th>\n",
       "      <th>tfidf_similarity</th>\n",
       "    </tr>\n",
       "  </thead>\n",
       "  <tbody>\n",
       "    <tr>\n",
       "      <th>0</th>\n",
       "      <td>0</td>\n",
       "      <td>1</td>\n",
       "      <td>2</td>\n",
       "      <td>What is the step by step guide to invest in sh...</td>\n",
       "      <td>What is the step by step guide to invest in sh...</td>\n",
       "      <td>0</td>\n",
       "      <td>0.933333</td>\n",
       "      <td>0.916667</td>\n",
       "      <td>0.973957</td>\n",
       "    </tr>\n",
       "    <tr>\n",
       "      <th>1</th>\n",
       "      <td>1</td>\n",
       "      <td>3</td>\n",
       "      <td>4</td>\n",
       "      <td>What is the story of Kohinoor (Koh-i-Noor) Dia...</td>\n",
       "      <td>What would happen if the Indian government sto...</td>\n",
       "      <td>0</td>\n",
       "      <td>0.582143</td>\n",
       "      <td>0.411765</td>\n",
       "      <td>0.760246</td>\n",
       "    </tr>\n",
       "    <tr>\n",
       "      <th>2</th>\n",
       "      <td>2</td>\n",
       "      <td>5</td>\n",
       "      <td>6</td>\n",
       "      <td>How can I increase the speed of my internet co...</td>\n",
       "      <td>How can Internet speed be increased by hacking...</td>\n",
       "      <td>0</td>\n",
       "      <td>0.574359</td>\n",
       "      <td>0.263158</td>\n",
       "      <td>0.398740</td>\n",
       "    </tr>\n",
       "    <tr>\n",
       "      <th>3</th>\n",
       "      <td>3</td>\n",
       "      <td>7</td>\n",
       "      <td>8</td>\n",
       "      <td>Why am I mentally very lonely? How can I solve...</td>\n",
       "      <td>Find the remainder when [math]23^{24}[/math] i...</td>\n",
       "      <td>0</td>\n",
       "      <td>0.612500</td>\n",
       "      <td>0.000000</td>\n",
       "      <td>0.000000</td>\n",
       "    </tr>\n",
       "    <tr>\n",
       "      <th>4</th>\n",
       "      <td>4</td>\n",
       "      <td>9</td>\n",
       "      <td>10</td>\n",
       "      <td>Which one dissolve in water quikly sugar, salt...</td>\n",
       "      <td>Which fish would survive in salt water?</td>\n",
       "      <td>0</td>\n",
       "      <td>0.483320</td>\n",
       "      <td>0.250000</td>\n",
       "      <td>0.268680</td>\n",
       "    </tr>\n",
       "  </tbody>\n",
       "</table>\n",
       "</div>"
      ],
      "text/plain": [
       "   id  qid1  qid2                                          question1  \\\n",
       "0   0     1     2  What is the step by step guide to invest in sh...   \n",
       "1   1     3     4  What is the story of Kohinoor (Koh-i-Noor) Dia...   \n",
       "2   2     5     6  How can I increase the speed of my internet co...   \n",
       "3   3     7     8  Why am I mentally very lonely? How can I solve...   \n",
       "4   4     9    10  Which one dissolve in water quikly sugar, salt...   \n",
       "\n",
       "                                           question2  is_duplicate  \\\n",
       "0  What is the step by step guide to invest in sh...             0   \n",
       "1  What would happen if the Indian government sto...             0   \n",
       "2  How can Internet speed be increased by hacking...             0   \n",
       "3  Find the remainder when [math]23^{24}[/math] i...             0   \n",
       "4            Which fish would survive in salt water?             0   \n",
       "\n",
       "   path_similarity  jacc_similarity  tfidf_similarity  \n",
       "0         0.933333         0.916667          0.973957  \n",
       "1         0.582143         0.411765          0.760246  \n",
       "2         0.574359         0.263158          0.398740  \n",
       "3         0.612500         0.000000          0.000000  \n",
       "4         0.483320         0.250000          0.268680  "
      ]
     },
     "execution_count": 27,
     "metadata": {},
     "output_type": "execute_result"
    }
   ],
   "source": [
    "quora.to_pickle('quora.pickle')\n",
    "quora.head()"
   ]
  },
  {
   "cell_type": "code",
   "execution_count": 28,
   "metadata": {
    "collapsed": true
   },
   "outputs": [],
   "source": [
    "from sklearn.metrics import roc_auc_score, log_loss\n",
    "from sklearn.linear_model import LogisticRegression\n",
    "from sklearn.cross_validation import train_test_split"
   ]
  },
  {
   "cell_type": "code",
   "execution_count": 38,
   "metadata": {},
   "outputs": [
    {
     "name": "stdout",
     "output_type": "stream",
     "text": [
      "ROC score of test set 0.743649527708155\n",
      "Log loss value of train set 0.5605487198187185\n",
      "Log loss value of test set 0.5620086788585419\n"
     ]
    }
   ],
   "source": [
    "xtrain, xtest, ytrain, ytest= train_test_split(quora[[\"path_similarity\", \"jacc_similarity\", \"tfidf_similarity\"]], quora[\"is_duplicate\"], test_size= 0.7, random_state=4)\n",
    "\n",
    "lr= LogisticRegression()\n",
    "lr.fit(xtrain, ytrain)\n",
    "print(\"ROC score of test set {}\".format(roc_auc_score(ytest, lr.predict_proba(xtest)[:,1])))\n",
    "print(\"Log loss value of train set {}\".format(log_loss(ytrain, lr.predict_proba(xtrain))))\n",
    "print(\"Log loss value of test set {}\".format(log_loss(ytest, lr.predict_proba(xtest))))"
   ]
  },
  {
   "cell_type": "code",
   "execution_count": null,
   "metadata": {},
   "outputs": [],
   "source": [
    "'''Next script will be tuning trees to make a hopefully better model than this'''"
   ]
  },
  {
   "cell_type": "code",
   "execution_count": null,
   "metadata": {
    "collapsed": true
   },
   "outputs": [],
   "source": []
  }
 ],
 "metadata": {
  "anaconda-cloud": {},
  "kernelspec": {
   "display_name": "Python 3",
   "language": "python",
   "name": "python3"
  },
  "language_info": {
   "codemirror_mode": {
    "name": "ipython",
    "version": 3
   },
   "file_extension": ".py",
   "mimetype": "text/x-python",
   "name": "python",
   "nbconvert_exporter": "python",
   "pygments_lexer": "ipython3",
   "version": "3.6.1"
  }
 },
 "nbformat": 4,
 "nbformat_minor": 1
}
